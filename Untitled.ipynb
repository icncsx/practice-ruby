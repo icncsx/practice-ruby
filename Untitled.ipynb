{
 "cells": [
  {
   "cell_type": "markdown",
   "id": "83960a76",
   "metadata": {},
   "source": [
    "### `difference between Enumerator and Enumerable`\n",
    "\n",
    "First off, one is a class and the other is a module.\n",
    "\n",
    "- `Enumerator` is a class. `Enumerable` is a module."
   ]
  },
  {
   "cell_type": "code",
   "execution_count": 2,
   "id": "f8ab91a1",
   "metadata": {},
   "outputs": [
    {
     "data": {
      "text/plain": [
       "Class"
      ]
     },
     "execution_count": 2,
     "metadata": {},
     "output_type": "execute_result"
    }
   ],
   "source": [
    "Enumerator.class"
   ]
  },
  {
   "cell_type": "code",
   "execution_count": 3,
   "id": "22f4c411",
   "metadata": {},
   "outputs": [
    {
     "data": {
      "text/plain": [
       "Module"
      ]
     },
     "execution_count": 3,
     "metadata": {},
     "output_type": "execute_result"
    }
   ],
   "source": [
    "Enumerable.class"
   ]
  },
  {
   "cell_type": "markdown",
   "id": "188ba70f",
   "metadata": {},
   "source": [
    "Second off, an `Enumerator` is what gets returned when an `each` method is called upon an `Enumerable`.\n",
    "\n",
    "Take some time to ponder over this ^."
   ]
  },
  {
   "cell_type": "code",
   "execution_count": 6,
   "id": "5f0e8a2c",
   "metadata": {},
   "outputs": [
    {
     "data": {
      "text/plain": [
       "true"
      ]
     },
     "execution_count": 6,
     "metadata": {},
     "output_type": "execute_result"
    }
   ],
   "source": [
    "([].is_a? Enumerable) && ([].each.is_a? Enumerator)\n",
    "\n",
    "({}.is_a? Enumerable) && ({}.each.is_a? Enumerator)"
   ]
  },
  {
   "cell_type": "markdown",
   "id": "26e6b118",
   "metadata": {},
   "source": [
    "### `Enumerator#next`\n",
    "\n",
    "The `#next` method can only be called on an `Enumerator`."
   ]
  },
  {
   "cell_type": "code",
   "execution_count": 12,
   "id": "caf3241f",
   "metadata": {},
   "outputs": [
    {
     "data": {
      "text/plain": [
       "#<Enumerator: [1, 2, 3]:each>"
      ]
     },
     "execution_count": 12,
     "metadata": {},
     "output_type": "execute_result"
    }
   ],
   "source": [
    "arr = [1,2,3]\n",
    "\n",
    "arr_ = arr.each"
   ]
  },
  {
   "cell_type": "code",
   "execution_count": 13,
   "id": "badc5aca",
   "metadata": {},
   "outputs": [
    {
     "name": "stdout",
     "output_type": "stream",
     "text": [
      "1\n",
      "2\n",
      "3\n"
     ]
    },
    {
     "data": {
      "text/plain": [
       "3"
      ]
     },
     "execution_count": 13,
     "metadata": {},
     "output_type": "execute_result"
    }
   ],
   "source": [
    "p arr_.next\n",
    "p arr_.next\n",
    "p arr_.next"
   ]
  },
  {
   "cell_type": "markdown",
   "id": "43cef7a4",
   "metadata": {},
   "source": [
    "### `to_enum(:method)`\n",
    "\n",
    "Calling `to_enum` on a method returns an object that is **both an `Enumerator` and an `Enumerable`** object and will have access to all of their methods including `next`.\n",
    "\n",
    "`Enumerator#next` is going to return the first `yield` and pause execution."
   ]
  },
  {
   "cell_type": "code",
   "execution_count": 62,
   "id": "e6e24a12",
   "metadata": {},
   "outputs": [
    {
     "data": {
      "text/plain": [
       ":pokemon_generator"
      ]
     },
     "execution_count": 62,
     "metadata": {},
     "output_type": "execute_result"
    }
   ],
   "source": [
    "def pokemon_generator\n",
    "  yield \"charmander\"\n",
    "  yield \"squirtle\"\n",
    "  yield \"the other green pokemon\"\n",
    "end"
   ]
  },
  {
   "cell_type": "code",
   "execution_count": 63,
   "id": "dfb92d25",
   "metadata": {},
   "outputs": [
    {
     "data": {
      "text/plain": [
       "#<Enumerator: #<Object:0x00007fdbde030e50>:pokemon_generator>"
      ]
     },
     "execution_count": 63,
     "metadata": {},
     "output_type": "execute_result"
    }
   ],
   "source": [
    "e = to_enum(:pokemon_generator)"
   ]
  },
  {
   "cell_type": "code",
   "execution_count": 64,
   "id": "fc539546",
   "metadata": {},
   "outputs": [
    {
     "data": {
      "text/plain": [
       "true"
      ]
     },
     "execution_count": 64,
     "metadata": {},
     "output_type": "execute_result"
    }
   ],
   "source": [
    "(e.is_a? Enumerator) && (e.is_a? Enumerable)"
   ]
  },
  {
   "cell_type": "code",
   "execution_count": 65,
   "id": "6b6f4ce3",
   "metadata": {},
   "outputs": [
    {
     "data": {
      "text/plain": [
       "[Enumerator, Enumerable, Object, JSON::Ext::Generator::GeneratorMethods::Object, Kernel, BasicObject]"
      ]
     },
     "execution_count": 65,
     "metadata": {},
     "output_type": "execute_result"
    }
   ],
   "source": [
    "e.class.ancestors"
   ]
  },
  {
   "cell_type": "code",
   "execution_count": 59,
   "id": "27b29b9f",
   "metadata": {},
   "outputs": [
    {
     "data": {
      "text/plain": [
       "[Enumerable, JSON::Ext::Generator::GeneratorMethods::Object, Kernel]"
      ]
     },
     "execution_count": 59,
     "metadata": {},
     "output_type": "execute_result"
    }
   ],
   "source": [
    "Enumerator.included_modules"
   ]
  },
  {
   "cell_type": "code",
   "execution_count": null,
   "id": "5ef4d022",
   "metadata": {},
   "outputs": [],
   "source": [
    "p e.next\n",
    "p e.next\n",
    "p e.next"
   ]
  },
  {
   "cell_type": "markdown",
   "id": "89b5ead6",
   "metadata": {},
   "source": [
    "### `understanding the magic`\n",
    "\n",
    "This behavior seems magical. How is execution being paused after each yield?\n",
    "\n",
    "Ruby actually has an object called a Fiber which might demonstrate this more succinctly: http://apidock.com/ruby/Fiber They allow you to 'pause execution' at an arbitrary point in your program by calling `Fiber.yield` and resume where you left off at a later time.\n",
    "\n",
    "Basically, a fiber is like a thread, but it will pause whenever it yields by `Fiber.yield`, and resume whenever it is resumed by `Fiber#resume`."
   ]
  },
  {
   "cell_type": "code",
   "execution_count": 37,
   "id": "1c0a316b",
   "metadata": {},
   "outputs": [
    {
     "data": {
      "text/plain": [
       "#<Fiber:0x00007fdbda0bbd38@(irb):0 (created)>"
      ]
     },
     "execution_count": 37,
     "metadata": {},
     "output_type": "execute_result"
    }
   ],
   "source": [
    "pokemon_generator = Fiber.new do\n",
    "  Fiber.yield \"charmander\"\n",
    "  Fiber.yield \"squirtle\"\n",
    "  Fiber.yield \"the other green pokemon\"\n",
    "end"
   ]
  },
  {
   "cell_type": "code",
   "execution_count": 38,
   "id": "a90019af",
   "metadata": {},
   "outputs": [
    {
     "data": {
      "text/plain": [
       "\"charmander\""
      ]
     },
     "execution_count": 38,
     "metadata": {},
     "output_type": "execute_result"
    }
   ],
   "source": [
    "pokemon_generator.resume"
   ]
  },
  {
   "cell_type": "code",
   "execution_count": 39,
   "id": "850a2267",
   "metadata": {},
   "outputs": [
    {
     "data": {
      "text/plain": [
       "\"squirtle\""
      ]
     },
     "execution_count": 39,
     "metadata": {},
     "output_type": "execute_result"
    }
   ],
   "source": [
    "pokemon_generator.resume"
   ]
  },
  {
   "cell_type": "code",
   "execution_count": 40,
   "id": "2e48a9de",
   "metadata": {},
   "outputs": [
    {
     "data": {
      "text/plain": [
       "\"the other green pokemon\""
      ]
     },
     "execution_count": 40,
     "metadata": {},
     "output_type": "execute_result"
    }
   ],
   "source": [
    "pokemon_generator.resume"
   ]
  },
  {
   "cell_type": "markdown",
   "id": "c13e774b",
   "metadata": {},
   "source": [
    "`Enumerator` is almost the same concept, but adapted for iteration (whereas `Fiber` is more multi-purpose). In fact, we can write the above almost exactly word-for-word the same with an Enumerator.\n",
    "\n",
    "Note: an `Enumerator` is what gets returned when you call `each` on an object."
   ]
  },
  {
   "cell_type": "code",
   "execution_count": 131,
   "id": "5d3d9efb",
   "metadata": {},
   "outputs": [
    {
     "data": {
      "text/plain": [
       "#<Enumerator: #<Enumerator::Generator:0x00007fdbda10aa50>:each>"
      ]
     },
     "execution_count": 131,
     "metadata": {},
     "output_type": "execute_result"
    }
   ],
   "source": [
    "e = Enumerator.new do |yielder|\n",
    "  '''\n",
    "  [Enumerator::Yielder, Object, JSON::Ext::Generator::GeneratorMethods::Object, Kernel, BasicObject]  \n",
    "  [:yield, :<<]\n",
    "  '''\n",
    "  yielder << \"charmander\"\n",
    "  yielder << \"squirtle\"\n",
    "  yielder << \"the other green pokemon\"\n",
    "end"
   ]
  },
  {
   "cell_type": "code",
   "execution_count": 132,
   "id": "3031668b",
   "metadata": {},
   "outputs": [
    {
     "name": "stdout",
     "output_type": "stream",
     "text": [
      "\"charmander\"\n",
      "\"squirtle\"\n",
      "\"the other green pokemon\"\n"
     ]
    },
    {
     "data": {
      "text/plain": [
       "\"the other green pokemon\""
      ]
     },
     "execution_count": 132,
     "metadata": {},
     "output_type": "execute_result"
    }
   ],
   "source": [
    "p e.next\n",
    "p e.next\n",
    "p e.next"
   ]
  },
  {
   "cell_type": "code",
   "execution_count": null,
   "id": "e704472b",
   "metadata": {},
   "outputs": [],
   "source": []
  },
  {
   "cell_type": "code",
   "execution_count": null,
   "id": "cb17f56e",
   "metadata": {},
   "outputs": [],
   "source": []
  },
  {
   "cell_type": "code",
   "execution_count": null,
   "id": "ff5339d1",
   "metadata": {},
   "outputs": [],
   "source": []
  },
  {
   "cell_type": "code",
   "execution_count": 207,
   "id": "86c807a4",
   "metadata": {},
   "outputs": [
    {
     "data": {
      "text/plain": [
       "#<Fiber:0x00007fdbda09a458@(irb):8 (created)>"
      ]
     },
     "execution_count": 207,
     "metadata": {},
     "output_type": "execute_result"
    }
   ],
   "source": [
    "def pokemon_generator\n",
    "  Fiber.yield \"charmander\"\n",
    "  Fiber.yield \"squirtle\"\n",
    "  Fiber.yield \"the other green pokemon\"\n",
    "end\n",
    "\n",
    "yielder = Proc.new {|x| Fiber.yield x }\n",
    "\n",
    "abra = Fiber.new do\n",
    "  '''\n",
    "  nothing in here will be immediately invokable...\n",
    "  '''  \n",
    "  pokemon_generator { } \n",
    "end"
   ]
  },
  {
   "cell_type": "code",
   "execution_count": null,
   "id": "d8915b60",
   "metadata": {},
   "outputs": [],
   "source": []
  },
  {
   "cell_type": "code",
   "execution_count": 222,
   "id": "7d75507e",
   "metadata": {},
   "outputs": [
    {
     "data": {
      "text/plain": [
       "#<Fiber:0x00007fdbd998bb80@(irb):8 (created)>"
      ]
     },
     "execution_count": 222,
     "metadata": {},
     "output_type": "execute_result"
    }
   ],
   "source": [
    "def pokemon_generator\n",
    "  yield \"charmander\"\n",
    "  yield \"squirtle\"\n",
    "  yield \"the other green pokemon\"\n",
    "end\n",
    "\n",
    "yielder = Proc.new {|x| Fiber.yield x }\n",
    "\n",
    "abra = Fiber.new do\n",
    "  '''\n",
    "  nothing in here will be immediately invokable...\n",
    "  '''\n",
    "  pokemon_generator { |x| yielder.call x }\n",
    "end"
   ]
  },
  {
   "cell_type": "code",
   "execution_count": 223,
   "id": "cef17115",
   "metadata": {},
   "outputs": [],
   "source": []
  },
  {
   "cell_type": "code",
   "execution_count": 241,
   "id": "9786cdb9",
   "metadata": {},
   "outputs": [
    {
     "name": "stdout",
     "output_type": "stream",
     "text": [
      "1\n",
      "2\n",
      "3\n"
     ]
    },
    {
     "data": {
      "text/plain": [
       "3"
      ]
     },
     "execution_count": 241,
     "metadata": {},
     "output_type": "execute_result"
    }
   ],
   "source": []
  },
  {
   "cell_type": "code",
   "execution_count": null,
   "id": "c5ce7c69",
   "metadata": {},
   "outputs": [],
   "source": []
  },
  {
   "cell_type": "code",
   "execution_count": null,
   "id": "7850b9c9",
   "metadata": {},
   "outputs": [],
   "source": []
  },
  {
   "cell_type": "code",
   "execution_count": 23,
   "id": "9b426f14",
   "metadata": {},
   "outputs": [
    {
     "data": {
      "text/plain": [
       ":to_enum_"
      ]
     },
     "execution_count": 23,
     "metadata": {},
     "output_type": "execute_result"
    }
   ],
   "source": [
    "def to_enum_(name)\n",
    "  \n",
    "  yielder = Proc.new {|y| Fiber.yield y }  \n",
    "  \n",
    "  m = method(name)\n",
    "  \n",
    "  Fiber.new do \n",
    "    m.call { |y| yielder.call(y) }\n",
    "  end\n",
    "  \n",
    "end"
   ]
  },
  {
   "cell_type": "code",
   "execution_count": 24,
   "id": "0f28ba51",
   "metadata": {},
   "outputs": [
    {
     "data": {
      "text/plain": [
       ":pokemon_generator"
      ]
     },
     "execution_count": 24,
     "metadata": {},
     "output_type": "execute_result"
    }
   ],
   "source": [
    "def pokemon_generator\n",
    "  yield \"charmander\"\n",
    "  yield \"squirtle\"\n",
    "  yield \"the other green pokemon\"\n",
    "end"
   ]
  },
  {
   "cell_type": "code",
   "execution_count": 25,
   "id": "422f9f69",
   "metadata": {},
   "outputs": [
    {
     "name": "stdout",
     "output_type": "stream",
     "text": [
      "\"charmander\"\n",
      "\"squirtle\"\n",
      "\"the other green pokemon\"\n"
     ]
    },
    {
     "data": {
      "text/plain": [
       "\"the other green pokemon\""
      ]
     },
     "execution_count": 25,
     "metadata": {},
     "output_type": "execute_result"
    }
   ],
   "source": [
    "abra = to_enum_(:pokemon_generator)\n",
    "\n",
    "p abra.resume\n",
    "p abra.resume\n",
    "p abra.resume"
   ]
  },
  {
   "cell_type": "code",
   "execution_count": null,
   "id": "02a43164",
   "metadata": {},
   "outputs": [],
   "source": []
  },
  {
   "cell_type": "code",
   "execution_count": null,
   "id": "c567640e",
   "metadata": {},
   "outputs": [],
   "source": []
  },
  {
   "cell_type": "code",
   "execution_count": null,
   "id": "ec6ab1fb",
   "metadata": {},
   "outputs": [],
   "source": []
  },
  {
   "cell_type": "code",
   "execution_count": null,
   "id": "3350288e",
   "metadata": {},
   "outputs": [],
   "source": []
  },
  {
   "cell_type": "code",
   "execution_count": null,
   "id": "6f238d6c",
   "metadata": {},
   "outputs": [],
   "source": []
  },
  {
   "cell_type": "code",
   "execution_count": 212,
   "id": "b9deb8d4",
   "metadata": {},
   "outputs": [
    {
     "data": {
      "text/plain": [
       ":pokemon_generator"
      ]
     },
     "execution_count": 212,
     "metadata": {},
     "output_type": "execute_result"
    }
   ],
   "source": [
    "def pokemon_generator\n",
    "  yield \"charmander\"\n",
    "  yield \"squirtle\"\n",
    "  yield \"the other green pokemon\"\n",
    "end"
   ]
  },
  {
   "cell_type": "code",
   "execution_count": 214,
   "id": "afb38160",
   "metadata": {},
   "outputs": [
    {
     "data": {
      "text/plain": [
       "#<Enumerator: #<Object:0x00007fdbde030e50>:pokemon_generator>"
      ]
     },
     "execution_count": 214,
     "metadata": {},
     "output_type": "execute_result"
    }
   ],
   "source": [
    "a = to_enum(:pokemon_generator)"
   ]
  },
  {
   "cell_type": "code",
   "execution_count": 218,
   "id": "5a8a0032",
   "metadata": {},
   "outputs": [
    {
     "data": {
      "text/plain": [
       "[Enumerator, Enumerable, Object, JSON::Ext::Generator::GeneratorMethods::Object, Kernel, BasicObject]"
      ]
     },
     "execution_count": 218,
     "metadata": {},
     "output_type": "execute_result"
    }
   ],
   "source": [
    "a.class.ancestors"
   ]
  },
  {
   "cell_type": "code",
   "execution_count": null,
   "id": "dca4bcf6",
   "metadata": {},
   "outputs": [],
   "source": []
  },
  {
   "cell_type": "code",
   "execution_count": null,
   "id": "b15f59be",
   "metadata": {},
   "outputs": [],
   "source": []
  },
  {
   "cell_type": "code",
   "execution_count": null,
   "id": "b38634a8",
   "metadata": {},
   "outputs": [],
   "source": []
  },
  {
   "cell_type": "code",
   "execution_count": 48,
   "id": "7a75a7bd",
   "metadata": {},
   "outputs": [
    {
     "data": {
      "text/plain": [
       ":each"
      ]
     },
     "execution_count": 48,
     "metadata": {},
     "output_type": "execute_result"
    }
   ],
   "source": [
    "class MyEnumerator\n",
    "  \n",
    "  attr_reader :yielder\n",
    "\n",
    "  def initialize(&block)\n",
    "    @yielder = Fiber.new do\n",
    "      '''\n",
    "      Fiber.yield\n",
    "      '''\n",
    "      block.call Fiber\n",
    "      \n",
    "      raise StopIteration.new \"!!!!SKIRRT!!!!\" # raise an error if there is no more calls\n",
    "    end\n",
    "  end\n",
    "\n",
    "  def next_\n",
    "    yielder.resume\n",
    "  end\n",
    "  \n",
    "  def each(&block)\n",
    "    return enum_for(:each) unless block_given? # returning an enum_for...\n",
    "\n",
    "    begin\n",
    "      '''\n",
    "      loop do block wil escape StopIteration\n",
    "      https://ruby-doc.org/core-2.5.1/StopIteration.html      \n",
    "      \n",
    "      loop do\n",
    "        block.call(next_)\n",
    "      end\n",
    "      '''\n",
    "      while true\n",
    "        block.call(next_)\n",
    "      end\n",
    "    rescue StopIteration => ex\n",
    "        p ex\n",
    "    end\n",
    "\n",
    "  end  \n",
    "\n",
    "end"
   ]
  },
  {
   "cell_type": "code",
   "execution_count": 55,
   "id": "de1dae80",
   "metadata": {},
   "outputs": [
    {
     "data": {
      "text/plain": [
       "#<#<Class:0x00007fd27b124d50>::MyEnumerator:0x00007fd27bacafd0 @yielder=#<Fiber:0x00007fd27bacafa8@(irb):5 (created)>>"
      ]
     },
     "execution_count": 55,
     "metadata": {},
     "output_type": "execute_result"
    }
   ],
   "source": [
    "f = MyEnumerator.new do |yielder|\n",
    "  yielder.yield \"charmander\"\n",
    "  yielder.yield \"squirtle\"\n",
    "  yielder.yield \"the other green pokemon\"\n",
    "end"
   ]
  },
  {
   "cell_type": "code",
   "execution_count": 63,
   "id": "b69b1cfa",
   "metadata": {},
   "outputs": [
    {
     "ename": "FiberError",
     "evalue": "dead fiber called",
     "output_type": "error",
     "traceback": [
      "\u001b[31mFiberError\u001b[0m: dead fiber called",
      "(irb):16:in `resume'",
      "(irb):16:in `next_'",
      "(irb):32:in `each'",
      "(irb):in `irb_binding'"
     ]
    }
   ],
   "source": [
    "f.each do |x|\n",
    "  p x\n",
    "end"
   ]
  },
  {
   "cell_type": "code",
   "execution_count": 38,
   "id": "7aede278",
   "metadata": {},
   "outputs": [
    {
     "name": "stdout",
     "output_type": "stream",
     "text": [
      "\"charmander\"\n",
      "\"squirtle\"\n",
      "\"the other green pokemon\"\n"
     ]
    },
    {
     "data": {
      "text/plain": [
       "\"the other green pokemon\""
      ]
     },
     "execution_count": 38,
     "metadata": {},
     "output_type": "execute_result"
    }
   ],
   "source": [
    "p f.next_\n",
    "p f.next_\n",
    "p f.next_"
   ]
  }
 ],
 "metadata": {
  "kernelspec": {
   "display_name": "Ruby 2.6.8",
   "language": "ruby",
   "name": "ruby"
  },
  "language_info": {
   "file_extension": ".rb",
   "mimetype": "application/x-ruby",
   "name": "ruby",
   "version": "2.6.8"
  }
 },
 "nbformat": 4,
 "nbformat_minor": 5
}
