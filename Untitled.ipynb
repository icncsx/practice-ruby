{
 "cells": [
  {
   "cell_type": "markdown",
   "id": "23ac3b02",
   "metadata": {},
   "source": [
    "### `difference between Enumerator and Enumerable`\n",
    "\n",
    "First off, one is a class and the other is a module.\n",
    "\n",
    "- `Enumerator` is a class. `Enumerable` is a module."
   ]
  },
  {
   "cell_type": "code",
   "execution_count": 2,
   "id": "1825b0c3",
   "metadata": {},
   "outputs": [
    {
     "data": {
      "text/plain": [
       "Class"
      ]
     },
     "execution_count": 2,
     "metadata": {},
     "output_type": "execute_result"
    }
   ],
   "source": [
    "Enumerator.class"
   ]
  },
  {
   "cell_type": "code",
   "execution_count": 3,
   "id": "317275d9",
   "metadata": {},
   "outputs": [
    {
     "data": {
      "text/plain": [
       "Module"
      ]
     },
     "execution_count": 3,
     "metadata": {},
     "output_type": "execute_result"
    }
   ],
   "source": [
    "Enumerable.class"
   ]
  },
  {
   "cell_type": "markdown",
   "id": "e363ff6a",
   "metadata": {},
   "source": [
    "Second off, an `Enumerator` is what gets returned when an `each` method is called upon an `Enumerable`.\n",
    "\n",
    "Take some time to ponder over this ^."
   ]
  },
  {
   "cell_type": "code",
   "execution_count": 6,
   "id": "348f8572",
   "metadata": {},
   "outputs": [
    {
     "data": {
      "text/plain": [
       "true"
      ]
     },
     "execution_count": 6,
     "metadata": {},
     "output_type": "execute_result"
    }
   ],
   "source": [
    "([].is_a? Enumerable) && ([].each.is_a? Enumerator)\n",
    "\n",
    "({}.is_a? Enumerable) && ({}.each.is_a? Enumerator)"
   ]
  },
  {
   "cell_type": "markdown",
   "id": "94a02b72",
   "metadata": {},
   "source": [
    "### `Enumerator#next`\n",
    "\n",
    "The `#next` method can only be called on an `Enumerator`."
   ]
  },
  {
   "cell_type": "code",
   "execution_count": 12,
   "id": "497fda64",
   "metadata": {},
   "outputs": [
    {
     "data": {
      "text/plain": [
       "#<Enumerator: [1, 2, 3]:each>"
      ]
     },
     "execution_count": 12,
     "metadata": {},
     "output_type": "execute_result"
    }
   ],
   "source": [
    "arr = [1,2,3]\n",
    "\n",
    "arr_ = arr.each"
   ]
  },
  {
   "cell_type": "code",
   "execution_count": 13,
   "id": "5829d957",
   "metadata": {},
   "outputs": [
    {
     "name": "stdout",
     "output_type": "stream",
     "text": [
      "1\n",
      "2\n",
      "3\n"
     ]
    },
    {
     "data": {
      "text/plain": [
       "3"
      ]
     },
     "execution_count": 13,
     "metadata": {},
     "output_type": "execute_result"
    }
   ],
   "source": [
    "p arr_.next\n",
    "p arr_.next\n",
    "p arr_.next"
   ]
  },
  {
   "cell_type": "markdown",
   "id": "2f91ba5a",
   "metadata": {},
   "source": [
    "### `to_enum(:method)`\n",
    "\n",
    "Calling `to_enum` on a method returns an object that is **both an `Enumerator` and an `Enumerable`** object and will have access to all of their methods including `next`.\n",
    "\n",
    "`Enumerator#next` is going to return the first `yield` and pause execution."
   ]
  },
  {
   "cell_type": "code",
   "execution_count": 23,
   "id": "0bf390b7",
   "metadata": {},
   "outputs": [
    {
     "data": {
      "text/plain": [
       ":pokemon_generator"
      ]
     },
     "execution_count": 23,
     "metadata": {},
     "output_type": "execute_result"
    }
   ],
   "source": [
    "def pokemon_generator\n",
    "  yield \"charmander\"\n",
    "  yield \"squirtle\"\n",
    "  yield \"the other green pokemon\"\n",
    "end"
   ]
  },
  {
   "cell_type": "code",
   "execution_count": 24,
   "id": "679c2b61",
   "metadata": {},
   "outputs": [
    {
     "name": "stdout",
     "output_type": "stream",
     "text": [
      "\"charmander\"\n",
      "\"squirtle\"\n",
      "\"the other green pokemon\"\n"
     ]
    },
    {
     "data": {
      "text/plain": [
       "\"the other green pokemon\""
      ]
     },
     "execution_count": 24,
     "metadata": {},
     "output_type": "execute_result"
    }
   ],
   "source": [
    "abra = to_enum(:pokemon_generator)\n",
    "\n",
    "p abra.next\n",
    "p abra.next\n",
    "p abra.next"
   ]
  },
  {
   "cell_type": "code",
   "execution_count": 25,
   "id": "f0159fc7",
   "metadata": {},
   "outputs": [
    {
     "name": "stdout",
     "output_type": "stream",
     "text": [
      "\"charmander\"\n",
      "\"squirtle\"\n",
      "\"the other green pokemon\"\n"
     ]
    },
    {
     "data": {
      "text/plain": [
       "\"the other green pokemon\""
      ]
     },
     "execution_count": 25,
     "metadata": {},
     "output_type": "execute_result"
    }
   ],
   "source": [
    "abra = to_enum(:pokemon_generator)\n",
    "\n",
    "abra.each do |x|\n",
    "  p x\n",
    "end"
   ]
  },
  {
   "cell_type": "code",
   "execution_count": null,
   "id": "0c36a58d",
   "metadata": {},
   "outputs": [],
   "source": []
  },
  {
   "cell_type": "code",
   "execution_count": null,
   "id": "cef5109c",
   "metadata": {},
   "outputs": [],
   "source": []
  },
  {
   "cell_type": "code",
   "execution_count": null,
   "id": "8dc8fbbc",
   "metadata": {},
   "outputs": [],
   "source": []
  },
  {
   "cell_type": "code",
   "execution_count": null,
   "id": "ac448047",
   "metadata": {},
   "outputs": [],
   "source": []
  },
  {
   "cell_type": "code",
   "execution_count": null,
   "id": "54f4e7d6",
   "metadata": {},
   "outputs": [],
   "source": []
  }
 ],
 "metadata": {
  "kernelspec": {
   "display_name": "Ruby 2.6.8",
   "language": "ruby",
   "name": "ruby"
  },
  "language_info": {
   "file_extension": ".rb",
   "mimetype": "application/x-ruby",
   "name": "ruby",
   "version": "2.6.8"
  }
 },
 "nbformat": 4,
 "nbformat_minor": 5
}
