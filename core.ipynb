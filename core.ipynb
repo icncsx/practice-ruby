{
 "cells": [
  {
   "cell_type": "markdown",
   "id": "befecdb6",
   "metadata": {},
   "source": [
    "### `singleton methods`"
   ]
  },
  {
   "cell_type": "code",
   "execution_count": 6,
   "id": "45fcea40",
   "metadata": {},
   "outputs": [
    {
     "data": {
      "text/plain": [
       ":bar"
      ]
     },
     "execution_count": 6,
     "metadata": {},
     "output_type": "execute_result"
    }
   ],
   "source": [
    "foo = Object.new\n",
    "\n",
    "# can define a method directly on that object...\n",
    "def foo.bar\n",
    "  \"bar\"\n",
    "end"
   ]
  },
  {
   "cell_type": "markdown",
   "id": "5eee28e1",
   "metadata": {},
   "source": [
    "### `defining methods for many instances of a class`"
   ]
  },
  {
   "cell_type": "code",
   "execution_count": 9,
   "id": "f8ff12b2",
   "metadata": {},
   "outputs": [
    {
     "data": {
      "text/plain": [
       ":bar"
      ]
     },
     "execution_count": 9,
     "metadata": {},
     "output_type": "execute_result"
    }
   ],
   "source": [
    "class Foo\n",
    "  def bar\n",
    "    \"bar\"\n",
    "  end\n",
    "end"
   ]
  },
  {
   "cell_type": "markdown",
   "id": "b9038358",
   "metadata": {},
   "source": [
    "Note a Class is an Object. And we know that objects are instances of a class. So Foo (a Class) is an instance of some class. And that class is Class. I know, it's weird."
   ]
  },
  {
   "cell_type": "code",
   "execution_count": 14,
   "id": "02ec19bd",
   "metadata": {},
   "outputs": [
    {
     "data": {
      "text/plain": [
       "true"
      ]
     },
     "execution_count": 14,
     "metadata": {},
     "output_type": "execute_result"
    }
   ],
   "source": [
    "Foo.is_a? Class"
   ]
  },
  {
   "cell_type": "markdown",
   "id": "bcba6d48",
   "metadata": {},
   "source": [
    "So in fact we can define a class dynamically using Ruby like this. It's actually equivalent to the code we had above."
   ]
  },
  {
   "cell_type": "code",
   "execution_count": 15,
   "id": "e043b6d5",
   "metadata": {},
   "outputs": [
    {
     "name": "stderr",
     "output_type": "stream",
     "text": [
      "(irb): warning: already initialized constant Object::Foo\n"
     ]
    },
    {
     "data": {
      "text/plain": [
       "#<Class:0x00007fe7809771f0>::Foo"
      ]
     },
     "execution_count": 15,
     "metadata": {},
     "output_type": "execute_result"
    }
   ],
   "source": [
    "Foo = Class.new do\n",
    "  def bar\n",
    "    \"bar\"\n",
    "  end\n",
    "end"
   ]
  },
  {
   "cell_type": "markdown",
   "id": "ce524e5f",
   "metadata": {},
   "source": [
    "In summary a Class is an object that has the power to spawn new objects. Nontheless they are objects themselves."
   ]
  },
  {
   "cell_type": "markdown",
   "id": "ba868954",
   "metadata": {},
   "source": [
    "### `a Class is an object`\n",
    "\n",
    "We interact with objects by sending messages. Since we know a Class is an object, we therefore send it messages."
   ]
  },
  {
   "cell_type": "markdown",
   "id": "294f0cea",
   "metadata": {},
   "source": [
    "### `how to send methods to a Class object`\n",
    "\n",
    "Same syntax as how we've been sending messages to non-class objects (instances). Note: there are two ways to define a class method (define how a Class should respond to a specific message). You will see #3 a lot being used in the industry."
   ]
  },
  {
   "cell_type": "code",
   "execution_count": 26,
   "id": "10e7a98b",
   "metadata": {},
   "outputs": [
    {
     "data": {
      "text/plain": [
       ":add_three"
      ]
     },
     "execution_count": 26,
     "metadata": {},
     "output_type": "execute_result"
    }
   ],
   "source": [
    "class Foo\n",
    "  # 1\n",
    "  def self.add_one(x)\n",
    "    x + 1\n",
    "  end\n",
    "  \n",
    "  # 2\n",
    "  def Foo.add_two(x)\n",
    "    x + 2\n",
    "  end\n",
    "  \n",
    "  # 3\n",
    "  class << self\n",
    "    def Foo.add_three(x)\n",
    "      x + 3\n",
    "    end\n",
    "  end\n",
    "end"
   ]
  },
  {
   "cell_type": "code",
   "execution_count": 29,
   "id": "7a1b2563",
   "metadata": {},
   "outputs": [
    {
     "name": "stdout",
     "output_type": "stream",
     "text": [
      "true\n",
      "2\n"
     ]
    },
    {
     "data": {
      "text/plain": [
       "2"
      ]
     },
     "execution_count": 29,
     "metadata": {},
     "output_type": "execute_result"
    }
   ],
   "source": [
    "p Foo.respond_to? :add_one\n",
    "p Foo.send :add_one, 1"
   ]
  },
  {
   "cell_type": "code",
   "execution_count": null,
   "id": "ca72cac5",
   "metadata": {},
   "outputs": [],
   "source": []
  },
  {
   "cell_type": "code",
   "execution_count": null,
   "id": "67ec38c5",
   "metadata": {},
   "outputs": [],
   "source": []
  },
  {
   "cell_type": "code",
   "execution_count": null,
   "id": "7b4693a3",
   "metadata": {},
   "outputs": [],
   "source": []
  },
  {
   "cell_type": "code",
   "execution_count": null,
   "id": "bb7dcc8a",
   "metadata": {},
   "outputs": [],
   "source": []
  },
  {
   "cell_type": "code",
   "execution_count": null,
   "id": "5252f083",
   "metadata": {},
   "outputs": [],
   "source": []
  },
  {
   "cell_type": "code",
   "execution_count": null,
   "id": "4e375a15",
   "metadata": {},
   "outputs": [],
   "source": []
  },
  {
   "cell_type": "code",
   "execution_count": null,
   "id": "4d6b4209",
   "metadata": {},
   "outputs": [],
   "source": [
    "### `module`\n",
    "\n",
    "modules can either be included or extended w/ `include` or `extend`.\n",
    "\n",
    "To include a module means to treat the methods that are included as instance methods.\n",
    "\n",
    "To extend a module means to treat the extended methods as class methods."
   ]
  },
  {
   "cell_type": "code",
   "execution_count": null,
   "id": "727ead2b",
   "metadata": {},
   "outputs": [],
   "source": []
  },
  {
   "cell_type": "code",
   "execution_count": null,
   "id": "02f05316",
   "metadata": {},
   "outputs": [],
   "source": []
  },
  {
   "cell_type": "code",
   "execution_count": null,
   "id": "9f29dfa0",
   "metadata": {},
   "outputs": [],
   "source": [
    "module Foo\n",
    "  def foo\n",
    "    puts \"foo\"\n",
    "  end\n",
    "end\n",
    "\n",
    "class Baz\n",
    "  include Foo\n",
    "end\n",
    "\n",
    "class Bar\n",
    "  extend Foo\n",
    "end"
   ]
  },
  {
   "cell_type": "code",
   "execution_count": null,
   "id": "503d6238",
   "metadata": {},
   "outputs": [],
   "source": []
  },
  {
   "cell_type": "code",
   "execution_count": null,
   "id": "36fc02d1",
   "metadata": {},
   "outputs": [],
   "source": [
    "### `modules are are adjectives`"
   ]
  },
  {
   "cell_type": "code",
   "execution_count": null,
   "id": "a74f0e56",
   "metadata": {},
   "outputs": [],
   "source": [
    "module Driveable # modules are also called mixins\n",
    "end\n",
    "\n",
    "module Stoppable\n",
    "end\n",
    "\n",
    "class Car # now a driveable car\n",
    "  include Driveable\n",
    "  include Stoppable\n",
    "end"
   ]
  },
  {
   "cell_type": "code",
   "execution_count": null,
   "id": "96080a78",
   "metadata": {},
   "outputs": [],
   "source": [
    "car = Car.new\n",
    "\n",
    "puts car.is_a? Driveable\n",
    "puts car.is_a? Stoppable\n",
    "puts car.is_a? Car\n",
    "puts car.is_a? Object"
   ]
  },
  {
   "cell_type": "code",
   "execution_count": null,
   "id": "5f9571c6",
   "metadata": {},
   "outputs": [],
   "source": []
  },
  {
   "cell_type": "code",
   "execution_count": null,
   "id": "675dac5f",
   "metadata": {},
   "outputs": [],
   "source": []
  },
  {
   "cell_type": "code",
   "execution_count": null,
   "id": "f0256337",
   "metadata": {},
   "outputs": [],
   "source": []
  },
  {
   "cell_type": "code",
   "execution_count": null,
   "id": "24eb47b5",
   "metadata": {},
   "outputs": [],
   "source": []
  },
  {
   "cell_type": "code",
   "execution_count": null,
   "id": "d3ef85dc",
   "metadata": {},
   "outputs": [],
   "source": []
  },
  {
   "cell_type": "code",
   "execution_count": null,
   "id": "f0dace9a",
   "metadata": {},
   "outputs": [],
   "source": [
    "### `modules`\n",
    "\n",
    "Unlike interfaces can contain state. Like abstract classes, can contains state.\n",
    "\n",
    "Well they don't exactly contain state and neither do regular classes. Classes/modules contain instance methods - not state. State belongs to the object and get created when an instance method that sets state (setter) is run on the object.\n",
    "\n",
    "Methods from a module that refer to an instance variable get mixed into class as instance methods. It's only when those instance methods are called on an objet that the instance variables are created - on that object. The instance variables don't belong to the module at all; they belong to the instances of the classes that mix the module."
   ]
  },
  {
   "cell_type": "code",
   "execution_count": null,
   "id": "a927cbc1",
   "metadata": {},
   "outputs": [],
   "source": [
    "module AcceptsComments\n",
    "  def comments\n",
    "    @comments ||= []\n",
    "  end\n",
    "  \n",
    "  def add_comment(comment)\n",
    "    comments.push(comment)\n",
    "  end\n",
    "end"
   ]
  },
  {
   "cell_type": "code",
   "execution_count": null,
   "id": "aabf9ec2",
   "metadata": {},
   "outputs": [],
   "source": [
    "class Video\n",
    "  include AcceptsComments\n",
    "end"
   ]
  },
  {
   "cell_type": "code",
   "execution_count": null,
   "id": "f3bea4c6",
   "metadata": {},
   "outputs": [],
   "source": [
    "v = Video.new\n",
    "v.add_comment(\"Yo\")\n",
    "v.add_comment(\"what\")\n",
    "v.comments"
   ]
  },
  {
   "cell_type": "code",
   "execution_count": null,
   "id": "1055c216",
   "metadata": {},
   "outputs": [],
   "source": []
  },
  {
   "cell_type": "code",
   "execution_count": null,
   "id": "a29ee3e9",
   "metadata": {},
   "outputs": [],
   "source": []
  },
  {
   "cell_type": "code",
   "execution_count": null,
   "id": "ab1f9acb",
   "metadata": {},
   "outputs": [],
   "source": [
    "### `modules should not have an initialize method`\n",
    "\n",
    "Initialize method from the concrete class will override the initialize method from the mixin.\n",
    "    \n",
    "When you mix a module into the class, Ruby will look for methods (both mixins and superclass) by using the ancestors class method. It will return an array with all of the class' mixins and superclasses in the order they will be searched."
   ]
  },
  {
   "cell_type": "code",
   "execution_count": null,
   "id": "ec6c612e",
   "metadata": {},
   "outputs": [],
   "source": []
  },
  {
   "cell_type": "code",
   "execution_count": null,
   "id": "3aee43bf",
   "metadata": {},
   "outputs": [],
   "source": [
    "class MySuperClass\n",
    "  def foo\n",
    "  end\n",
    "end\n",
    "\n",
    "module MyModule\n",
    "  def foo\n",
    "  end\n",
    "end\n",
    "\n",
    "class MyClass < MySuperClass\n",
    "  include MyModule\n",
    "  def foo \n",
    "  end\n",
    "end"
   ]
  },
  {
   "cell_type": "code",
   "execution_count": null,
   "id": "06ade0e6",
   "metadata": {},
   "outputs": [],
   "source": []
  },
  {
   "cell_type": "code",
   "execution_count": null,
   "id": "254816e3",
   "metadata": {},
   "outputs": [],
   "source": [
    "p MyClass.ancestors"
   ]
  },
  {
   "cell_type": "code",
   "execution_count": null,
   "id": "99f1294d",
   "metadata": {},
   "outputs": [],
   "source": [
    "class MySuperClass\n",
    "  def foo\n",
    "    puts \"MySuperClass\"    \n",
    "  end\n",
    "end\n",
    "\n",
    "module MyModule\n",
    "  def foo\n",
    "    puts \"MyModule\"\n",
    "  end\n",
    "end\n",
    "\n",
    "class MyClass < MySuperClass\n",
    "  include MyModule\n",
    "  def foo\n",
    "    super\n",
    "    puts \"MyClass\"    \n",
    "  end\n",
    "end"
   ]
  },
  {
   "cell_type": "code",
   "execution_count": null,
   "id": "87d321d7",
   "metadata": {},
   "outputs": [],
   "source": [
    "MyClass.new.foo"
   ]
  },
  {
   "cell_type": "code",
   "execution_count": null,
   "id": "c33f5da6",
   "metadata": {},
   "outputs": [],
   "source": []
  },
  {
   "cell_type": "code",
   "execution_count": null,
   "id": "99e89637",
   "metadata": {},
   "outputs": [],
   "source": [
    "### `classes as objects and message receivers`\n",
    "\n",
    "Clases are special objects: they're the only kind of object that has the power to spawn new objects (instances). Nonetheless they're objects.\n",
    "\n",
    "Like other objects, classes can be created. You can create a class object with the special `class` keyword formula.\n",
    "\n",
    "To understand where classes get their methods, think about where objects in general get their methods.\n",
    "  \n",
    "\n",
    "- From their class\n",
    "  \n",
    "  \n",
    "- From the superclass and earlier ancestors of their class\n",
    "  \n",
    "  \n",
    "- From their own store of singleton methods `(def obj.talk)`"
   ]
  },
  {
   "cell_type": "code",
   "execution_count": null,
   "id": "77f12d1e",
   "metadata": {},
   "outputs": [],
   "source": []
  },
  {
   "cell_type": "code",
   "execution_count": null,
   "id": "baa9fd12",
   "metadata": {},
   "outputs": [],
   "source": []
  },
  {
   "cell_type": "code",
   "execution_count": null,
   "id": "1ca11cb6",
   "metadata": {},
   "outputs": [],
   "source": [
    "# Class defines an instance method called `new`\n",
    "# attr_accessor methods are defined in Module\n",
    "\n",
    "\n",
    "# Class\n",
    "#\n",
    "# Person is an instance of Class, Class' superclass is Module...\n",
    "\n",
    "Person = Class.new do\n",
    "  def introduce\n",
    "    p \"Hello, I am a person\"\n",
    "  end\n",
    "end"
   ]
  },
  {
   "cell_type": "code",
   "execution_count": null,
   "id": "6faf5d71",
   "metadata": {},
   "outputs": [],
   "source": []
  },
  {
   "cell_type": "code",
   "execution_count": null,
   "id": "400b4b8e",
   "metadata": {},
   "outputs": [],
   "source": []
  },
  {
   "cell_type": "code",
   "execution_count": null,
   "id": "7b9279f0",
   "metadata": {},
   "outputs": [],
   "source": []
  },
  {
   "cell_type": "code",
   "execution_count": null,
   "id": "8fb6a489",
   "metadata": {},
   "outputs": [],
   "source": [
    "### `top level`\n",
    "\n",
    "The default receiver is `self`. As you can see there are many methods which are available to self in the top-level execution context.\n",
    "\n",
    "We can mixin methods at different levels, including the top-level."
   ]
  },
  {
   "cell_type": "code",
   "execution_count": null,
   "id": "e90041c6",
   "metadata": {},
   "outputs": [],
   "source": []
  },
  {
   "cell_type": "code",
   "execution_count": null,
   "id": "26b75d2c",
   "metadata": {},
   "outputs": [],
   "source": []
  },
  {
   "cell_type": "code",
   "execution_count": null,
   "id": "7fca125d",
   "metadata": {},
   "outputs": [],
   "source": []
  },
  {
   "cell_type": "code",
   "execution_count": null,
   "id": "36917c78",
   "metadata": {},
   "outputs": [],
   "source": []
  },
  {
   "cell_type": "code",
   "execution_count": null,
   "id": "11d0c87f",
   "metadata": {},
   "outputs": [],
   "source": [
    "module Bespoke\n",
    "  def suit_up\n",
    "    p \"Yes, sir\"\n",
    "  end\n",
    "end\n",
    "\n",
    "include Bespoke\n",
    "suit_up\n",
    "\n",
    "self.methods.include? :suit_up\n",
    "\n",
    "p self"
   ]
  },
  {
   "cell_type": "code",
   "execution_count": null,
   "id": "3a870540",
   "metadata": {},
   "outputs": [],
   "source": []
  },
  {
   "cell_type": "code",
   "execution_count": null,
   "id": "85db8295",
   "metadata": {},
   "outputs": [],
   "source": []
  },
  {
   "cell_type": "code",
   "execution_count": null,
   "id": "576a735d",
   "metadata": {},
   "outputs": [],
   "source": [
    "### `every method call has a receiver`"
   ]
  },
  {
   "cell_type": "code",
   "execution_count": null,
   "id": "ea7005e9",
   "metadata": {},
   "outputs": [],
   "source": [
    "# even this has a receiver (implicitly a self receiver)\n",
    "puts \"Hello\"\n",
    "\n",
    "self.puts \"Hello\""
   ]
  },
  {
   "cell_type": "code",
   "execution_count": null,
   "id": "e91aab1d",
   "metadata": {},
   "outputs": [],
   "source": []
  },
  {
   "cell_type": "markdown",
   "id": "40eb4c3f",
   "metadata": {},
   "source": [
    "### `respond_to? / send`"
   ]
  },
  {
   "cell_type": "code",
   "execution_count": null,
   "id": "ba7d9a97",
   "metadata": {},
   "outputs": [],
   "source": [
    "foo = Object.new\n",
    "\n",
    "def foo.bar\n",
    "    \"bar\"\n",
    "end"
   ]
  },
  {
   "cell_type": "code",
   "execution_count": null,
   "id": "d0e4bf28",
   "metadata": {},
   "outputs": [],
   "source": [
    "p foo.respond_to? :bar\n",
    "p foo.respond_to? \"bar\"\n",
    "\n",
    "p foo.send(\"bar\")\n",
    "p foo.send(:bar)"
   ]
  },
  {
   "cell_type": "markdown",
   "id": "200fa179",
   "metadata": {},
   "source": [
    "### `defined?`"
   ]
  },
  {
   "cell_type": "code",
   "execution_count": 3,
   "id": "41b45f90",
   "metadata": {},
   "outputs": [
    {
     "data": {
      "text/plain": [
       "\"constant\""
      ]
     },
     "execution_count": 3,
     "metadata": {},
     "output_type": "execute_result"
    }
   ],
   "source": [
    "class Skirt\n",
    "end\n",
    "\n",
    "defined? Skirt"
   ]
  },
  {
   "cell_type": "code",
   "execution_count": 4,
   "id": "0c9143d5",
   "metadata": {},
   "outputs": [
    {
     "data": {
      "text/plain": [
       "\"constant\""
      ]
     },
     "execution_count": 4,
     "metadata": {},
     "output_type": "execute_result"
    }
   ],
   "source": [
    "module Yer\n",
    "end\n",
    "\n",
    "defined? Yer"
   ]
  },
  {
   "cell_type": "code",
   "execution_count": 1,
   "id": "137a436f",
   "metadata": {},
   "outputs": [
    {
     "data": {
      "text/plain": [
       "\"method\""
      ]
     },
     "execution_count": 1,
     "metadata": {},
     "output_type": "execute_result"
    }
   ],
   "source": [
    "def baz\n",
    "end\n",
    "\n",
    "defined? baz"
   ]
  },
  {
   "cell_type": "code",
   "execution_count": 2,
   "id": "3e6adc85",
   "metadata": {},
   "outputs": [
    {
     "data": {
      "text/plain": [
       "\"local-variable\""
      ]
     },
     "execution_count": 2,
     "metadata": {},
     "output_type": "execute_result"
    }
   ],
   "source": [
    "abra = 1\n",
    "\n",
    "defined? abra"
   ]
  },
  {
   "cell_type": "code",
   "execution_count": 5,
   "id": "9e253a40",
   "metadata": {},
   "outputs": [
    {
     "data": {
      "text/plain": [
       "\"self\""
      ]
     },
     "execution_count": 5,
     "metadata": {},
     "output_type": "execute_result"
    }
   ],
   "source": [
    "defined? self"
   ]
  }
 ],
 "metadata": {
  "kernelspec": {
   "display_name": "Ruby 3.0.0",
   "language": "ruby",
   "name": "ruby"
  },
  "language_info": {
   "file_extension": ".rb",
   "mimetype": "application/x-ruby",
   "name": "ruby",
   "version": "3.0.0"
  }
 },
 "nbformat": 4,
 "nbformat_minor": 5
}
