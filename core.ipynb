{
 "cells": [
  {
   "cell_type": "markdown",
   "id": "aa2c016e",
   "metadata": {},
   "source": [
    "### `singleton methods`"
   ]
  },
  {
   "cell_type": "code",
   "execution_count": 6,
   "id": "d9b0a822",
   "metadata": {},
   "outputs": [
    {
     "data": {
      "text/plain": [
       ":bar"
      ]
     },
     "execution_count": 6,
     "metadata": {},
     "output_type": "execute_result"
    }
   ],
   "source": [
    "foo = Object.new\n",
    "\n",
    "# can define a method directly on that object...\n",
    "def foo.bar\n",
    "  \"bar\"\n",
    "end"
   ]
  },
  {
   "cell_type": "markdown",
   "id": "55275375",
   "metadata": {},
   "source": [
    "### `defining methods for many instances of a class`"
   ]
  },
  {
   "cell_type": "code",
   "execution_count": 9,
   "id": "4412e9ba",
   "metadata": {},
   "outputs": [
    {
     "data": {
      "text/plain": [
       ":bar"
      ]
     },
     "execution_count": 9,
     "metadata": {},
     "output_type": "execute_result"
    }
   ],
   "source": [
    "class Foo\n",
    "  def bar\n",
    "    \"bar\"\n",
    "  end\n",
    "end"
   ]
  },
  {
   "cell_type": "markdown",
   "id": "1583a25a",
   "metadata": {},
   "source": [
    "In Ruby, we take the everything is an object thing pretty seriously. So naturally a Class is an Object. And we know that objects are instances of a class. So Foo (a Class) is an instance of some class. And that class is Class. I know, it's weird."
   ]
  },
  {
   "cell_type": "code",
   "execution_count": 14,
   "id": "b076568c",
   "metadata": {},
   "outputs": [
    {
     "data": {
      "text/plain": [
       "true"
      ]
     },
     "execution_count": 14,
     "metadata": {},
     "output_type": "execute_result"
    }
   ],
   "source": [
    "Foo.is_a? Class"
   ]
  },
  {
   "cell_type": "markdown",
   "id": "74374a12",
   "metadata": {},
   "source": [
    "So in fact we can define a class dynamically using Ruby like this. It's actually equivalent to the code we had above."
   ]
  },
  {
   "cell_type": "code",
   "execution_count": 15,
   "id": "77bf2a81",
   "metadata": {},
   "outputs": [
    {
     "name": "stderr",
     "output_type": "stream",
     "text": [
      "(irb): warning: already initialized constant Object::Foo\n"
     ]
    },
    {
     "data": {
      "text/plain": [
       "#<Class:0x00007fe7809771f0>::Foo"
      ]
     },
     "execution_count": 15,
     "metadata": {},
     "output_type": "execute_result"
    }
   ],
   "source": [
    "Foo = Class.new do\n",
    "  def bar\n",
    "    \"bar\"\n",
    "  end\n",
    "end"
   ]
  },
  {
   "cell_type": "markdown",
   "id": "5f23910d",
   "metadata": {},
   "source": [
    "In summary a Class is an object that has the power to spawn new objects. Nontheless they are objects themselves."
   ]
  },
  {
   "cell_type": "markdown",
   "id": "ed424ec9",
   "metadata": {},
   "source": [
    "### `a Class is an object`\n",
    "\n",
    "We interact with objects by sending messages. Since we know a Class is an object, we therefore send it messages."
   ]
  },
  {
   "cell_type": "markdown",
   "id": "50ac3f19",
   "metadata": {},
   "source": [
    "### `how to send methods to a Class object`\n",
    "\n",
    "Same syntax as how we've been sending messages to non-class objects (instances). Note: there are several ways to define a class method (define how a Class should respond to a specific message). You will see #3 being used a lot in the industry."
   ]
  },
  {
   "cell_type": "code",
   "execution_count": 40,
   "id": "3ecb6767",
   "metadata": {},
   "outputs": [
    {
     "data": {
      "text/plain": [
       ":add_three"
      ]
     },
     "execution_count": 40,
     "metadata": {},
     "output_type": "execute_result"
    }
   ],
   "source": [
    "class Foo\n",
    "  # 1\n",
    "  def self.add_one(x)\n",
    "    x + 1\n",
    "  end\n",
    "  \n",
    "  # 2\n",
    "  def Foo.add_two(x)\n",
    "    x + 2\n",
    "  end\n",
    "  \n",
    "  # 3\n",
    "  class << self\n",
    "    def add_three(x)\n",
    "      x + 3\n",
    "    end\n",
    "  end\n",
    "end"
   ]
  },
  {
   "cell_type": "code",
   "execution_count": 30,
   "id": "63231ccf",
   "metadata": {},
   "outputs": [
    {
     "name": "stdout",
     "output_type": "stream",
     "text": [
      "true\n",
      "2\n"
     ]
    },
    {
     "data": {
      "text/plain": [
       "2"
      ]
     },
     "execution_count": 30,
     "metadata": {},
     "output_type": "execute_result"
    }
   ],
   "source": [
    "p Foo.respond_to? :add_one\n",
    "p Foo.send :add_one, 1"
   ]
  },
  {
   "cell_type": "markdown",
   "id": "18aefe42",
   "metadata": {},
   "source": [
    "As an aside, how does #3 work. What is that weird syntax? Forget about the `self` keyword for one bit. And just look to whatever is on the right side of `<<`. We are essentially defining singleton methods on the object that is to the right of `<<`."
   ]
  },
  {
   "cell_type": "code",
   "execution_count": 38,
   "id": "3ad87718",
   "metadata": {},
   "outputs": [
    {
     "data": {
      "text/plain": [
       ":yer"
      ]
     },
     "execution_count": 38,
     "metadata": {},
     "output_type": "execute_result"
    }
   ],
   "source": [
    "obj = Object.new\n",
    "class << obj\n",
    "  def yer\n",
    "    'yerr!!!'\n",
    "  end\n",
    "end"
   ]
  },
  {
   "cell_type": "code",
   "execution_count": 39,
   "id": "4d86844a",
   "metadata": {},
   "outputs": [
    {
     "data": {
      "text/plain": [
       "\"yerr!!!\""
      ]
     },
     "execution_count": 39,
     "metadata": {},
     "output_type": "execute_result"
    }
   ],
   "source": [
    "obj.yer"
   ]
  },
  {
   "cell_type": "code",
   "execution_count": 41,
   "id": "dd4a9828",
   "metadata": {},
   "outputs": [
    {
     "data": {
      "text/plain": [
       ":add_three"
      ]
     },
     "execution_count": 41,
     "metadata": {},
     "output_type": "execute_result"
    }
   ],
   "source": [
    "class Foo\n",
    "  class << self\n",
    "    def add_three(x)\n",
    "      x + 3\n",
    "    end\n",
    "  end\n",
    "end"
   ]
  },
  {
   "cell_type": "markdown",
   "id": "a8482f25",
   "metadata": {},
   "source": [
    "So if we have `class << self`, the `self` object in this context resolves into the enclosing class. Therefore, these two are equivalent.\n",
    "\n",
    "```rb\n",
    "class Foo\n",
    "  class << self\n",
    "    def add_three(x)\n",
    "      x + 3\n",
    "    end\n",
    "  end\n",
    "end\n",
    "\n",
    "class Foo\n",
    "  class << Foo\n",
    "    def add_three(x)\n",
    "      x + 3\n",
    "    end\n",
    "  end\n",
    "end\n",
    "```"
   ]
  },
  {
   "cell_type": "markdown",
   "id": "47501002",
   "metadata": {},
   "source": [
    "### `are attr methods class methods?`\n",
    "\n",
    "You betcha! The `attr_accessor` method is defined in a Class called Module."
   ]
  },
  {
   "cell_type": "code",
   "execution_count": 61,
   "id": "1676fe07",
   "metadata": {},
   "outputs": [
    {
     "name": "stdout",
     "output_type": "stream",
     "text": [
      "#<Method: #<Class:#<Class:0x00007fe7809771f0>::Foo>(Module)#attr_accessor(*)>\n",
      "true\n"
     ]
    },
    {
     "data": {
      "text/plain": [
       "true"
      ]
     },
     "execution_count": 61,
     "metadata": {},
     "output_type": "execute_result"
    }
   ],
   "source": [
    "class Foo\n",
    "  '''\n",
    "  note that there is a default receiver for each method call\n",
    "  self.attr_accessor(:bar)\n",
    "  ^ the self in this case is the enclosing class so Foo\n",
    "  '''\n",
    "  attr_accessor(:bar)\n",
    "  \n",
    "  p self.method(:attr_accessor)\n",
    "  \n",
    "  p Module.methods.include? :attr_accessor\n",
    "  \n",
    "end"
   ]
  },
  {
   "cell_type": "code",
   "execution_count": 60,
   "id": "c5312af3",
   "metadata": {},
   "outputs": [
    {
     "data": {
      "text/plain": [
       "Module"
      ]
     },
     "execution_count": 60,
     "metadata": {},
     "output_type": "execute_result"
    }
   ],
   "source": [
    "Foo.class.superclass"
   ]
  },
  {
   "cell_type": "markdown",
   "id": "db1dc0cf",
   "metadata": {},
   "source": [
    "### `what the heck?`\n",
    "\n",
    "Don't worry it's dead simple. Let's start slow and distinguish what are called class methods vs instance methods in Ruby.\n",
    "\n",
    "Both are principally methods. And a method is just a message you send to the target object. A class method is simply a message you send to a Class object. And an instance method is simply a message you send to a non-class (instance) object.\n",
    "\n",
    "When defining a class and writing methods on that class, you are going to specify whether the method is intended for instances of that class or that Class object itself. Let's go back to the drawing board."
   ]
  },
  {
   "cell_type": "code",
   "execution_count": null,
   "id": "d90acccd",
   "metadata": {},
   "outputs": [],
   "source": [
    "class Foo\n",
    "  '''\n",
    "  attr_accessor\n",
    "  ^ is a class method. How do I know? Look at the default receiver: self, which translates to the class Foo\n",
    "  \n",
    "  attr_accessor === self.attr_accessor === Foo.attr_accessor\n",
    "  \n",
    "  But where is attr_accessor coming from? We are not defining it in Foo.\n",
    "  \n",
    "  Hmm... back the drawing board!\n",
    "  '''\n",
    "  \n",
    "  p self\n",
    "  \n",
    "  attr_accessor(:bar)\n",
    "  p self.method(:attr_accessor)\n",
    "  p Module.methods.include? :attr_accessor\n",
    "  \n",
    "end"
   ]
  },
  {
   "cell_type": "markdown",
   "id": "0c4ed6f5",
   "metadata": {},
   "source": [
    "### `in Ruby you can't call an instance method with the Class object as the receiver`"
   ]
  },
  {
   "cell_type": "code",
   "execution_count": 69,
   "id": "b853de2f",
   "metadata": {},
   "outputs": [
    {
     "data": {
      "text/plain": [
       "false"
      ]
     },
     "execution_count": 69,
     "metadata": {},
     "output_type": "execute_result"
    }
   ],
   "source": [
    "class Yogi\n",
    "  # here we are telling Ruby interpreter that :bera is a message that instances of Yogi can respond to\n",
    "  def bera\n",
    "  end\n",
    "end\n",
    "\n",
    "Yogi.respond_to? :bera"
   ]
  },
  {
   "cell_type": "markdown",
   "id": "01726cc5",
   "metadata": {},
   "source": [
    "### `in Ruby you can't call a Class method with the instance as the receiver`"
   ]
  },
  {
   "cell_type": "code",
   "execution_count": 71,
   "id": "907874ab",
   "metadata": {},
   "outputs": [
    {
     "data": {
      "text/plain": [
       "false"
      ]
     },
     "execution_count": 71,
     "metadata": {},
     "output_type": "execute_result"
    }
   ],
   "source": [
    "class Bazel\n",
    "  # that :bera is a message that the Bazel (Class) object can respond to\n",
    "  class << self\n",
    "    def compile\n",
    "    end\n",
    "  end\n",
    "end\n",
    "\n",
    "Bazel.new.respond_to? :compile"
   ]
  },
  {
   "cell_type": "markdown",
   "id": "58799dee",
   "metadata": {},
   "source": [
    "> All that to tell you that the receiver of a method (message) is really important to understanding whether something is a class method or an instance method."
   ]
  },
  {
   "cell_type": "markdown",
   "id": "721c25d5",
   "metadata": {},
   "source": [
    "### `classes as objects and message receivers`\n",
    "\n",
    "Clases are special objects: they're the only kind of object that has the power to spawn new objects (instances). Nonetheless they're objects. To understand where classes get their methods, think about where objects in general get their methods.\n",
    "  \n",
    "\n",
    "- From their class\n",
    "    - X for our example\n",
    "    \n",
    "    \n",
    "- From their own singleton methods `(def obj.talk)`\n",
    "    - X\n",
    "  \n",
    "  \n",
    "- From the superclass and earlier ancestors of their class\n",
    "    - should investigate this more..."
   ]
  },
  {
   "cell_type": "code",
   "execution_count": 72,
   "id": "5c76ad37",
   "metadata": {},
   "outputs": [
    {
     "data": {
      "text/plain": [
       "[:bar, :bar=]"
      ]
     },
     "execution_count": 72,
     "metadata": {},
     "output_type": "execute_result"
    }
   ],
   "source": [
    "class Foo\n",
    "  '''\n",
    "  attr_accessor\n",
    "  ^ is a class method. It is a message we can send to a Class object. Not an instance of a class.\n",
    "  \n",
    "  Let us look into the parent of the class Foo or the great grandparent\n",
    "  \n",
    "  Foo.class \n",
    "  Foo.class.superclass\n",
    "  '''\n",
    "  \n",
    "  attr_accessor(:bar)\n",
    "  \n",
    "end"
   ]
  },
  {
   "cell_type": "code",
   "execution_count": 118,
   "id": "72f139d0",
   "metadata": {},
   "outputs": [
    {
     "data": {
      "text/plain": [
       "Module"
      ]
     },
     "execution_count": 118,
     "metadata": {},
     "output_type": "execute_result"
    }
   ],
   "source": [
    "Foo.class.superclass # and there is our answer. Module is an Class object that defines the attr_accessor class method"
   ]
  },
  {
   "cell_type": "code",
   "execution_count": 119,
   "id": "190041be",
   "metadata": {},
   "outputs": [
    {
     "data": {
      "text/plain": [
       "true"
      ]
     },
     "execution_count": 119,
     "metadata": {},
     "output_type": "execute_result"
    }
   ],
   "source": [
    "Module.methods.include? :attr_accessor"
   ]
  },
  {
   "cell_type": "markdown",
   "id": "1b065c72",
   "metadata": {},
   "source": [
    "### `VOILA!`\n",
    "\n",
    "So knowing what we do know now. We can define an instance method on the Class/Module object. Remember, other classes (the ones we write in our applications) are all instances of Class/Module. Therefore the instance methods on Class/Module are essentially class methods to our custom Class objects."
   ]
  },
  {
   "cell_type": "code",
   "execution_count": 7,
   "id": "cab18e88",
   "metadata": {},
   "outputs": [
    {
     "data": {
      "text/plain": [
       "true"
      ]
     },
     "execution_count": 7,
     "metadata": {},
     "output_type": "execute_result"
    }
   ],
   "source": [
    "Module.methods.include? :new"
   ]
  },
  {
   "cell_type": "markdown",
   "id": "4bc7a5a5",
   "metadata": {},
   "source": [
    "> Snippet from reference: The class Class has both a class-method version of new and an instance method version; the former is called when you write Class.new and the latter when you write Foo.new. A class method is any method that ges called on a CLass object Sharply, a class method is defined, not just called, directly on a Class object. A class object like Foo has its own methods, its own state, and its own identity. It doesn't share these things with instances of itself. Sending a message to Foo isn't the same thing as sending a message to Foo.new."
   ]
  },
  {
   "cell_type": "code",
   "execution_count": null,
   "id": "626eb06e",
   "metadata": {},
   "outputs": [],
   "source": []
  },
  {
   "cell_type": "markdown",
   "id": "1ba88e33",
   "metadata": {},
   "source": [
    "### `what is ::`\n",
    "\n",
    "`::` is basically a namespace resolution operator. It allows you to access items in modules or classses. The order doens't matter. You can nest a class inside a module. A module inside a class. Whatever.\n",
    "\n",
    "Constants in Ruby are nested like files and directories in filesystem. So, constants are uniquely identified by their paths.\n",
    "\n",
    "```\n",
    "::Rails::Engine #is an absolute path to the constant.\n",
    "# like /Rails/Engine in FS.\n",
    "\n",
    "Rails::Engine #is a path relative to the current tree level.\n",
    "# like ./Rails/Engine in FS.\n",
    "```"
   ]
  },
  {
   "cell_type": "code",
   "execution_count": 9,
   "id": "828ca1d7",
   "metadata": {},
   "outputs": [
    {
     "data": {
      "text/plain": [
       "#<Class:0x00007fa2341cf308>::Make::Claim"
      ]
     },
     "execution_count": 9,
     "metadata": {},
     "output_type": "execute_result"
    }
   ],
   "source": [
    "module Make\n",
    "  class Claim\n",
    "  end\n",
    "end\n",
    "\n",
    "Make::Claim"
   ]
  },
  {
   "cell_type": "markdown",
   "id": "00cca66c",
   "metadata": {},
   "source": [
    "Here is the best way to learn what they are for..."
   ]
  },
  {
   "cell_type": "code",
   "execution_count": 9,
   "id": "08b7a842",
   "metadata": {},
   "outputs": [
    {
     "name": "stderr",
     "output_type": "stream",
     "text": [
      "(irb): warning: already initialized constant Object::COUNT\n",
      "(irb):2: warning: already initialized constant #<Class:0x00007fb157105648>::Frye::COUNT\n",
      "(irb):2: warning: previous definition of COUNT was here\n"
     ]
    },
    {
     "name": "stdout",
     "output_type": "stream",
     "text": [
      "1\n",
      "0\n"
     ]
    },
    {
     "data": {
      "text/plain": [
       "\"done\""
      ]
     },
     "execution_count": 9,
     "metadata": {},
     "output_type": "execute_result"
    }
   ],
   "source": [
    "COUNT = 1 \n",
    "module Frye\n",
    "  COUNT = 0 # local\n",
    "  p ::COUNT # seek outside\n",
    "  p COUNT\n",
    "end\n",
    "\n",
    "\"done\""
   ]
  },
  {
   "cell_type": "code",
   "execution_count": 10,
   "id": "3df9b9f8",
   "metadata": {},
   "outputs": [
    {
     "data": {
      "text/plain": [
       "Array"
      ]
     },
     "execution_count": 10,
     "metadata": {},
     "output_type": "execute_result"
    }
   ],
   "source": []
  },
  {
   "cell_type": "code",
   "execution_count": 2,
   "id": "d911cf84",
   "metadata": {},
   "outputs": [
    {
     "name": "stderr",
     "output_type": "stream",
     "text": [
      "(irb): warning: already initialized constant Object::DRAGON\n",
      "(irb):2: warning: already initialized constant #<Class:0x00007fe9b18f1680>::Foo::DRAGON\n",
      "(irb):2: warning: previous definition of DRAGON was here\n"
     ]
    },
    {
     "ename": "NameError",
     "evalue": "uninitialized constant DRAGON",
     "output_type": "error",
     "traceback": [
      "\u001b[31mNameError\u001b[0m: uninitialized constant DRAGON",
      "(irb):3:in `<module:Foo>'",
      "(irb):1:in `<top (required)>'"
     ]
    }
   ],
   "source": [
    "DRAGON = 4\n",
    "module Foo\n",
    "  DRAGON = 4\n",
    "  p ::DRAGON\n",
    "  p DRAGON\n",
    "end"
   ]
  },
  {
   "cell_type": "code",
   "execution_count": null,
   "id": "d1c8b56a",
   "metadata": {},
   "outputs": [],
   "source": []
  },
  {
   "cell_type": "code",
   "execution_count": null,
   "id": "5b54526e",
   "metadata": {},
   "outputs": [],
   "source": []
  },
  {
   "cell_type": "code",
   "execution_count": null,
   "id": "230300ad",
   "metadata": {},
   "outputs": [],
   "source": []
  },
  {
   "cell_type": "code",
   "execution_count": null,
   "id": "14ba8b3b",
   "metadata": {},
   "outputs": [],
   "source": [
    "### `module`\n",
    "\n",
    "modules can either be included or extended w/ `include` or `extend`.\n",
    "\n",
    "To include a module means to treat the methods that are included as instance methods.\n",
    "\n",
    "To extend a module means to treat the extended methods as class methods."
   ]
  },
  {
   "cell_type": "code",
   "execution_count": null,
   "id": "a3d215e0",
   "metadata": {},
   "outputs": [],
   "source": [
    "module Foo\n",
    "  def foo\n",
    "    puts \"foo\"\n",
    "  end\n",
    "end\n",
    "\n",
    "class Baz\n",
    "  include Foo\n",
    "end\n",
    "\n",
    "class Bar\n",
    "  extend Foo\n",
    "end"
   ]
  },
  {
   "cell_type": "code",
   "execution_count": null,
   "id": "97fe8308",
   "metadata": {},
   "outputs": [],
   "source": []
  },
  {
   "cell_type": "markdown",
   "id": "f9e048eb",
   "metadata": {},
   "source": [
    "### `modules are are adjectives`"
   ]
  },
  {
   "cell_type": "code",
   "execution_count": null,
   "id": "4f8205fd",
   "metadata": {},
   "outputs": [],
   "source": [
    "module Driveable # modules are also called mixins\n",
    "end\n",
    "\n",
    "module Stoppable\n",
    "end\n",
    "\n",
    "class Car # now a driveable car\n",
    "  include Driveable\n",
    "  include Stoppable\n",
    "end"
   ]
  },
  {
   "cell_type": "code",
   "execution_count": null,
   "id": "16d5344c",
   "metadata": {},
   "outputs": [],
   "source": [
    "car = Car.new\n",
    "\n",
    "puts car.is_a? Driveable\n",
    "puts car.is_a? Stoppable\n",
    "puts car.is_a? Car\n",
    "puts car.is_a? Object"
   ]
  },
  {
   "cell_type": "code",
   "execution_count": null,
   "id": "8bb952f8",
   "metadata": {},
   "outputs": [],
   "source": []
  },
  {
   "cell_type": "code",
   "execution_count": null,
   "id": "9f0dd2cd",
   "metadata": {},
   "outputs": [],
   "source": []
  },
  {
   "cell_type": "code",
   "execution_count": null,
   "id": "da3cfed3",
   "metadata": {},
   "outputs": [],
   "source": [
    "### `modules`\n",
    "\n",
    "Unlike interfaces can contain state. Like abstract classes, can contains state.\n",
    "\n",
    "Well they don't exactly contain state and neither do regular classes. Classes/modules contain instance methods - not state. State belongs to the object and get created when an instance method that sets state (setter) is run on the object.\n",
    "\n",
    "Methods from a module that refer to an instance variable get mixed into class as instance methods. It's only when those instance methods are called on an objet that the instance variables are created - on that object. The instance variables don't belong to the module at all; they belong to the instances of the classes that mix the module."
   ]
  },
  {
   "cell_type": "code",
   "execution_count": null,
   "id": "7edefd3a",
   "metadata": {},
   "outputs": [],
   "source": [
    "module AcceptsComments\n",
    "  def comments\n",
    "    @comments ||= []\n",
    "  end\n",
    "  \n",
    "  def add_comment(comment)\n",
    "    comments.push(comment)\n",
    "  end\n",
    "end"
   ]
  },
  {
   "cell_type": "code",
   "execution_count": null,
   "id": "b2d44817",
   "metadata": {},
   "outputs": [],
   "source": [
    "class Video\n",
    "  include AcceptsComments\n",
    "end"
   ]
  },
  {
   "cell_type": "code",
   "execution_count": null,
   "id": "ecad7849",
   "metadata": {},
   "outputs": [],
   "source": [
    "v = Video.new\n",
    "v.add_comment(\"Yo\")\n",
    "v.add_comment(\"what\")\n",
    "v.comments"
   ]
  },
  {
   "cell_type": "code",
   "execution_count": null,
   "id": "7475cba5",
   "metadata": {},
   "outputs": [],
   "source": []
  },
  {
   "cell_type": "code",
   "execution_count": null,
   "id": "9c795119",
   "metadata": {},
   "outputs": [],
   "source": []
  },
  {
   "cell_type": "code",
   "execution_count": null,
   "id": "5f861818",
   "metadata": {},
   "outputs": [],
   "source": [
    "### `modules should not have an initialize method`\n",
    "\n",
    "Initialize method from the concrete class will override the initialize method from the mixin.\n",
    "    \n",
    "When you mix a module into the class, Ruby will look for methods (both mixins and superclass) by using the ancestors class method. It will return an array with all of the class' mixins and superclasses in the order they will be searched."
   ]
  },
  {
   "cell_type": "code",
   "execution_count": null,
   "id": "227bd5fe",
   "metadata": {},
   "outputs": [],
   "source": []
  },
  {
   "cell_type": "code",
   "execution_count": null,
   "id": "a1c13f70",
   "metadata": {},
   "outputs": [],
   "source": [
    "class MySuperClass\n",
    "  def foo\n",
    "  end\n",
    "end\n",
    "\n",
    "module MyModule\n",
    "  def foo\n",
    "  end\n",
    "end\n",
    "\n",
    "class MyClass < MySuperClass\n",
    "  include MyModule\n",
    "  def foo \n",
    "  end\n",
    "end"
   ]
  },
  {
   "cell_type": "code",
   "execution_count": null,
   "id": "032a63dd",
   "metadata": {},
   "outputs": [],
   "source": []
  },
  {
   "cell_type": "code",
   "execution_count": null,
   "id": "2cc1ecef",
   "metadata": {},
   "outputs": [],
   "source": [
    "p MyClass.ancestors"
   ]
  },
  {
   "cell_type": "code",
   "execution_count": null,
   "id": "2a82204c",
   "metadata": {},
   "outputs": [],
   "source": [
    "class MySuperClass\n",
    "  def foo\n",
    "    puts \"MySuperClass\"    \n",
    "  end\n",
    "end\n",
    "\n",
    "module MyModule\n",
    "  def foo\n",
    "    puts \"MyModule\"\n",
    "  end\n",
    "end\n",
    "\n",
    "class MyClass < MySuperClass\n",
    "  include MyModule\n",
    "  def foo\n",
    "    super\n",
    "    puts \"MyClass\"    \n",
    "  end\n",
    "end"
   ]
  },
  {
   "cell_type": "code",
   "execution_count": null,
   "id": "9262bbfe",
   "metadata": {},
   "outputs": [],
   "source": [
    "MyClass.new.foo"
   ]
  },
  {
   "cell_type": "code",
   "execution_count": null,
   "id": "e4f68f4d",
   "metadata": {},
   "outputs": [],
   "source": []
  },
  {
   "cell_type": "code",
   "execution_count": null,
   "id": "d069ddab",
   "metadata": {},
   "outputs": [],
   "source": []
  },
  {
   "cell_type": "code",
   "execution_count": null,
   "id": "f0fc3782",
   "metadata": {},
   "outputs": [],
   "source": []
  },
  {
   "cell_type": "code",
   "execution_count": null,
   "id": "e0b881c2",
   "metadata": {},
   "outputs": [],
   "source": [
    "### `top level`\n",
    "\n",
    "The default receiver is `self`. As you can see there are many methods which are available to self in the top-level execution context.\n",
    "\n",
    "We can mixin methods at different levels, including the top-level."
   ]
  },
  {
   "cell_type": "code",
   "execution_count": null,
   "id": "a2b49f9c",
   "metadata": {},
   "outputs": [],
   "source": []
  },
  {
   "cell_type": "code",
   "execution_count": null,
   "id": "b151fd5f",
   "metadata": {},
   "outputs": [],
   "source": []
  },
  {
   "cell_type": "code",
   "execution_count": null,
   "id": "0d27cc67",
   "metadata": {},
   "outputs": [],
   "source": []
  },
  {
   "cell_type": "code",
   "execution_count": null,
   "id": "69c92988",
   "metadata": {},
   "outputs": [],
   "source": []
  },
  {
   "cell_type": "code",
   "execution_count": null,
   "id": "4492e29a",
   "metadata": {},
   "outputs": [],
   "source": [
    "module Bespoke\n",
    "  def suit_up\n",
    "    p \"Yes, sir\"\n",
    "  end\n",
    "end\n",
    "\n",
    "include Bespoke\n",
    "suit_up\n",
    "\n",
    "self.methods.include? :suit_up\n",
    "\n",
    "p self"
   ]
  },
  {
   "cell_type": "code",
   "execution_count": null,
   "id": "1babbd62",
   "metadata": {},
   "outputs": [],
   "source": []
  },
  {
   "cell_type": "code",
   "execution_count": null,
   "id": "28873103",
   "metadata": {},
   "outputs": [],
   "source": []
  },
  {
   "cell_type": "code",
   "execution_count": null,
   "id": "df24a8c3",
   "metadata": {},
   "outputs": [],
   "source": [
    "### `every method call has a receiver`"
   ]
  },
  {
   "cell_type": "code",
   "execution_count": null,
   "id": "dafb6229",
   "metadata": {},
   "outputs": [],
   "source": [
    "# even this has a receiver (implicitly a self receiver)\n",
    "puts \"Hello\"\n",
    "\n",
    "self.puts \"Hello\""
   ]
  },
  {
   "cell_type": "code",
   "execution_count": null,
   "id": "0f43781d",
   "metadata": {},
   "outputs": [],
   "source": []
  },
  {
   "cell_type": "markdown",
   "id": "17c72f61",
   "metadata": {},
   "source": [
    "### `respond_to? / send`"
   ]
  },
  {
   "cell_type": "code",
   "execution_count": null,
   "id": "0856db7d",
   "metadata": {},
   "outputs": [],
   "source": [
    "foo = Object.new\n",
    "\n",
    "def foo.bar\n",
    "    \"bar\"\n",
    "end"
   ]
  },
  {
   "cell_type": "code",
   "execution_count": null,
   "id": "724f0ce3",
   "metadata": {},
   "outputs": [],
   "source": [
    "p foo.respond_to? :bar\n",
    "p foo.respond_to? \"bar\"\n",
    "\n",
    "p foo.send(\"bar\")\n",
    "p foo.send(:bar)"
   ]
  },
  {
   "cell_type": "markdown",
   "id": "148a8308",
   "metadata": {},
   "source": [
    "### `defined?`"
   ]
  },
  {
   "cell_type": "code",
   "execution_count": 3,
   "id": "9bc6f95a",
   "metadata": {},
   "outputs": [
    {
     "data": {
      "text/plain": [
       "\"constant\""
      ]
     },
     "execution_count": 3,
     "metadata": {},
     "output_type": "execute_result"
    }
   ],
   "source": [
    "class Skirt\n",
    "end\n",
    "\n",
    "defined? Skirt"
   ]
  },
  {
   "cell_type": "code",
   "execution_count": 4,
   "id": "4c20c666",
   "metadata": {},
   "outputs": [
    {
     "data": {
      "text/plain": [
       "\"constant\""
      ]
     },
     "execution_count": 4,
     "metadata": {},
     "output_type": "execute_result"
    }
   ],
   "source": [
    "module Yer\n",
    "end\n",
    "\n",
    "defined? Yer"
   ]
  },
  {
   "cell_type": "code",
   "execution_count": 1,
   "id": "08c87aed",
   "metadata": {},
   "outputs": [
    {
     "data": {
      "text/plain": [
       "\"method\""
      ]
     },
     "execution_count": 1,
     "metadata": {},
     "output_type": "execute_result"
    }
   ],
   "source": [
    "def baz\n",
    "end\n",
    "\n",
    "defined? baz"
   ]
  },
  {
   "cell_type": "code",
   "execution_count": 2,
   "id": "dd754f15",
   "metadata": {},
   "outputs": [
    {
     "data": {
      "text/plain": [
       "\"local-variable\""
      ]
     },
     "execution_count": 2,
     "metadata": {},
     "output_type": "execute_result"
    }
   ],
   "source": [
    "abra = 1\n",
    "\n",
    "defined? abra"
   ]
  },
  {
   "cell_type": "code",
   "execution_count": 5,
   "id": "1897a2c0",
   "metadata": {},
   "outputs": [
    {
     "data": {
      "text/plain": [
       "\"self\""
      ]
     },
     "execution_count": 5,
     "metadata": {},
     "output_type": "execute_result"
    }
   ],
   "source": [
    "defined? self"
   ]
  }
 ],
 "metadata": {
  "kernelspec": {
   "display_name": "Ruby 2.6.8",
   "language": "ruby",
   "name": "ruby"
  },
  "language_info": {
   "file_extension": ".rb",
   "mimetype": "application/x-ruby",
   "name": "ruby",
   "version": "2.6.8"
  }
 },
 "nbformat": 4,
 "nbformat_minor": 5
}
