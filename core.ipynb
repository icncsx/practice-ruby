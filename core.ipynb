{
 "cells": [
  {
   "cell_type": "markdown",
   "id": "3f7eee7a",
   "metadata": {},
   "source": [
    "### `singleton methods`"
   ]
  },
  {
   "cell_type": "code",
   "execution_count": 6,
   "id": "0ebdaace",
   "metadata": {},
   "outputs": [
    {
     "data": {
      "text/plain": [
       ":bar"
      ]
     },
     "execution_count": 6,
     "metadata": {},
     "output_type": "execute_result"
    }
   ],
   "source": [
    "foo = Object.new\n",
    "\n",
    "# can define a method directly on that object...\n",
    "def foo.bar\n",
    "  \"bar\"\n",
    "end"
   ]
  },
  {
   "cell_type": "markdown",
   "id": "a70d4733",
   "metadata": {},
   "source": [
    "### `defining methods for many instances of a class`"
   ]
  },
  {
   "cell_type": "code",
   "execution_count": 9,
   "id": "11c108a0",
   "metadata": {},
   "outputs": [
    {
     "data": {
      "text/plain": [
       ":bar"
      ]
     },
     "execution_count": 9,
     "metadata": {},
     "output_type": "execute_result"
    }
   ],
   "source": [
    "class Foo\n",
    "  def bar\n",
    "    \"bar\"\n",
    "  end\n",
    "end"
   ]
  },
  {
   "cell_type": "markdown",
   "id": "9f6e2191",
   "metadata": {},
   "source": [
    "Note a Class is an Object. And we know that objects are instances of a class. So Foo (a Class) is an instance of some class. And that class is Class. I know, it's weird."
   ]
  },
  {
   "cell_type": "code",
   "execution_count": 14,
   "id": "5e541191",
   "metadata": {},
   "outputs": [
    {
     "data": {
      "text/plain": [
       "true"
      ]
     },
     "execution_count": 14,
     "metadata": {},
     "output_type": "execute_result"
    }
   ],
   "source": [
    "Foo.is_a? Class"
   ]
  },
  {
   "cell_type": "markdown",
   "id": "85b68003",
   "metadata": {},
   "source": [
    "So in fact we can define a class dynamically using Ruby like this. It's actually equivalent to the code we had above."
   ]
  },
  {
   "cell_type": "code",
   "execution_count": 15,
   "id": "a1a3d8b1",
   "metadata": {},
   "outputs": [
    {
     "name": "stderr",
     "output_type": "stream",
     "text": [
      "(irb): warning: already initialized constant Object::Foo\n"
     ]
    },
    {
     "data": {
      "text/plain": [
       "#<Class:0x00007fe7809771f0>::Foo"
      ]
     },
     "execution_count": 15,
     "metadata": {},
     "output_type": "execute_result"
    }
   ],
   "source": [
    "Foo = Class.new do\n",
    "  def bar\n",
    "    \"bar\"\n",
    "  end\n",
    "end"
   ]
  },
  {
   "cell_type": "markdown",
   "id": "add61e3c",
   "metadata": {},
   "source": [
    "In summary a Class is an object that has the power to spawn new objects. Nontheless they are objects themselves."
   ]
  },
  {
   "cell_type": "markdown",
   "id": "0e098866",
   "metadata": {},
   "source": [
    "### `a Class is an object`\n",
    "\n",
    "We interact with objects by sending messages. Since we know a Class is an object, we therefore send it messages."
   ]
  },
  {
   "cell_type": "markdown",
   "id": "025c6262",
   "metadata": {},
   "source": [
    "### `how to send methods to a Class object`\n",
    "\n",
    "Same syntax as how we've been sending messages to non-class objects (instances). Note: there are several ways to define a class method (define how a Class should respond to a specific message). You will see #3 being used a lot in the industry."
   ]
  },
  {
   "cell_type": "code",
   "execution_count": 40,
   "id": "3a1f0255",
   "metadata": {},
   "outputs": [
    {
     "data": {
      "text/plain": [
       ":add_three"
      ]
     },
     "execution_count": 40,
     "metadata": {},
     "output_type": "execute_result"
    }
   ],
   "source": [
    "class Foo\n",
    "  # 1\n",
    "  def self.add_one(x)\n",
    "    x + 1\n",
    "  end\n",
    "  \n",
    "  # 2\n",
    "  def Foo.add_two(x)\n",
    "    x + 2\n",
    "  end\n",
    "  \n",
    "  # 3\n",
    "  class << self\n",
    "    def add_three(x)\n",
    "      x + 3\n",
    "    end\n",
    "  end\n",
    "end"
   ]
  },
  {
   "cell_type": "code",
   "execution_count": 30,
   "id": "69acb48b",
   "metadata": {},
   "outputs": [
    {
     "name": "stdout",
     "output_type": "stream",
     "text": [
      "true\n",
      "2\n"
     ]
    },
    {
     "data": {
      "text/plain": [
       "2"
      ]
     },
     "execution_count": 30,
     "metadata": {},
     "output_type": "execute_result"
    }
   ],
   "source": [
    "p Foo.respond_to? :add_one\n",
    "p Foo.send :add_one, 1"
   ]
  },
  {
   "cell_type": "markdown",
   "id": "6e4039ed",
   "metadata": {},
   "source": [
    "As an aside, how does #3 work. What is that weird syntax? Forget about the `self` keyword for one bit. And just look to whatever is on the right side of `<<`. We are essentially defining singleton methods on the object that is to the right of `<<`."
   ]
  },
  {
   "cell_type": "code",
   "execution_count": 38,
   "id": "5a88620a",
   "metadata": {},
   "outputs": [
    {
     "data": {
      "text/plain": [
       ":yer"
      ]
     },
     "execution_count": 38,
     "metadata": {},
     "output_type": "execute_result"
    }
   ],
   "source": [
    "obj = Object.new\n",
    "class << obj\n",
    "  def yer\n",
    "    'yerr!!!'\n",
    "  end\n",
    "end"
   ]
  },
  {
   "cell_type": "code",
   "execution_count": 39,
   "id": "92fd11ee",
   "metadata": {},
   "outputs": [
    {
     "data": {
      "text/plain": [
       "\"yerr!!!\""
      ]
     },
     "execution_count": 39,
     "metadata": {},
     "output_type": "execute_result"
    }
   ],
   "source": [
    "obj.yer"
   ]
  },
  {
   "cell_type": "code",
   "execution_count": 41,
   "id": "c0f4a09f",
   "metadata": {},
   "outputs": [
    {
     "data": {
      "text/plain": [
       ":add_three"
      ]
     },
     "execution_count": 41,
     "metadata": {},
     "output_type": "execute_result"
    }
   ],
   "source": [
    "class Foo\n",
    "  class << self\n",
    "    def add_three(x)\n",
    "      x + 3\n",
    "    end\n",
    "  end\n",
    "end"
   ]
  },
  {
   "cell_type": "markdown",
   "id": "d96019da",
   "metadata": {},
   "source": [
    "So if we have `class << self`, the `self` object in this context resolves into the enclosing class. Therefore, these two are equivalent.\n",
    "\n",
    "```rb\n",
    "class Foo\n",
    "  class << self\n",
    "    def add_three(x)\n",
    "      x + 3\n",
    "    end\n",
    "  end\n",
    "end\n",
    "\n",
    "class Foo\n",
    "  class << Foo\n",
    "    def add_three(x)\n",
    "      x + 3\n",
    "    end\n",
    "  end\n",
    "end\n",
    "```"
   ]
  },
  {
   "cell_type": "markdown",
   "id": "59733b39",
   "metadata": {},
   "source": [
    "### `are attr methods class methods?`\n",
    "\n",
    "You betcha! The `attr_accessor` method is defined in a Class called Module."
   ]
  },
  {
   "cell_type": "code",
   "execution_count": 61,
   "id": "95c500d8",
   "metadata": {},
   "outputs": [
    {
     "name": "stdout",
     "output_type": "stream",
     "text": [
      "#<Method: #<Class:#<Class:0x00007fe7809771f0>::Foo>(Module)#attr_accessor(*)>\n",
      "true\n"
     ]
    },
    {
     "data": {
      "text/plain": [
       "true"
      ]
     },
     "execution_count": 61,
     "metadata": {},
     "output_type": "execute_result"
    }
   ],
   "source": [
    "class Foo\n",
    "  '''\n",
    "  note that there is a default receiver for each method call\n",
    "  self.attr_accessor(:bar)\n",
    "  ^ the self in this case is the enclosing class so Foo\n",
    "  '''\n",
    "  attr_accessor(:bar)\n",
    "  \n",
    "  p self.method(:attr_accessor)\n",
    "  \n",
    "  p Module.methods.include? :attr_accessor\n",
    "  \n",
    "end"
   ]
  },
  {
   "cell_type": "code",
   "execution_count": 60,
   "id": "cac9f0af",
   "metadata": {},
   "outputs": [
    {
     "data": {
      "text/plain": [
       "Module"
      ]
     },
     "execution_count": 60,
     "metadata": {},
     "output_type": "execute_result"
    }
   ],
   "source": [
    "Foo.class.superclass"
   ]
  },
  {
   "cell_type": "markdown",
   "id": "e72fded2",
   "metadata": {},
   "source": [
    "### `what the heck?`\n",
    "\n",
    "Don't worry it's dead simple."
   ]
  },
  {
   "cell_type": "code",
   "execution_count": null,
   "id": "d936a370",
   "metadata": {},
   "outputs": [],
   "source": []
  },
  {
   "cell_type": "code",
   "execution_count": null,
   "id": "49ef93db",
   "metadata": {},
   "outputs": [],
   "source": []
  },
  {
   "cell_type": "code",
   "execution_count": null,
   "id": "4d940537",
   "metadata": {},
   "outputs": [],
   "source": [
    "### `classes as objects and message receivers`\n",
    "\n",
    "Clases are special objects: they're the only kind of object that has the power to spawn new objects (instances). Nonetheless they're objects.\n",
    "\n",
    "Like other objects, classes can be created. You can create a class object with the special `class` keyword formula.\n",
    "\n",
    "To understand where classes get their methods, think about where objects in general get their methods.\n",
    "  \n",
    "\n",
    "- From their class\n",
    "  \n",
    "  \n",
    "- From the superclass and earlier ancestors of their class\n",
    "  \n",
    "  \n",
    "- From their own store of singleton methods `(def obj.talk)`\n",
    "  \n",
    "  \n",
    "  \n",
    "  # Class defines an instance method called `new`\n",
    "# attr_accessor methods are defined in Module\n",
    "\n",
    "\n",
    "# Class\n",
    "#\n",
    "# Person is an instance of Class, Class' superclass is Module...\n",
    "\n",
    "Person = Class.new do\n",
    "  def introduce\n",
    "    p \"Hello, I am a person\"\n",
    "  end\n",
    "end"
   ]
  },
  {
   "cell_type": "code",
   "execution_count": null,
   "id": "43237831",
   "metadata": {},
   "outputs": [],
   "source": []
  },
  {
   "cell_type": "code",
   "execution_count": null,
   "id": "452c60f7",
   "metadata": {},
   "outputs": [],
   "source": []
  },
  {
   "cell_type": "code",
   "execution_count": null,
   "id": "540b7484",
   "metadata": {},
   "outputs": [],
   "source": []
  },
  {
   "cell_type": "code",
   "execution_count": null,
   "id": "bdb16e7a",
   "metadata": {},
   "outputs": [],
   "source": []
  },
  {
   "cell_type": "code",
   "execution_count": 62,
   "id": "17d6cdb0",
   "metadata": {},
   "outputs": [
    {
     "data": {
      "text/plain": [
       "Module"
      ]
     },
     "execution_count": 62,
     "metadata": {},
     "output_type": "execute_result"
    }
   ],
   "source": [
    "Foo.class.superclass"
   ]
  },
  {
   "cell_type": "code",
   "execution_count": null,
   "id": "e95d934d",
   "metadata": {},
   "outputs": [],
   "source": []
  },
  {
   "cell_type": "markdown",
   "id": "124939ab",
   "metadata": {},
   "source": [
    "### `what are class methods vs instance methods?`"
   ]
  },
  {
   "cell_type": "code",
   "execution_count": 52,
   "id": "1e14d584",
   "metadata": {},
   "outputs": [],
   "source": [
    "class Foo\n",
    "  class << self\n",
    "    def try\n",
    "    end    \n",
    "  end\n",
    "end\n",
    "\n",
    "class Bar < Foo\n",
    "  try\n",
    "end"
   ]
  },
  {
   "cell_type": "code",
   "execution_count": null,
   "id": "d6986319",
   "metadata": {},
   "outputs": [],
   "source": []
  },
  {
   "cell_type": "code",
   "execution_count": null,
   "id": "aab712d4",
   "metadata": {},
   "outputs": [],
   "source": []
  },
  {
   "cell_type": "code",
   "execution_count": 47,
   "id": "b988dafa",
   "metadata": {},
   "outputs": [
    {
     "ename": "NoMethodError",
     "evalue": "undefined method `bar' for #<Class:0x00007fe7809771f0>::Foo",
     "output_type": "error",
     "traceback": [
      "\u001b[31mNoMethodError\u001b[0m: undefined method `bar' for #<Class:0x00007fe7809771f0>::Foo",
      "(irb):in `<top (required)>'"
     ]
    }
   ],
   "source": [
    "Foo.bar"
   ]
  },
  {
   "cell_type": "code",
   "execution_count": 48,
   "id": "548a2811",
   "metadata": {},
   "outputs": [
    {
     "ename": "NoMethodError",
     "evalue": "undefined method `class_methods' for #<Class:0x00007fe7809771f0>::Foo\nDid you mean?  alias_method",
     "output_type": "error",
     "traceback": [
      "\u001b[31mNoMethodError\u001b[0m: undefined method `class_methods' for #<Class:0x00007fe7809771f0>::Foo\nDid you mean?  alias_method",
      "(irb):in `<top (required)>'"
     ]
    }
   ],
   "source": [
    "Foo.class_methods"
   ]
  },
  {
   "cell_type": "code",
   "execution_count": null,
   "id": "677cc82b",
   "metadata": {},
   "outputs": [],
   "source": []
  },
  {
   "cell_type": "code",
   "execution_count": null,
   "id": "ef2e0be6",
   "metadata": {},
   "outputs": [],
   "source": []
  },
  {
   "cell_type": "code",
   "execution_count": null,
   "id": "64d5a963",
   "metadata": {},
   "outputs": [],
   "source": [
    "### `module`\n",
    "\n",
    "modules can either be included or extended w/ `include` or `extend`.\n",
    "\n",
    "To include a module means to treat the methods that are included as instance methods.\n",
    "\n",
    "To extend a module means to treat the extended methods as class methods."
   ]
  },
  {
   "cell_type": "code",
   "execution_count": null,
   "id": "4003a1ad",
   "metadata": {},
   "outputs": [],
   "source": []
  },
  {
   "cell_type": "code",
   "execution_count": null,
   "id": "ccf0b6a5",
   "metadata": {},
   "outputs": [],
   "source": []
  },
  {
   "cell_type": "code",
   "execution_count": null,
   "id": "f6f4bf6d",
   "metadata": {},
   "outputs": [],
   "source": [
    "module Foo\n",
    "  def foo\n",
    "    puts \"foo\"\n",
    "  end\n",
    "end\n",
    "\n",
    "class Baz\n",
    "  include Foo\n",
    "end\n",
    "\n",
    "class Bar\n",
    "  extend Foo\n",
    "end"
   ]
  },
  {
   "cell_type": "code",
   "execution_count": null,
   "id": "bb1be0ad",
   "metadata": {},
   "outputs": [],
   "source": []
  },
  {
   "cell_type": "code",
   "execution_count": null,
   "id": "97dcc228",
   "metadata": {},
   "outputs": [],
   "source": [
    "### `modules are are adjectives`"
   ]
  },
  {
   "cell_type": "code",
   "execution_count": null,
   "id": "ec1a7c51",
   "metadata": {},
   "outputs": [],
   "source": [
    "module Driveable # modules are also called mixins\n",
    "end\n",
    "\n",
    "module Stoppable\n",
    "end\n",
    "\n",
    "class Car # now a driveable car\n",
    "  include Driveable\n",
    "  include Stoppable\n",
    "end"
   ]
  },
  {
   "cell_type": "code",
   "execution_count": null,
   "id": "61805c65",
   "metadata": {},
   "outputs": [],
   "source": [
    "car = Car.new\n",
    "\n",
    "puts car.is_a? Driveable\n",
    "puts car.is_a? Stoppable\n",
    "puts car.is_a? Car\n",
    "puts car.is_a? Object"
   ]
  },
  {
   "cell_type": "code",
   "execution_count": null,
   "id": "ef5a2425",
   "metadata": {},
   "outputs": [],
   "source": []
  },
  {
   "cell_type": "code",
   "execution_count": null,
   "id": "78e68966",
   "metadata": {},
   "outputs": [],
   "source": []
  },
  {
   "cell_type": "code",
   "execution_count": null,
   "id": "94664119",
   "metadata": {},
   "outputs": [],
   "source": []
  },
  {
   "cell_type": "code",
   "execution_count": null,
   "id": "f206ec63",
   "metadata": {},
   "outputs": [],
   "source": []
  },
  {
   "cell_type": "code",
   "execution_count": null,
   "id": "428eb95e",
   "metadata": {},
   "outputs": [],
   "source": []
  },
  {
   "cell_type": "code",
   "execution_count": null,
   "id": "215d86db",
   "metadata": {},
   "outputs": [],
   "source": [
    "### `modules`\n",
    "\n",
    "Unlike interfaces can contain state. Like abstract classes, can contains state.\n",
    "\n",
    "Well they don't exactly contain state and neither do regular classes. Classes/modules contain instance methods - not state. State belongs to the object and get created when an instance method that sets state (setter) is run on the object.\n",
    "\n",
    "Methods from a module that refer to an instance variable get mixed into class as instance methods. It's only when those instance methods are called on an objet that the instance variables are created - on that object. The instance variables don't belong to the module at all; they belong to the instances of the classes that mix the module."
   ]
  },
  {
   "cell_type": "code",
   "execution_count": null,
   "id": "40a3ebc7",
   "metadata": {},
   "outputs": [],
   "source": [
    "module AcceptsComments\n",
    "  def comments\n",
    "    @comments ||= []\n",
    "  end\n",
    "  \n",
    "  def add_comment(comment)\n",
    "    comments.push(comment)\n",
    "  end\n",
    "end"
   ]
  },
  {
   "cell_type": "code",
   "execution_count": null,
   "id": "5e7834cb",
   "metadata": {},
   "outputs": [],
   "source": [
    "class Video\n",
    "  include AcceptsComments\n",
    "end"
   ]
  },
  {
   "cell_type": "code",
   "execution_count": null,
   "id": "b7a2949d",
   "metadata": {},
   "outputs": [],
   "source": [
    "v = Video.new\n",
    "v.add_comment(\"Yo\")\n",
    "v.add_comment(\"what\")\n",
    "v.comments"
   ]
  },
  {
   "cell_type": "code",
   "execution_count": null,
   "id": "03155fc8",
   "metadata": {},
   "outputs": [],
   "source": []
  },
  {
   "cell_type": "code",
   "execution_count": null,
   "id": "f29e4e0f",
   "metadata": {},
   "outputs": [],
   "source": []
  },
  {
   "cell_type": "code",
   "execution_count": null,
   "id": "092a53b0",
   "metadata": {},
   "outputs": [],
   "source": [
    "### `modules should not have an initialize method`\n",
    "\n",
    "Initialize method from the concrete class will override the initialize method from the mixin.\n",
    "    \n",
    "When you mix a module into the class, Ruby will look for methods (both mixins and superclass) by using the ancestors class method. It will return an array with all of the class' mixins and superclasses in the order they will be searched."
   ]
  },
  {
   "cell_type": "code",
   "execution_count": null,
   "id": "7d9ef44f",
   "metadata": {},
   "outputs": [],
   "source": []
  },
  {
   "cell_type": "code",
   "execution_count": null,
   "id": "24890a98",
   "metadata": {},
   "outputs": [],
   "source": [
    "class MySuperClass\n",
    "  def foo\n",
    "  end\n",
    "end\n",
    "\n",
    "module MyModule\n",
    "  def foo\n",
    "  end\n",
    "end\n",
    "\n",
    "class MyClass < MySuperClass\n",
    "  include MyModule\n",
    "  def foo \n",
    "  end\n",
    "end"
   ]
  },
  {
   "cell_type": "code",
   "execution_count": null,
   "id": "a08e4056",
   "metadata": {},
   "outputs": [],
   "source": []
  },
  {
   "cell_type": "code",
   "execution_count": null,
   "id": "ab4f8e3e",
   "metadata": {},
   "outputs": [],
   "source": [
    "p MyClass.ancestors"
   ]
  },
  {
   "cell_type": "code",
   "execution_count": null,
   "id": "781de9b7",
   "metadata": {},
   "outputs": [],
   "source": [
    "class MySuperClass\n",
    "  def foo\n",
    "    puts \"MySuperClass\"    \n",
    "  end\n",
    "end\n",
    "\n",
    "module MyModule\n",
    "  def foo\n",
    "    puts \"MyModule\"\n",
    "  end\n",
    "end\n",
    "\n",
    "class MyClass < MySuperClass\n",
    "  include MyModule\n",
    "  def foo\n",
    "    super\n",
    "    puts \"MyClass\"    \n",
    "  end\n",
    "end"
   ]
  },
  {
   "cell_type": "code",
   "execution_count": null,
   "id": "3702a8f4",
   "metadata": {},
   "outputs": [],
   "source": [
    "MyClass.new.foo"
   ]
  },
  {
   "cell_type": "code",
   "execution_count": null,
   "id": "539d3422",
   "metadata": {},
   "outputs": [],
   "source": []
  },
  {
   "cell_type": "code",
   "execution_count": null,
   "id": "89ce7fa2",
   "metadata": {},
   "outputs": [],
   "source": []
  },
  {
   "cell_type": "code",
   "execution_count": null,
   "id": "344f9df2",
   "metadata": {},
   "outputs": [],
   "source": []
  },
  {
   "cell_type": "code",
   "execution_count": null,
   "id": "55afffe3",
   "metadata": {},
   "outputs": [],
   "source": [
    "### `top level`\n",
    "\n",
    "The default receiver is `self`. As you can see there are many methods which are available to self in the top-level execution context.\n",
    "\n",
    "We can mixin methods at different levels, including the top-level."
   ]
  },
  {
   "cell_type": "code",
   "execution_count": null,
   "id": "3ce3ea90",
   "metadata": {},
   "outputs": [],
   "source": []
  },
  {
   "cell_type": "code",
   "execution_count": null,
   "id": "51ad4783",
   "metadata": {},
   "outputs": [],
   "source": []
  },
  {
   "cell_type": "code",
   "execution_count": null,
   "id": "18efb3f2",
   "metadata": {},
   "outputs": [],
   "source": []
  },
  {
   "cell_type": "code",
   "execution_count": null,
   "id": "e8623e9a",
   "metadata": {},
   "outputs": [],
   "source": []
  },
  {
   "cell_type": "code",
   "execution_count": null,
   "id": "f457ffa8",
   "metadata": {},
   "outputs": [],
   "source": [
    "module Bespoke\n",
    "  def suit_up\n",
    "    p \"Yes, sir\"\n",
    "  end\n",
    "end\n",
    "\n",
    "include Bespoke\n",
    "suit_up\n",
    "\n",
    "self.methods.include? :suit_up\n",
    "\n",
    "p self"
   ]
  },
  {
   "cell_type": "code",
   "execution_count": null,
   "id": "5a300baa",
   "metadata": {},
   "outputs": [],
   "source": []
  },
  {
   "cell_type": "code",
   "execution_count": null,
   "id": "00322fe0",
   "metadata": {},
   "outputs": [],
   "source": []
  },
  {
   "cell_type": "code",
   "execution_count": null,
   "id": "c231d126",
   "metadata": {},
   "outputs": [],
   "source": [
    "### `every method call has a receiver`"
   ]
  },
  {
   "cell_type": "code",
   "execution_count": null,
   "id": "9cd22f29",
   "metadata": {},
   "outputs": [],
   "source": [
    "# even this has a receiver (implicitly a self receiver)\n",
    "puts \"Hello\"\n",
    "\n",
    "self.puts \"Hello\""
   ]
  },
  {
   "cell_type": "code",
   "execution_count": null,
   "id": "0afe9322",
   "metadata": {},
   "outputs": [],
   "source": []
  },
  {
   "cell_type": "markdown",
   "id": "799bce79",
   "metadata": {},
   "source": [
    "### `respond_to? / send`"
   ]
  },
  {
   "cell_type": "code",
   "execution_count": null,
   "id": "e10bd9a4",
   "metadata": {},
   "outputs": [],
   "source": [
    "foo = Object.new\n",
    "\n",
    "def foo.bar\n",
    "    \"bar\"\n",
    "end"
   ]
  },
  {
   "cell_type": "code",
   "execution_count": null,
   "id": "d50f2fee",
   "metadata": {},
   "outputs": [],
   "source": [
    "p foo.respond_to? :bar\n",
    "p foo.respond_to? \"bar\"\n",
    "\n",
    "p foo.send(\"bar\")\n",
    "p foo.send(:bar)"
   ]
  },
  {
   "cell_type": "markdown",
   "id": "5a225a87",
   "metadata": {},
   "source": [
    "### `defined?`"
   ]
  },
  {
   "cell_type": "code",
   "execution_count": 3,
   "id": "9b8cfca1",
   "metadata": {},
   "outputs": [
    {
     "data": {
      "text/plain": [
       "\"constant\""
      ]
     },
     "execution_count": 3,
     "metadata": {},
     "output_type": "execute_result"
    }
   ],
   "source": [
    "class Skirt\n",
    "end\n",
    "\n",
    "defined? Skirt"
   ]
  },
  {
   "cell_type": "code",
   "execution_count": 4,
   "id": "da802ed6",
   "metadata": {},
   "outputs": [
    {
     "data": {
      "text/plain": [
       "\"constant\""
      ]
     },
     "execution_count": 4,
     "metadata": {},
     "output_type": "execute_result"
    }
   ],
   "source": [
    "module Yer\n",
    "end\n",
    "\n",
    "defined? Yer"
   ]
  },
  {
   "cell_type": "code",
   "execution_count": 1,
   "id": "1ad94ee9",
   "metadata": {},
   "outputs": [
    {
     "data": {
      "text/plain": [
       "\"method\""
      ]
     },
     "execution_count": 1,
     "metadata": {},
     "output_type": "execute_result"
    }
   ],
   "source": [
    "def baz\n",
    "end\n",
    "\n",
    "defined? baz"
   ]
  },
  {
   "cell_type": "code",
   "execution_count": null,
   "id": "c633f86f",
   "metadata": {},
   "outputs": [],
   "source": []
  },
  {
   "cell_type": "code",
   "execution_count": null,
   "id": "29b6827d",
   "metadata": {},
   "outputs": [],
   "source": []
  },
  {
   "cell_type": "code",
   "execution_count": 2,
   "id": "199c7a10",
   "metadata": {},
   "outputs": [
    {
     "data": {
      "text/plain": [
       "\"local-variable\""
      ]
     },
     "execution_count": 2,
     "metadata": {},
     "output_type": "execute_result"
    }
   ],
   "source": [
    "abra = 1\n",
    "\n",
    "defined? abra"
   ]
  },
  {
   "cell_type": "code",
   "execution_count": 5,
   "id": "9ca1cfeb",
   "metadata": {},
   "outputs": [
    {
     "data": {
      "text/plain": [
       "\"self\""
      ]
     },
     "execution_count": 5,
     "metadata": {},
     "output_type": "execute_result"
    }
   ],
   "source": [
    "defined? self"
   ]
  }
 ],
 "metadata": {
  "kernelspec": {
   "display_name": "Ruby 3.0.0",
   "language": "ruby",
   "name": "ruby"
  },
  "language_info": {
   "file_extension": ".rb",
   "mimetype": "application/x-ruby",
   "name": "ruby",
   "version": "3.0.0"
  }
 },
 "nbformat": 4,
 "nbformat_minor": 5
}
