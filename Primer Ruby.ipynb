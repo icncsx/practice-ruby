{
 "cells": [
  {
   "cell_type": "markdown",
   "metadata": {},
   "source": [
    "# Ruby"
   ]
  },
  {
   "cell_type": "code",
   "execution_count": 15,
   "metadata": {},
   "outputs": [
    {
     "data": {
      "text/plain": [
       "Symbol"
      ]
     },
     "execution_count": 15,
     "metadata": {},
     "output_type": "execute_result"
    }
   ],
   "source": [
    ":dh.class"
   ]
  },
  {
   "cell_type": "code",
   "execution_count": 16,
   "metadata": {},
   "outputs": [
    {
     "data": {
      "text/plain": [
       "String"
      ]
     },
     "execution_count": 16,
     "metadata": {},
     "output_type": "execute_result"
    }
   ],
   "source": [
    "\"Hello\".class"
   ]
  },
  {
   "cell_type": "code",
   "execution_count": 11,
   "metadata": {},
   "outputs": [
    {
     "name": "stdout",
     "output_type": "stream",
     "text": [
      "TrueClass\n",
      "FalseClass\n"
     ]
    }
   ],
   "source": [
    "puts true.class\n",
    "puts false.class"
   ]
  },
  {
   "cell_type": "code",
   "execution_count": 12,
   "metadata": {},
   "outputs": [
    {
     "name": "stdout",
     "output_type": "stream",
     "text": [
      "Integer\n",
      "Float\n"
     ]
    }
   ],
   "source": [
    "puts 1.class\n",
    "puts 1.0.class"
   ]
  },
  {
   "cell_type": "code",
   "execution_count": 9,
   "metadata": {},
   "outputs": [
    {
     "data": {
      "text/plain": [
       "Array"
      ]
     },
     "execution_count": 9,
     "metadata": {},
     "output_type": "execute_result"
    }
   ],
   "source": [
    "[1,2,3].class"
   ]
  },
  {
   "cell_type": "code",
   "execution_count": 10,
   "metadata": {},
   "outputs": [
    {
     "data": {
      "text/plain": [
       "Hash"
      ]
     },
     "execution_count": 10,
     "metadata": {},
     "output_type": "execute_result"
    }
   ],
   "source": [
    "{ name: \"DH\", age: 27 }.class"
   ]
  },
  {
   "cell_type": "code",
   "execution_count": 17,
   "metadata": {},
   "outputs": [
    {
     "data": {
      "text/plain": [
       "Class"
      ]
     },
     "execution_count": 17,
     "metadata": {},
     "output_type": "execute_result"
    }
   ],
   "source": [
    "class Foo\n",
    "end\n",
    "\n",
    "Foo.class"
   ]
  },
  {
   "cell_type": "markdown",
   "metadata": {},
   "source": [
    "### `messages are not objects`\n",
    "\n",
    "The messages we send to an object is not an object. But, we can convert them to an object.\n",
    "\n",
    "We can convert a message to a method object by sending method message to a given object with the argument of the method name as the symbol."
   ]
  },
  {
   "cell_type": "code",
   "execution_count": 24,
   "metadata": {},
   "outputs": [
    {
     "data": {
      "text/plain": [
       "#<Method: Array#length()>"
      ]
     },
     "execution_count": 24,
     "metadata": {},
     "output_type": "execute_result"
    }
   ],
   "source": [
    "length_method_object = [1,2].method(:length)"
   ]
  },
  {
   "cell_type": "code",
   "execution_count": 25,
   "metadata": {},
   "outputs": [
    {
     "data": {
      "text/plain": [
       "2"
      ]
     },
     "execution_count": 25,
     "metadata": {},
     "output_type": "execute_result"
    }
   ],
   "source": [
    "# to call the method \n",
    "length_method_object.call"
   ]
  },
  {
   "cell_type": "code",
   "execution_count": 31,
   "metadata": {},
   "outputs": [
    {
     "data": {
      "text/plain": [
       "#<Method: Array#push(*)>"
      ]
     },
     "execution_count": 31,
     "metadata": {},
     "output_type": "execute_result"
    }
   ],
   "source": [
    "arr = [1,2]\n",
    "push_method_object = arr.method(:push)"
   ]
  },
  {
   "cell_type": "code",
   "execution_count": 32,
   "metadata": {},
   "outputs": [
    {
     "data": {
      "text/plain": [
       "[1, 2, 3]"
      ]
     },
     "execution_count": 32,
     "metadata": {},
     "output_type": "execute_result"
    }
   ],
   "source": [
    "# to call the method\n",
    "push_method_object.call(3)\n",
    "arr"
   ]
  },
  {
   "cell_type": "markdown",
   "metadata": {},
   "source": [
    "### `lambdas`\n",
    "\n",
    "With Ruby, the lambda keyword is used to create a lambda function. It requires a block and can define zero or more parameters. You call the resulting lambda function by using the call method."
   ]
  },
  {
   "cell_type": "code",
   "execution_count": 55,
   "metadata": {},
   "outputs": [
    {
     "data": {
      "text/plain": [
       "#<Proc:0x00007ff2f08a4b80 (irb):0 (lambda)>"
      ]
     },
     "execution_count": 55,
     "metadata": {},
     "output_type": "execute_result"
    }
   ],
   "source": [
    "greet_lambda = lambda { puts \"Hello\" }"
   ]
  },
  {
   "cell_type": "code",
   "execution_count": 56,
   "metadata": {},
   "outputs": [
    {
     "data": {
      "text/plain": [
       "#<Proc:0x00007ff2f087e8b8 (irb):0 (lambda)>"
      ]
     },
     "execution_count": 56,
     "metadata": {},
     "output_type": "execute_result"
    }
   ],
   "source": [
    "add_two_number = lambda do |x,y|\n",
    "  x + y\n",
    "end"
   ]
  },
  {
   "cell_type": "code",
   "execution_count": null,
   "metadata": {},
   "outputs": [],
   "source": [
    "add_two_numbers = -> (x, y) { x + y }"
   ]
  },
  {
   "cell_type": "code",
   "execution_count": null,
   "metadata": {},
   "outputs": [],
   "source": [
    "add_two_numbers = -> (x, y) do \n",
    "  x + y\n",
    "end"
   ]
  },
  {
   "cell_type": "markdown",
   "metadata": {},
   "source": [
    "There are many ways to call a lambda. The most common way is to use the `call` method."
   ]
  },
  {
   "cell_type": "code",
   "execution_count": null,
   "metadata": {},
   "outputs": [],
   "source": [
    "# explicit (best)\n",
    "add_number.call(1,3)"
   ]
  },
  {
   "cell_type": "code",
   "execution_count": 39,
   "metadata": {},
   "outputs": [
    {
     "data": {
      "text/plain": [
       "4"
      ]
     },
     "execution_count": 39,
     "metadata": {},
     "output_type": "execute_result"
    }
   ],
   "source": [
    "# decent\n",
    "add_number.(1,3)"
   ]
  },
  {
   "cell_type": "markdown",
   "metadata": {},
   "source": [
    "You can also use default arguments with a Ruby lambda."
   ]
  },
  {
   "cell_type": "code",
   "execution_count": 49,
   "metadata": {},
   "outputs": [
    {
     "name": "stdout",
     "output_type": "stream",
     "text": [
      "6\n",
      "3\n"
     ]
    }
   ],
   "source": [
    "add_two_numbers = -> (x=2, y=4) { \n",
    "  x + y\n",
    "}\n",
    "\n",
    "add_two_number = lambda { |x=2,y=4|\n",
    "  x + y\n",
    "}\n",
    "\n",
    "puts add_two_numbers.call()\n",
    "puts add_two_numbers.call(1, 2)"
   ]
  },
  {
   "cell_type": "markdown",
   "metadata": {},
   "source": [
    "### `passing a lambda function`\n",
    "\n",
    "It's really just like Python..."
   ]
  },
  {
   "cell_type": "code",
   "execution_count": 145,
   "metadata": {},
   "outputs": [
    {
     "data": {
      "text/plain": [
       "[1, 4, 9]"
      ]
     },
     "execution_count": 145,
     "metadata": {},
     "output_type": "execute_result"
    }
   ],
   "source": [
    "def map(func, arr)\n",
    "  res = []\n",
    "  arr.each do |el|\n",
    "    res.push(func.call(el))\n",
    "  end\n",
    "  res\n",
    "end\n",
    "\n",
    "map(-> (x) { x ** 2}, [1,2,3])"
   ]
  },
  {
   "cell_type": "markdown",
   "metadata": {},
   "source": [
    "### `lambdas w/ closures`"
   ]
  },
  {
   "cell_type": "code",
   "execution_count": 45,
   "metadata": {},
   "outputs": [
    {
     "data": {
      "text/plain": [
       "2"
      ]
     },
     "execution_count": 45,
     "metadata": {},
     "output_type": "execute_result"
    }
   ],
   "source": [
    "def incrementer\n",
    "  count = 0\n",
    "  \n",
    "  -> () do  # lambda\n",
    "    count += 1\n",
    "    count\n",
    "  end\n",
    "\n",
    "end\n",
    "\n",
    "i = incrementer\n",
    "\n",
    "i.call()\n",
    "i.call()"
   ]
  },
  {
   "cell_type": "markdown",
   "metadata": {},
   "source": [
    "### `proc`\n",
    "\n",
    "What in the hell is it anyways..."
   ]
  },
  {
   "cell_type": "markdown",
   "metadata": {},
   "source": [
    "### `top level`\n",
    "\n",
    "The default receiver is `self`. As you can see there are many methods which are available to self in the top-level execution context.\n",
    "\n",
    "We can mixin methods at different levels, including the top-level."
   ]
  },
  {
   "cell_type": "code",
   "execution_count": 45,
   "metadata": {},
   "outputs": [
    {
     "name": "stdout",
     "output_type": "stream",
     "text": [
      "\"Yes, sir\"\n"
     ]
    },
    {
     "data": {
      "text/plain": [
       "\"Yes, sir\""
      ]
     },
     "execution_count": 45,
     "metadata": {},
     "output_type": "execute_result"
    }
   ],
   "source": [
    "module Bespoke\n",
    "  def suit_up\n",
    "    p \"Yes, sir\"\n",
    "  end\n",
    "end\n",
    "\n",
    "include Bespoke\n",
    "suit_up"
   ]
  },
  {
   "cell_type": "code",
   "execution_count": 48,
   "metadata": {},
   "outputs": [
    {
     "data": {
      "text/plain": [
       "true"
      ]
     },
     "execution_count": 48,
     "metadata": {},
     "output_type": "execute_result"
    }
   ],
   "source": [
    "self.methods.include? :suit_up"
   ]
  },
  {
   "cell_type": "code",
   "execution_count": 5,
   "metadata": {},
   "outputs": [
    {
     "name": "stdout",
     "output_type": "stream",
     "text": [
      "#<Object:0x00007fd3fc996c18 @prompt={:PROMPT_I=>\"3.0.0 :%03n > \", :PROMPT_S=>\"3.0.0 :%03n%l> \", :PROMPT_C=>\"3.0.0 :%03n > \", :PROMPT_N=>\"3.0.0 :%03n?> \", :RETURN=>\" => %s \\n\", :AUTO_INDENT=>true}>\n"
     ]
    },
    {
     "data": {
      "text/plain": [
       "#<Object:0x00007fd3fc996c18 @prompt={:PROMPT_I=>\"3.0.0 :%03n > \", :PROMPT_S=>\"3.0.0 :%03n%l> \", :PROMPT_C=>\"3.0.0 :%03n > \", :PROMPT_N=>\"3.0.0 :%03n?> \", :RETURN=>\" => %s \\n\", :AUTO_INDENT=>true}>"
      ]
     },
     "execution_count": 5,
     "metadata": {},
     "output_type": "execute_result"
    }
   ],
   "source": [
    "p self"
   ]
  },
  {
   "cell_type": "markdown",
   "metadata": {},
   "source": [
    "### `classes as objects and message receivers`\n",
    "\n",
    "Clases are special objects: they're the only kind of object that has the power to spawn new objects (instances). Nonetheless they're objects.\n",
    "\n",
    "Like other objects, classes can be created. You can create a class object with the special `class` keyword formula.\n",
    "\n",
    "To understand where classes get their methods, think about where objects in general get their methods.\n",
    "  \n",
    "\n",
    "- From their class\n",
    "  \n",
    "  \n",
    "- From the superclass and earlier ancestors of their class\n",
    "  \n",
    "  \n",
    "- From their own store of singleton methods `(def obj.talk)`"
   ]
  },
  {
   "cell_type": "code",
   "execution_count": 20,
   "metadata": {},
   "outputs": [
    {
     "data": {
      "text/plain": [
       "#<Class:0x00007fd3fc996a88>::Person"
      ]
     },
     "execution_count": 20,
     "metadata": {},
     "output_type": "execute_result"
    }
   ],
   "source": [
    "# Class defines an instance method called `new`\n",
    "# attr_accessor methods are defined in Module\n",
    "\n",
    "\n",
    "# Class\n",
    "#\n",
    "# Person is an instance of Class, Class' superclass is Module...\n",
    "\n",
    "Person = Class.new do\n",
    "  def introduce\n",
    "    p \"Hello, I am a person\"\n",
    "  end\n",
    "end"
   ]
  },
  {
   "cell_type": "code",
   "execution_count": 27,
   "metadata": {},
   "outputs": [
    {
     "data": {
      "text/plain": [
       "[:<=>, :<=, :>=, :==, :===, :included_modules, :include?, :ancestors, :attr, :attr_reader, :attr_writer, :attr_accessor, :instance_methods, :public_instance_methods, :protected_instance_methods, :private_instance_methods, :constants, :const_get, :const_set, :const_defined?, :freeze, :inspect, :const_source_location, :const_missing, :class_variable_get, :class_variable_defined?, :remove_class_variable, :class_variable_set, :class_variables, :public_constant, :private_constant, :deprecate_constant, :singleton_class?, :<, :prepend, :>, :include, :module_eval, :class_eval, :remove_method, :undef_method, :to_s, :module_exec, :class_exec, :alias_method, :protected_method_defined?, :public_class_method, :method_defined?, :public_method_defined?, :private_method_defined?, :autoload, :autoload?, :private_class_method, :name, :pretty_print, :instance_method, :public_instance_method, :define_method, :pretty_print_cycle, :pretty_print_inspect, :pretty_print_instance_variables, :to_json, :taint, :tainted?, :untaint, :untrust, :untrusted?, :trust, :methods, :singleton_methods, :protected_methods, :private_methods, :public_methods, :instance_variables, :instance_variable_get, :instance_variable_set, :instance_variable_defined?, :remove_instance_variable, :instance_of?, :kind_of?, :is_a?, :method, :public_method, :public_send, :singleton_method, :define_singleton_method, :extend, :clone, :to_enum, :enum_for, :=~, :!~, :nil?, :eql?, :respond_to?, :object_id, :send, :pretty_inspect, :display, :frozen?, :class, :then, :tap, :yield_self, :hash, :singleton_class, :dup, :itself, :!, :!=, :equal?, :instance_eval, :instance_exec, :__id__, :__send__]"
      ]
     },
     "execution_count": 27,
     "metadata": {},
     "output_type": "execute_result"
    }
   ],
   "source": [
    "Module.instance_methods"
   ]
  },
  {
   "cell_type": "code",
   "execution_count": 35,
   "metadata": {},
   "outputs": [
    {
     "data": {
      "text/plain": [
       "Module"
      ]
     },
     "execution_count": 35,
     "metadata": {},
     "output_type": "execute_result"
    }
   ],
   "source": [
    "Foo.class.superclass"
   ]
  },
  {
   "cell_type": "code",
   "execution_count": 31,
   "metadata": {},
   "outputs": [
    {
     "data": {
      "text/plain": [
       ":bar"
      ]
     },
     "execution_count": 31,
     "metadata": {},
     "output_type": "execute_result"
    }
   ],
   "source": [
    "class Foo\n",
    "  def bar\n",
    "    p self.methods\n",
    "  end\n",
    "end"
   ]
  },
  {
   "cell_type": "code",
   "execution_count": 32,
   "metadata": {},
   "outputs": [
    {
     "name": "stdout",
     "output_type": "stream",
     "text": [
      "[:bar, :pretty_print_inspect, :pretty_print_instance_variables, :pretty_print, :pretty_print_cycle, :to_json, :taint, :tainted?, :untaint, :untrust, :untrusted?, :trust, :methods, :singleton_methods, :protected_methods, :private_methods, :public_methods, :instance_variables, :instance_variable_get, :instance_variable_set, :instance_variable_defined?, :remove_instance_variable, :instance_of?, :kind_of?, :is_a?, :method, :public_method, :public_send, :singleton_method, :define_singleton_method, :extend, :clone, :to_enum, :enum_for, :<=>, :===, :=~, :!~, :nil?, :eql?, :respond_to?, :freeze, :inspect, :object_id, :send, :to_s, :pretty_inspect, :display, :frozen?, :class, :then, :tap, :yield_self, :hash, :singleton_class, :dup, :itself, :!, :==, :!=, :equal?, :instance_eval, :instance_exec, :__id__, :__send__]\n"
     ]
    },
    {
     "data": {
      "text/plain": [
       "[:bar, :pretty_print_inspect, :pretty_print_instance_variables, :pretty_print, :pretty_print_cycle, :to_json, :taint, :tainted?, :untaint, :untrust, :untrusted?, :trust, :methods, :singleton_methods, :protected_methods, :private_methods, :public_methods, :instance_variables, :instance_variable_get, :instance_variable_set, :instance_variable_defined?, :remove_instance_variable, :instance_of?, :kind_of?, :is_a?, :method, :public_method, :public_send, :singleton_method, :define_singleton_method, :extend, :clone, :to_enum, :enum_for, :<=>, :===, :=~, :!~, :nil?, :eql?, :respond_to?, :freeze, :inspect, :object_id, :send, :to_s, :pretty_inspect, :display, :frozen?, :class, :then, :tap, :yield_self, :hash, :singleton_class, :dup, :itself, :!, :==, :!=, :equal?, :instance_eval, :instance_exec, :__id__, :__send__]"
      ]
     },
     "execution_count": 32,
     "metadata": {},
     "output_type": "execute_result"
    }
   ],
   "source": [
    "Foo.new.bar"
   ]
  },
  {
   "cell_type": "code",
   "execution_count": 26,
   "metadata": {},
   "outputs": [
    {
     "data": {
      "text/plain": [
       "Module"
      ]
     },
     "execution_count": 26,
     "metadata": {},
     "output_type": "execute_result"
    }
   ],
   "source": [
    "Class.superclass"
   ]
  },
  {
   "cell_type": "code",
   "execution_count": 24,
   "metadata": {},
   "outputs": [
    {
     "data": {
      "text/plain": [
       "Class"
      ]
     },
     "execution_count": 24,
     "metadata": {},
     "output_type": "execute_result"
    }
   ],
   "source": [
    "Person.class"
   ]
  },
  {
   "cell_type": "code",
   "execution_count": 21,
   "metadata": {},
   "outputs": [
    {
     "name": "stdout",
     "output_type": "stream",
     "text": [
      "\"Hello, I am a person\"\n"
     ]
    },
    {
     "data": {
      "text/plain": [
       "\"Hello, I am a person\""
      ]
     },
     "execution_count": 21,
     "metadata": {},
     "output_type": "execute_result"
    }
   ],
   "source": [
    "person = Person.new\n",
    "\n",
    "person.introduce"
   ]
  },
  {
   "cell_type": "code",
   "execution_count": null,
   "metadata": {},
   "outputs": [],
   "source": []
  },
  {
   "cell_type": "markdown",
   "metadata": {},
   "source": [
    "To understand where classes get their methods, think about where objects in general get their methods.\n",
    "  \n",
    "\n",
    "- From their class\n",
    "  \n",
    "  \n",
    "- From the superclass and earlier ancestors of their class\n",
    "  \n",
    "  \n",
    "- From their own store of singleton methods `(def obj.talk)`"
   ]
  },
  {
   "cell_type": "code",
   "execution_count": null,
   "metadata": {},
   "outputs": [],
   "source": []
  },
  {
   "cell_type": "code",
   "execution_count": null,
   "metadata": {},
   "outputs": [],
   "source": []
  },
  {
   "cell_type": "code",
   "execution_count": null,
   "metadata": {},
   "outputs": [],
   "source": []
  },
  {
   "cell_type": "code",
   "execution_count": null,
   "metadata": {},
   "outputs": [],
   "source": []
  },
  {
   "cell_type": "code",
   "execution_count": null,
   "metadata": {},
   "outputs": [],
   "source": []
  },
  {
   "cell_type": "markdown",
   "metadata": {},
   "source": [
    "### `Object.new`\n",
    "\n",
    "The process of creating an object from a class is called instantiation. In Ruby the `new` method is used for instantiating an object.\n",
    "\n",
    "What you do broadly with objects is send them messages, most of which correspond to names of methods that you're asking objects to execute.\n",
    "\n",
    "The `.` notation is used to send a message to any object. On the left side of the `.` is either an explicit receiver or an implicit one (called `self`)."
   ]
  },
  {
   "cell_type": "code",
   "execution_count": null,
   "metadata": {},
   "outputs": [],
   "source": [
    "class Car\n",
    "  def drive\n",
    "    return 'driving'\n",
    "  end\n",
    "end\n",
    "\n",
    "car = Car.new\n",
    "car.drive"
   ]
  },
  {
   "cell_type": "markdown",
   "metadata": {},
   "source": [
    "### `initialize`\n",
    "\n",
    "Initialization is the process of preparing an instance of a class. This process involves setting an initial value for each instance variable on that instance. We cannot call the initialize method. Only Ruby can call it. To initialize an instance of any class, always use the new method."
   ]
  },
  {
   "cell_type": "code",
   "execution_count": 11,
   "metadata": {},
   "outputs": [
    {
     "data": {
      "text/plain": [
       "#<#<Class:0x00007fdd4611a550>::Car:0x00007fdd46981130 @color=\"red\">"
      ]
     },
     "execution_count": 11,
     "metadata": {},
     "output_type": "execute_result"
    }
   ],
   "source": [
    "class Car \n",
    "  def initialize(color)\n",
    "    @color = color\n",
    "  end\n",
    "  \n",
    "  def drive\n",
    "    return 'driving'\n",
    "  end\n",
    "end\n",
    "\n",
    "car = Car.new(\"red\")"
   ]
  },
  {
   "cell_type": "markdown",
   "metadata": {},
   "source": [
    "### `Class.instance_methods(false)`\n",
    "\n",
    "The Car class defines the drive instance method, so it shows up in the output. We pass false to the instance_methods to print instance methods found in the Car class only.\n",
    "\n",
    "Remember: instance methods live in the class."
   ]
  },
  {
   "cell_type": "code",
   "execution_count": 13,
   "metadata": {},
   "outputs": [
    {
     "data": {
      "text/plain": [
       "[:drive]"
      ]
     },
     "execution_count": 13,
     "metadata": {},
     "output_type": "execute_result"
    }
   ],
   "source": [
    "Car.instance_methods(false)"
   ]
  },
  {
   "cell_type": "code",
   "execution_count": 14,
   "metadata": {},
   "outputs": [
    {
     "data": {
      "text/plain": [
       "[:drive, :pretty_print_inspect, :pretty_print_instance_variables, :pretty_print, :pretty_print_cycle, :to_json, :taint, :tainted?, :untaint, :untrust, :untrusted?, :trust, :methods, :singleton_methods, :protected_methods, :private_methods, :public_methods, :instance_variables, :instance_variable_get, :instance_variable_set, :instance_variable_defined?, :remove_instance_variable, :instance_of?, :kind_of?, :is_a?, :method, :public_method, :public_send, :singleton_method, :define_singleton_method, :extend, :clone, :to_enum, :enum_for, :<=>, :===, :=~, :!~, :nil?, :eql?, :respond_to?, :freeze, :inspect, :object_id, :send, :to_s, :pretty_inspect, :display, :frozen?, :class, :then, :tap, :yield_self, :hash, :singleton_class, :dup, :itself, :!, :==, :!=, :equal?, :instance_eval, :instance_exec, :__id__, :__send__]"
      ]
     },
     "execution_count": 14,
     "metadata": {},
     "output_type": "execute_result"
    }
   ],
   "source": [
    "Car.instance_methods(true)"
   ]
  },
  {
   "cell_type": "markdown",
   "metadata": {},
   "source": [
    "### `object.methods`\n",
    "\n",
    "What methods are available on an object? If you call `methods` on an object, you'll get a list of callable methods. A class is a blueprint for making new objects, and it decides, among other things, what methods you can call on the object."
   ]
  },
  {
   "cell_type": "code",
   "execution_count": 16,
   "metadata": {},
   "outputs": [
    {
     "data": {
      "text/plain": [
       "[:drive, :pretty_print_inspect, :pretty_print_instance_variables, :pretty_print, :pretty_print_cycle, :to_json, :taint, :tainted?, :untaint, :untrust, :untrusted?, :trust, :methods, :singleton_methods, :protected_methods, :private_methods, :public_methods, :instance_variables, :instance_variable_get, :instance_variable_set, :instance_variable_defined?, :remove_instance_variable, :instance_of?, :kind_of?, :is_a?, :method, :public_method, :public_send, :singleton_method, :define_singleton_method, :extend, :clone, :to_enum, :enum_for, :<=>, :===, :=~, :!~, :nil?, :eql?, :respond_to?, :freeze, :inspect, :object_id, :send, :to_s, :pretty_inspect, :display, :frozen?, :class, :then, :tap, :yield_self, :hash, :singleton_class, :dup, :itself, :!, :==, :!=, :equal?, :instance_eval, :instance_exec, :__id__, :__send__]"
      ]
     },
     "execution_count": 16,
     "metadata": {},
     "output_type": "execute_result"
    }
   ],
   "source": [
    "Car.new(\"red\").methods # should match Car.instance_methods"
   ]
  },
  {
   "cell_type": "markdown",
   "metadata": {},
   "source": [
    "### `object.instance_variables`\n",
    "\n",
    "Get a list of instance variables that have been set. By a `@lval = rval`.\n",
    "\n",
    "Remember: instance variables live in the object."
   ]
  },
  {
   "cell_type": "code",
   "execution_count": 21,
   "metadata": {},
   "outputs": [
    {
     "data": {
      "text/plain": [
       "[:@color]"
      ]
     },
     "execution_count": 21,
     "metadata": {},
     "output_type": "execute_result"
    }
   ],
   "source": [
    "Car.new(\"red\").instance_variables"
   ]
  },
  {
   "cell_type": "markdown",
   "metadata": {},
   "source": [
    "### `instance methods vs instance variables`\n",
    "\n",
    "- instance methods live in the class\n",
    "  \n",
    "  \n",
    "- instance variables (state) lives in the instance\n",
    "\n",
    "\n",
    "- instance variables are not visible from the outside of an object\n",
    "\n",
    "\n",
    "- unintialized instance variables have a default value of nil"
   ]
  },
  {
   "cell_type": "code",
   "execution_count": 130,
   "metadata": {},
   "outputs": [
    {
     "name": "stdout",
     "output_type": "stream",
     "text": [
      "[]\n"
     ]
    },
    {
     "data": {
      "text/plain": [
       "[]"
      ]
     },
     "execution_count": 130,
     "metadata": {},
     "output_type": "execute_result"
    }
   ],
   "source": [
    "# use p when in doubt...\n",
    "p []"
   ]
  },
  {
   "cell_type": "code",
   "execution_count": 129,
   "metadata": {},
   "outputs": [
    {
     "name": "stdout",
     "output_type": "stream",
     "text": []
    }
   ],
   "source": [
    "puts []"
   ]
  },
  {
   "cell_type": "code",
   "execution_count": null,
   "metadata": {},
   "outputs": [],
   "source": []
  },
  {
   "cell_type": "code",
   "execution_count": null,
   "metadata": {},
   "outputs": [],
   "source": []
  },
  {
   "cell_type": "markdown",
   "metadata": {},
   "source": [
    "### `destructure/spread arrays`\n",
    "\n",
    "Use the *"
   ]
  },
  {
   "cell_type": "code",
   "execution_count": 222,
   "metadata": {},
   "outputs": [
    {
     "name": "stdout",
     "output_type": "stream",
     "text": [
      "1\n",
      "2\n"
     ]
    },
    {
     "data": {
      "text/plain": [
       "2"
      ]
     },
     "execution_count": 222,
     "metadata": {},
     "output_type": "execute_result"
    }
   ],
   "source": [
    "x, y = [1,2]\n",
    "\n",
    "p x\n",
    "p y"
   ]
  },
  {
   "cell_type": "code",
   "execution_count": 224,
   "metadata": {},
   "outputs": [
    {
     "name": "stdout",
     "output_type": "stream",
     "text": [
      "1\n",
      "[2, 3]\n"
     ]
    },
    {
     "data": {
      "text/plain": [
       "[2, 3]"
      ]
     },
     "execution_count": 224,
     "metadata": {},
     "output_type": "execute_result"
    }
   ],
   "source": [
    "x, *y = [1,2,3]\n",
    "\n",
    "p x\n",
    "p y"
   ]
  },
  {
   "cell_type": "code",
   "execution_count": 244,
   "metadata": {},
   "outputs": [
    {
     "data": {
      "text/plain": [
       "[1, 2, 3, 4, 5, 6]"
      ]
     },
     "execution_count": 244,
     "metadata": {},
     "output_type": "execute_result"
    }
   ],
   "source": [
    "x = [1,2,3]\n",
    "y = [4,5,6]\n",
    "\n",
    "[*x, * y]"
   ]
  },
  {
   "cell_type": "code",
   "execution_count": 229,
   "metadata": {},
   "outputs": [
    {
     "data": {
      "text/plain": [
       ":sum"
      ]
     },
     "execution_count": 229,
     "metadata": {},
     "output_type": "execute_result"
    }
   ],
   "source": [
    "def sum(*nums)\n",
    "  nums.sum\n",
    "end"
   ]
  },
  {
   "cell_type": "code",
   "execution_count": 230,
   "metadata": {},
   "outputs": [
    {
     "data": {
      "text/plain": [
       "6"
      ]
     },
     "execution_count": 230,
     "metadata": {},
     "output_type": "execute_result"
    }
   ],
   "source": [
    "sum(1,2,3)"
   ]
  },
  {
   "cell_type": "code",
   "execution_count": 231,
   "metadata": {},
   "outputs": [
    {
     "data": {
      "text/plain": [
       "6"
      ]
     },
     "execution_count": 231,
     "metadata": {},
     "output_type": "execute_result"
    }
   ],
   "source": [
    "args = [1,2,3]\n",
    "sum(*args)"
   ]
  },
  {
   "cell_type": "markdown",
   "metadata": {},
   "source": [
    "### `destructure/spread hash`"
   ]
  },
  {
   "cell_type": "code",
   "execution_count": 246,
   "metadata": {},
   "outputs": [
    {
     "data": {
      "text/plain": [
       "{:name=>\"DH\", :age=>26}"
      ]
     },
     "execution_count": 246,
     "metadata": {},
     "output_type": "execute_result"
    }
   ],
   "source": [
    "# use the **\n",
    "\n",
    "name = { name: \"DH\" }\n",
    "age = { age: 26 }\n",
    "\n",
    "profile = {**name, **age}\n",
    "profile"
   ]
  },
  {
   "cell_type": "markdown",
   "metadata": {},
   "source": [
    "```js\n",
    "// in JS\n",
    "const { a, b } = { \"a\": 1, \"b\": 2 }\n",
    "```"
   ]
  },
  {
   "cell_type": "code",
   "execution_count": 248,
   "metadata": {},
   "outputs": [
    {
     "name": "stdout",
     "output_type": "stream",
     "text": [
      "\"DH\"\n",
      "26\n"
     ]
    },
    {
     "data": {
      "text/plain": [
       "26"
      ]
     },
     "execution_count": 248,
     "metadata": {},
     "output_type": "execute_result"
    }
   ],
   "source": [
    "name, age = profile.values_at(:name, :age)\n",
    "\n",
    "p name\n",
    "p age"
   ]
  },
  {
   "cell_type": "code",
   "execution_count": 254,
   "metadata": {},
   "outputs": [
    {
     "name": "stdout",
     "output_type": "stream",
     "text": [
      "[1, 2]\n",
      "{:a=>3, :b=>4}\n"
     ]
    },
    {
     "data": {
      "text/plain": [
       "{:a=>3, :b=>4}"
      ]
     },
     "execution_count": 254,
     "metadata": {},
     "output_type": "execute_result"
    }
   ],
   "source": [
    "def try(*args, **kwargs)\n",
    "  p args\n",
    "  p kwargs\n",
    "end\n",
    "\n",
    "try(1, 2, a: 3, b: 4)"
   ]
  },
  {
   "cell_type": "code",
   "execution_count": null,
   "metadata": {},
   "outputs": [],
   "source": []
  },
  {
   "cell_type": "code",
   "execution_count": 38,
   "metadata": {},
   "outputs": [
    {
     "data": {
      "text/plain": [
       ":skirt"
      ]
     },
     "execution_count": 38,
     "metadata": {},
     "output_type": "execute_result"
    }
   ],
   "source": [
    "class Foo\n",
    "  class << self\n",
    "    def yogi\n",
    "      p \"YOGI\"\n",
    "    end\n",
    "  end\n",
    "  \n",
    "  def self.skirt\n",
    "    p \"SKIRT\"\n",
    "  end\n",
    "end"
   ]
  },
  {
   "cell_type": "code",
   "execution_count": 40,
   "metadata": {},
   "outputs": [
    {
     "name": "stdout",
     "output_type": "stream",
     "text": [
      "\"YOGI\"\n",
      "\"SKIRT\"\n"
     ]
    },
    {
     "data": {
      "text/plain": [
       "\"SKIRT\""
      ]
     },
     "execution_count": 40,
     "metadata": {},
     "output_type": "execute_result"
    }
   ],
   "source": [
    "Foo.yogi\n",
    "\n",
    "Foo.skirt"
   ]
  },
  {
   "cell_type": "code",
   "execution_count": null,
   "metadata": {},
   "outputs": [],
   "source": []
  },
  {
   "cell_type": "code",
   "execution_count": null,
   "metadata": {},
   "outputs": [],
   "source": []
  },
  {
   "cell_type": "markdown",
   "metadata": {},
   "source": [
    "### `super keyword`\n",
    "\n",
    "If you leave the arguments off, the superclass method will automatically be called with the same arguments that were passed to the subclass method.\n",
    "\n",
    "Ruby is not Java. There are no constructors that automatically get chained to run. If you override initialize in the subclass, then the superclass' initialize does not run unless you explicitly call super."
   ]
  },
  {
   "cell_type": "code",
   "execution_count": 265,
   "metadata": {},
   "outputs": [
    {
     "data": {
      "text/plain": [
       ":bark"
      ]
     },
     "execution_count": 265,
     "metadata": {},
     "output_type": "execute_result"
    }
   ],
   "source": [
    "class Foo\n",
    "  def initialize(state)\n",
    "    @state = state\n",
    "  end\n",
    "  def bark\n",
    "    puts \"Foo\"\n",
    "  end\n",
    "end\n",
    "\n",
    "class Bar < Foo\n",
    "  def initialize(state)\n",
    "    super # equivalent to super(state)\n",
    "  end\n",
    "  def bark\n",
    "    super\n",
    "    puts \"Bar\"\n",
    "  end\n",
    "end"
   ]
  },
  {
   "cell_type": "code",
   "execution_count": 268,
   "metadata": {},
   "outputs": [
    {
     "name": "stdout",
     "output_type": "stream",
     "text": [
      "Foo\n",
      "Bar\n"
     ]
    }
   ],
   "source": [
    "bar = Bar.new(\"state\")\n",
    "bar.bark"
   ]
  },
  {
   "cell_type": "code",
   "execution_count": 9,
   "metadata": {},
   "outputs": [],
   "source": [
    "class Foo\n",
    "  def initialize(state)\n",
    "    @state = state\n",
    "  end\n",
    "  def bark\n",
    "    # inherit the initialize instance method\n",
    "    puts @state\n",
    "  end\n",
    "end\n",
    "\n",
    "class Bar < Foo\n",
    "end"
   ]
  },
  {
   "cell_type": "code",
   "execution_count": 10,
   "metadata": {},
   "outputs": [
    {
     "name": "stdout",
     "output_type": "stream",
     "text": [
      "msg\n"
     ]
    }
   ],
   "source": [
    "bar = Bar.new(\"msg\")\n",
    "bar.bark"
   ]
  },
  {
   "cell_type": "code",
   "execution_count": null,
   "metadata": {},
   "outputs": [],
   "source": []
  },
  {
   "cell_type": "code",
   "execution_count": null,
   "metadata": {},
   "outputs": [],
   "source": []
  },
  {
   "cell_type": "markdown",
   "metadata": {},
   "source": [
    "### `instance variables are not inherited`\n",
    "\n",
    "What is inherited are the setters that let you set those instance variables."
   ]
  },
  {
   "cell_type": "code",
   "execution_count": 1,
   "metadata": {},
   "outputs": [
    {
     "data": {
      "text/plain": [
       ":set_some_state"
      ]
     },
     "execution_count": 1,
     "metadata": {},
     "output_type": "execute_result"
    }
   ],
   "source": [
    "class Foo\n",
    "  def set_some_state\n",
    "    @state = \"state\"\n",
    "  end\n",
    "end"
   ]
  },
  {
   "cell_type": "code",
   "execution_count": 3,
   "metadata": {},
   "outputs": [
    {
     "data": {
      "text/plain": [
       "[]"
      ]
     },
     "execution_count": 3,
     "metadata": {},
     "output_type": "execute_result"
    }
   ],
   "source": [
    "foo = Foo.new\n",
    "foo.instance_variables"
   ]
  },
  {
   "cell_type": "code",
   "execution_count": 4,
   "metadata": {},
   "outputs": [
    {
     "data": {
      "text/plain": [
       "[:@state]"
      ]
     },
     "execution_count": 4,
     "metadata": {},
     "output_type": "execute_result"
    }
   ],
   "source": [
    "foo.set_some_state\n",
    "foo.instance_variables"
   ]
  },
  {
   "cell_type": "code",
   "execution_count": null,
   "metadata": {},
   "outputs": [],
   "source": []
  },
  {
   "cell_type": "markdown",
   "metadata": {},
   "source": [
    "### `keyword arguments`"
   ]
  },
  {
   "cell_type": "code",
   "execution_count": 39,
   "metadata": {},
   "outputs": [
    {
     "data": {
      "text/plain": [
       ":initialize"
      ]
     },
     "execution_count": 39,
     "metadata": {},
     "output_type": "execute_result"
    }
   ],
   "source": [
    "class Foo\n",
    "  attr_accessor :foo, :bar\n",
    "  def initialize(options={})\n",
    "    self.foo = options[:foo]\n",
    "    self.bar = options[:bar]\n",
    "  end\n",
    "end"
   ]
  },
  {
   "cell_type": "code",
   "execution_count": 40,
   "metadata": {},
   "outputs": [
    {
     "data": {
      "text/plain": [
       "#<#<Class:0x00007ff55c226308>::Foo:0x00007ff55c1cc6a0 @foo=\"foo\", @bar=nil>"
      ]
     },
     "execution_count": 40,
     "metadata": {},
     "output_type": "execute_result"
    }
   ],
   "source": [
    "f = Foo.new(foo: \"foo\", bare: \"bar\") # bar is nil because of a misspelling"
   ]
  },
  {
   "cell_type": "code",
   "execution_count": 42,
   "metadata": {},
   "outputs": [
    {
     "data": {
      "text/plain": [
       ":initialize"
      ]
     },
     "execution_count": 42,
     "metadata": {},
     "output_type": "execute_result"
    }
   ],
   "source": [
    "# better to use keyword arguments\n",
    "\n",
    "class Foo\n",
    "  attr_accessor :foo, :bar\n",
    "  def initialize(foo: \"foo\", bar: \"bar\")\n",
    "    self.foo = foo\n",
    "    self.bar = bar\n",
    "  end\n",
    "end"
   ]
  },
  {
   "cell_type": "code",
   "execution_count": 44,
   "metadata": {},
   "outputs": [
    {
     "ename": "ArgumentError",
     "evalue": "unknown keyword: :bare",
     "output_type": "error",
     "traceback": [
      "\u001b[31mArgumentError\u001b[0m: unknown keyword: :bare",
      "(irb):4:in `initialize'",
      "(irb):in `new'",
      "(irb):in `<main>'"
     ]
    }
   ],
   "source": [
    "# but won't forgive misspelling\n",
    "Foo.new(foo: \"foo\", bare: \"bar\")"
   ]
  },
  {
   "cell_type": "code",
   "execution_count": 45,
   "metadata": {},
   "outputs": [
    {
     "data": {
      "text/plain": [
       "#<#<Class:0x00007ff55c226308>::Foo:0x00007ff55c8eda88 @foo=\"foo\", @bar=\"bar\">"
      ]
     },
     "execution_count": 45,
     "metadata": {},
     "output_type": "execute_result"
    }
   ],
   "source": [
    "# omitting is fine\n",
    "Foo.new(foo: \"foo\")"
   ]
  },
  {
   "cell_type": "code",
   "execution_count": 46,
   "metadata": {},
   "outputs": [
    {
     "data": {
      "text/plain": [
       ":initialize"
      ]
     },
     "execution_count": 46,
     "metadata": {},
     "output_type": "execute_result"
    }
   ],
   "source": [
    "# better to use keyword arguments\n",
    "\n",
    "class Foo\n",
    "  attr_accessor :foo, :bar\n",
    "  def initialize(bar:, foo: \"foo\") # bar is required\n",
    "    self.foo = foo\n",
    "    self.bar = bar\n",
    "  end\n",
    "end"
   ]
  },
  {
   "cell_type": "code",
   "execution_count": 48,
   "metadata": {},
   "outputs": [
    {
     "ename": "ArgumentError",
     "evalue": "missing keyword: :bar",
     "output_type": "error",
     "traceback": [
      "\u001b[31mArgumentError\u001b[0m: missing keyword: :bar",
      "(irb):4:in `initialize'",
      "(irb):in `new'",
      "(irb):in `<main>'"
     ]
    }
   ],
   "source": [
    "Foo.new(bare: \"4\")"
   ]
  },
  {
   "cell_type": "code",
   "execution_count": 49,
   "metadata": {},
   "outputs": [
    {
     "data": {
      "text/plain": [
       "#<#<Class:0x00007ff55c226308>::Foo:0x00007ff55c25cc00 @foo=\"foo\", @bar=\"bar\">"
      ]
     },
     "execution_count": 49,
     "metadata": {},
     "output_type": "execute_result"
    }
   ],
   "source": [
    "Foo.new(bar: \"bar\")"
   ]
  },
  {
   "cell_type": "code",
   "execution_count": 50,
   "metadata": {},
   "outputs": [
    {
     "data": {
      "text/plain": [
       "#<#<Class:0x00007ff55c226308>::Foo:0x00007ff55c90c4d8 @foo=\"skirt\", @bar=\"bar\">"
      ]
     },
     "execution_count": 50,
     "metadata": {},
     "output_type": "execute_result"
    }
   ],
   "source": [
    "Foo.new(bar: \"bar\", foo: \"skirt\")"
   ]
  },
  {
   "cell_type": "code",
   "execution_count": null,
   "metadata": {},
   "outputs": [],
   "source": []
  },
  {
   "cell_type": "code",
   "execution_count": null,
   "metadata": {},
   "outputs": [],
   "source": []
  },
  {
   "cell_type": "code",
   "execution_count": null,
   "metadata": {},
   "outputs": [],
   "source": []
  },
  {
   "cell_type": "markdown",
   "metadata": {},
   "source": [
    "### `raise/rescue`\n",
    "\n",
    "If you have some code that you think might raise exceptions, you can surround it in a `begin/end` block and add one or more `rescue` clauses that will run when an exception is encountered.\n",
    "\n",
    "Ruby will first look for a rescue clause within the method. If it doesn't find one, the method will exit the method without a return value.\n",
    "\n",
    "When the method exits, Ruby will also look for a rescue clause in the place the method was called."
   ]
  },
  {
   "cell_type": "code",
   "execution_count": 8,
   "metadata": {},
   "outputs": [
    {
     "data": {
      "text/plain": [
       ":divide"
      ]
     },
     "execution_count": 8,
     "metadata": {},
     "output_type": "execute_result"
    }
   ],
   "source": [
    "def divide(x, y)\n",
    "  if y == 0\n",
    "    begin\n",
    "      raise ZeroDivisionError\n",
    "    rescue\n",
    "      return divide(x, 1)\n",
    "    end\n",
    "  end\n",
    "  x / y\n",
    "end"
   ]
  },
  {
   "cell_type": "code",
   "execution_count": 9,
   "metadata": {},
   "outputs": [
    {
     "data": {
      "text/plain": [
       "1"
      ]
     },
     "execution_count": 9,
     "metadata": {},
     "output_type": "execute_result"
    }
   ],
   "source": [
    "divide(1, 0)"
   ]
  },
  {
   "cell_type": "code",
   "execution_count": 11,
   "metadata": {},
   "outputs": [
    {
     "ename": "ZeroDivisionError",
     "evalue": "divided by 0",
     "output_type": "error",
     "traceback": [
      "\u001b[31mZeroDivisionError\u001b[0m: divided by 0",
      "(irb):in `/'",
      "(irb):in `<main>'"
     ]
    }
   ],
   "source": [
    "1/0"
   ]
  },
  {
   "cell_type": "code",
   "execution_count": 18,
   "metadata": {},
   "outputs": [
    {
     "name": "stdout",
     "output_type": "stream",
     "text": [
      "\"skirt skirt\"\n"
     ]
    },
    {
     "data": {
      "text/plain": [
       "\"skirt skirt\""
      ]
     },
     "execution_count": 18,
     "metadata": {},
     "output_type": "execute_result"
    }
   ],
   "source": [
    "def what\n",
    "  begin\n",
    "    raise ZeroDivisionError, \"skirt skirt\"\n",
    "  rescue => my_exception\n",
    "    p my_exception.message\n",
    "  end\n",
    "end\n",
    "\n",
    "what"
   ]
  },
  {
   "cell_type": "code",
   "execution_count": 16,
   "metadata": {},
   "outputs": [
    {
     "name": "stdout",
     "output_type": "stream",
     "text": [
      "\"Hello, world\"\n"
     ]
    },
    {
     "data": {
      "text/plain": [
       "\"Hello, world\""
      ]
     },
     "execution_count": 16,
     "metadata": {},
     "output_type": "execute_result"
    }
   ],
   "source": [
    "def what\n",
    "  begin\n",
    "    raise \"Hello, world\" # takes in a string... a generic runtime error now...\n",
    "  rescue => my_exception\n",
    "    p my_exception.message\n",
    "  end\n",
    "end\n",
    "\n",
    "what"
   ]
  },
  {
   "cell_type": "code",
   "execution_count": 22,
   "metadata": {},
   "outputs": [
    {
     "data": {
      "text/plain": [
       ":try"
      ]
     },
     "execution_count": 22,
     "metadata": {},
     "output_type": "execute_result"
    }
   ],
   "source": [
    "class FooError < StandardError\n",
    "end\n",
    "\n",
    "class BarError < StandardError\n",
    "end\n",
    "\n",
    "def try\n",
    "  begin\n",
    "    if rand() > 0.5\n",
    "      raise FooError, \"Foo error was raised\"\n",
    "    else\n",
    "      raise BarError, \"Bar error was raised\"\n",
    "    end\n",
    "  rescue FooError => error\n",
    "    p error.message\n",
    "  rescue BarError => error\n",
    "    p error.message\n",
    "  end\n",
    "end"
   ]
  },
  {
   "cell_type": "code",
   "execution_count": 23,
   "metadata": {},
   "outputs": [
    {
     "name": "stdout",
     "output_type": "stream",
     "text": [
      "\"Bar error was raised\"\n"
     ]
    },
    {
     "data": {
      "text/plain": [
       "\"Bar error was raised\""
      ]
     },
     "execution_count": 23,
     "metadata": {},
     "output_type": "execute_result"
    }
   ],
   "source": [
    "try"
   ]
  },
  {
   "cell_type": "code",
   "execution_count": 24,
   "metadata": {},
   "outputs": [
    {
     "name": "stdout",
     "output_type": "stream",
     "text": [
      "\"Bar error was raised\"\n"
     ]
    },
    {
     "data": {
      "text/plain": [
       "\"Bar error was raised\""
      ]
     },
     "execution_count": 24,
     "metadata": {},
     "output_type": "execute_result"
    }
   ],
   "source": [
    "try"
   ]
  },
  {
   "cell_type": "markdown",
   "metadata": {},
   "source": [
    "### `ensure`"
   ]
  },
  {
   "cell_type": "code",
   "execution_count": 36,
   "metadata": {},
   "outputs": [
    {
     "data": {
      "text/plain": [
       ":try_ensure"
      ]
     },
     "execution_count": 36,
     "metadata": {},
     "output_type": "execute_result"
    }
   ],
   "source": [
    "def try_ensure\n",
    "  begin\n",
    "    1/0\n",
    "  rescue ZeroDivisionError => e\n",
    "    p e.message # run this if it matches\n",
    "  ensure\n",
    "    p \"ensured\" # run at the end no matter what\n",
    "  end\n",
    "end"
   ]
  },
  {
   "cell_type": "code",
   "execution_count": 35,
   "metadata": {},
   "outputs": [
    {
     "name": "stdout",
     "output_type": "stream",
     "text": [
      "\"ensured\"\n"
     ]
    },
    {
     "ename": "ArgumentError",
     "evalue": "ArgumentError",
     "output_type": "error",
     "traceback": [
      "\u001b[31mArgumentError\u001b[0m: ArgumentError",
      "(irb):2:in `try_ensure'",
      "(irb):in `<main>'"
     ]
    }
   ],
   "source": [
    "try_ensure"
   ]
  },
  {
   "cell_type": "markdown",
   "metadata": {},
   "source": [
    "### `retry`\n",
    "\n",
    "Execution returns to the start of the begin/end block and statements there get return."
   ]
  },
  {
   "cell_type": "code",
   "execution_count": 41,
   "metadata": {},
   "outputs": [
    {
     "data": {
      "text/plain": [
       ":foo"
      ]
     },
     "execution_count": 41,
     "metadata": {},
     "output_type": "execute_result"
    }
   ],
   "source": [
    "def foo\n",
    "  divisor = 0\n",
    "  res = 1\n",
    "  begin\n",
    "    res = 1/divisor\n",
    "  rescue ZeroDivisionError => e\n",
    "    divisor = 1\n",
    "    retry\n",
    "  end\n",
    "  res\n",
    "end"
   ]
  },
  {
   "cell_type": "code",
   "execution_count": 42,
   "metadata": {},
   "outputs": [
    {
     "data": {
      "text/plain": [
       "1"
      ]
     },
     "execution_count": 42,
     "metadata": {},
     "output_type": "execute_result"
    }
   ],
   "source": [
    "foo"
   ]
  },
  {
   "cell_type": "markdown",
   "metadata": {},
   "source": [
    "### `required arguments`"
   ]
  },
  {
   "cell_type": "code",
   "execution_count": 215,
   "metadata": {},
   "outputs": [
    {
     "name": "stdout",
     "output_type": "stream",
     "text": [
      "1\n",
      "3\n",
      "2\n"
     ]
    },
    {
     "data": {
      "text/plain": [
       "2"
      ]
     },
     "execution_count": 215,
     "metadata": {},
     "output_type": "execute_result"
    }
   ],
   "source": [
    "# required arguments take precedent...\n",
    "def try(x, y=3, z)\n",
    "  p x\n",
    "  p y\n",
    "  p z\n",
    "end\n",
    "\n",
    "try(1, 2)"
   ]
  },
  {
   "cell_type": "code",
   "execution_count": 217,
   "metadata": {},
   "outputs": [
    {
     "name": "stdout",
     "output_type": "stream",
     "text": [
      "3\n",
      "1\n",
      "2\n"
     ]
    },
    {
     "data": {
      "text/plain": [
       "2"
      ]
     },
     "execution_count": 217,
     "metadata": {},
     "output_type": "execute_result"
    }
   ],
   "source": [
    "# required arguments take precedent...\n",
    "def try(x=3, y, z)\n",
    "  p x\n",
    "  p y\n",
    "  p z\n",
    "end\n",
    "\n",
    "try(1, 2)"
   ]
  },
  {
   "cell_type": "code",
   "execution_count": null,
   "metadata": {},
   "outputs": [],
   "source": []
  },
  {
   "cell_type": "code",
   "execution_count": null,
   "metadata": {},
   "outputs": [],
   "source": []
  },
  {
   "cell_type": "code",
   "execution_count": null,
   "metadata": {},
   "outputs": [],
   "source": []
  },
  {
   "cell_type": "code",
   "execution_count": 131,
   "metadata": {},
   "outputs": [
    {
     "name": "stdout",
     "output_type": "stream",
     "text": [
      "1\n",
      "2\n",
      "[]\n"
     ]
    },
    {
     "data": {
      "text/plain": [
       "[]"
      ]
     },
     "execution_count": 131,
     "metadata": {},
     "output_type": "execute_result"
    }
   ],
   "source": [
    "def foo(a, b, *c)\n",
    "  p a\n",
    "  p b\n",
    "  p c\n",
    "end\n",
    "\n",
    "foo(1, 2)"
   ]
  },
  {
   "cell_type": "code",
   "execution_count": 134,
   "metadata": {},
   "outputs": [
    {
     "name": "stdout",
     "output_type": "stream",
     "text": [
      "1\n",
      "2\n",
      "3\n",
      "[]\n"
     ]
    },
    {
     "data": {
      "text/plain": [
       "[]"
      ]
     },
     "execution_count": 134,
     "metadata": {},
     "output_type": "execute_result"
    }
   ],
   "source": [
    "def foo(a, b, c=3, *d)\n",
    "  p a\n",
    "  p b\n",
    "  p c\n",
    "  p d\n",
    "end\n",
    "\n",
    "foo(1, 2)"
   ]
  },
  {
   "cell_type": "code",
   "execution_count": 136,
   "metadata": {},
   "outputs": [
    {
     "name": "stdout",
     "output_type": "stream",
     "text": [
      "1\n",
      "2\n",
      "3\n",
      "[]\n",
      "4\n"
     ]
    },
    {
     "data": {
      "text/plain": [
       "4"
      ]
     },
     "execution_count": 136,
     "metadata": {},
     "output_type": "execute_result"
    }
   ],
   "source": [
    "def foo(a, b, c=3, *d, e)\n",
    "  p a\n",
    "  p b\n",
    "  p c\n",
    "  p d\n",
    "  p e\n",
    "end\n",
    "\n",
    "foo(1, 2, 4)"
   ]
  },
  {
   "cell_type": "markdown",
   "metadata": {},
   "source": [
    "### `keyword arguments`"
   ]
  },
  {
   "cell_type": "code",
   "execution_count": 137,
   "metadata": {},
   "outputs": [
    {
     "ename": "SyntaxError",
     "evalue": "(irb): syntax error, unexpected '=', expecting ')'\ndef foo(a, b, *c, d=3)\n                   ^\n",
     "output_type": "error",
     "traceback": [
      "\u001b[31mSyntaxError\u001b[0m: (irb): syntax error, unexpected '=', expecting ')'\ndef foo(a, b, *c, d=3)\n                   ^\n"
     ]
    }
   ],
   "source": [
    "def foo(a, b, *c, d=3)\n",
    "  p a\n",
    "  p b\n",
    "  p c\n",
    "  p d\n",
    "end\n",
    "\n",
    "foo(1, 2, 4)"
   ]
  },
  {
   "cell_type": "code",
   "execution_count": null,
   "metadata": {},
   "outputs": [],
   "source": []
  },
  {
   "cell_type": "code",
   "execution_count": null,
   "metadata": {},
   "outputs": [],
   "source": []
  },
  {
   "cell_type": "code",
   "execution_count": null,
   "metadata": {},
   "outputs": [],
   "source": []
  },
  {
   "cell_type": "markdown",
   "metadata": {},
   "source": [
    "### `ruby objects always expect a message (method)`\n",
    "\n",
    "This has the side effect of instance variables being private by default. You must use an instance method to access them."
   ]
  },
  {
   "cell_type": "code",
   "execution_count": 6,
   "metadata": {},
   "outputs": [
    {
     "ename": "NoMethodError",
     "evalue": "undefined method `color' for #<#<Class:0x00007fb9861f0f80>::Foo:0x00007fb982147d80 @color=\"red\">",
     "output_type": "error",
     "traceback": [
      "\u001b[31mNoMethodError\u001b[0m: undefined method `color' for #<#<Class:0x00007fb9861f0f80>::Foo:0x00007fb982147d80 @color=\"red\">",
      "(irb):6:in `<main>'"
     ]
    }
   ],
   "source": [
    "class Foo\n",
    "  def initialize(color=\"red\")\n",
    "    @color = color\n",
    "  end\n",
    "end\n",
    "\n",
    "Foo.new().color # "
   ]
  },
  {
   "cell_type": "code",
   "execution_count": 10,
   "metadata": {},
   "outputs": [
    {
     "data": {
      "text/plain": [
       "\"red\""
      ]
     },
     "execution_count": 10,
     "metadata": {},
     "output_type": "execute_result"
    }
   ],
   "source": [
    "class Foo\n",
    "  def color\n",
    "    @color\n",
    "  end\n",
    "end\n",
    "\n",
    "Foo.new.color"
   ]
  },
  {
   "cell_type": "markdown",
   "metadata": {},
   "source": [
    "### `accessor writer/reader methods`"
   ]
  },
  {
   "cell_type": "code",
   "execution_count": 13,
   "metadata": {},
   "outputs": [
    {
     "data": {
      "text/plain": [
       ":color"
      ]
     },
     "execution_count": 13,
     "metadata": {},
     "output_type": "execute_result"
    }
   ],
   "source": [
    "class Foo\n",
    "  # setter\n",
    "  def color=(color)\n",
    "    @color = color\n",
    "  end\n",
    "  \n",
    "  # getter\n",
    "  def color\n",
    "    @color\n",
    "  end\n",
    "end"
   ]
  },
  {
   "cell_type": "code",
   "execution_count": 14,
   "metadata": {},
   "outputs": [
    {
     "data": {
      "text/plain": [
       "\"red\""
      ]
     },
     "execution_count": 14,
     "metadata": {},
     "output_type": "execute_result"
    }
   ],
   "source": [
    "# refactor into this\n",
    "\n",
    "class Foo\n",
    "  attr_reader :color\n",
    "  attr_writer :color\n",
    "end\n",
    "\n",
    "# or more concisely\n",
    "\n",
    "class Foo\n",
    "  attr_accessor :color\n",
    "end"
   ]
  },
  {
   "cell_type": "code",
   "execution_count": 15,
   "metadata": {},
   "outputs": [
    {
     "data": {
      "text/plain": [
       ":color="
      ]
     },
     "execution_count": 15,
     "metadata": {},
     "output_type": "execute_result"
    }
   ],
   "source": [
    "# our writer are usually protected so we'll have this scheme in production code\n",
    "\n",
    "class Foo\n",
    "  attr_reader :color\n",
    "  \n",
    "  def color=(color)\n",
    "    @color = color\n",
    "  end\n",
    "end"
   ]
  },
  {
   "cell_type": "markdown",
   "metadata": {},
   "source": [
    "### `every method call has a receiver`"
   ]
  },
  {
   "cell_type": "code",
   "execution_count": 12,
   "metadata": {},
   "outputs": [
    {
     "name": "stdout",
     "output_type": "stream",
     "text": [
      "Hello\n",
      "Hello\n"
     ]
    }
   ],
   "source": [
    "# even this has a receiver (implicitly a self receiver)\n",
    "puts \"Hello\"\n",
    "\n",
    "self.puts \"Hello\""
   ]
  },
  {
   "cell_type": "markdown",
   "metadata": {},
   "source": [
    "### `defined?`"
   ]
  },
  {
   "cell_type": "code",
   "execution_count": 99,
   "metadata": {},
   "outputs": [
    {
     "data": {
      "text/plain": [
       "\"local-variable\""
      ]
     },
     "execution_count": 99,
     "metadata": {},
     "output_type": "execute_result"
    }
   ],
   "source": [
    "a = 5\n",
    "defined? a"
   ]
  },
  {
   "cell_type": "code",
   "execution_count": 100,
   "metadata": {},
   "outputs": [
    {
     "data": {
      "text/plain": [
       "\"instance-variable\""
      ]
     },
     "execution_count": 100,
     "metadata": {},
     "output_type": "execute_result"
    }
   ],
   "source": [
    "@a = 5\n",
    "defined? @a"
   ]
  },
  {
   "cell_type": "code",
   "execution_count": 101,
   "metadata": {},
   "outputs": [
    {
     "ename": "RuntimeError",
     "evalue": "class variable access from toplevel",
     "output_type": "error",
     "traceback": [
      "\u001b[31mRuntimeError\u001b[0m: class variable access from toplevel",
      "(irb):in `<main>'"
     ]
    }
   ],
   "source": [
    "@@a = 5\n",
    "defined? @@a"
   ]
  },
  {
   "cell_type": "code",
   "execution_count": 102,
   "metadata": {},
   "outputs": [
    {
     "data": {
      "text/plain": [
       "\"global-variable\""
      ]
     },
     "execution_count": 102,
     "metadata": {},
     "output_type": "execute_result"
    }
   ],
   "source": [
    "$a = 5\n",
    "defined? $a"
   ]
  },
  {
   "cell_type": "code",
   "execution_count": 119,
   "metadata": {},
   "outputs": [
    {
     "name": "stdout",
     "output_type": "stream",
     "text": [
      "local-variable\n",
      "self\n"
     ]
    }
   ],
   "source": [
    "class Hello\n",
    "  x = 4\n",
    "  puts defined? x\n",
    "  \n",
    "  # self.y = 5\n",
    "  \n",
    "  puts defined? self\n",
    "  # puts defined? y\n",
    "end"
   ]
  },
  {
   "cell_type": "code",
   "execution_count": 115,
   "metadata": {},
   "outputs": [
    {
     "ename": "NameError",
     "evalue": "undefined local variable or method `x' for #<Class:0x00007ff2eb8ea2e8>::Hello",
     "output_type": "error",
     "traceback": [
      "\u001b[31mNameError\u001b[0m: undefined local variable or method `x' for #<Class:0x00007ff2eb8ea2e8>::Hello",
      "(irb):8:in `get_'",
      "(irb):in `<main>'"
     ]
    }
   ],
   "source": [
    "Hello.get_"
   ]
  },
  {
   "cell_type": "code",
   "execution_count": null,
   "metadata": {},
   "outputs": [],
   "source": []
  },
  {
   "cell_type": "markdown",
   "metadata": {},
   "source": [
    "### `latest method prevails`"
   ]
  },
  {
   "cell_type": "code",
   "execution_count": 61,
   "metadata": {},
   "outputs": [
    {
     "name": "stdout",
     "output_type": "stream",
     "text": [
      "woof\n"
     ]
    }
   ],
   "source": [
    "class Yogi\n",
    "  def bark\n",
    "    puts \"woof\"\n",
    "  end\n",
    "  def bark\n",
    "    puts \"woof\"\n",
    "  end  \n",
    "end\n",
    "\n",
    "Yogi.new.bark"
   ]
  },
  {
   "cell_type": "markdown",
   "metadata": {},
   "source": [
    "### `no method overloading`"
   ]
  },
  {
   "cell_type": "code",
   "execution_count": 70,
   "metadata": {},
   "outputs": [
    {
     "data": {
      "text/plain": [
       "6"
      ]
     },
     "execution_count": 70,
     "metadata": {},
     "output_type": "execute_result"
    }
   ],
   "source": [
    "class Bera\n",
    "  def add(x,y)\n",
    "    return x+y\n",
    "  end\n",
    "  \n",
    "  def add(x,y,z)\n",
    "    return x+y+z\n",
    "  end\n",
    "end\n",
    "\n",
    "# Bera.new.add(1,2)\n",
    "Bera.new.add(1,2,3)"
   ]
  },
  {
   "cell_type": "markdown",
   "metadata": {},
   "source": [
    "### `object_id`\n",
    "\n",
    "The memory location of an object.\n",
    "\n",
    "- Integers have the same object_id. There is only one Integer object of the value 100."
   ]
  },
  {
   "cell_type": "code",
   "execution_count": 84,
   "metadata": {},
   "outputs": [
    {
     "name": "stdout",
     "output_type": "stream",
     "text": [
      "true\n",
      "true\n"
     ]
    }
   ],
   "source": [
    "puts 100.object_id == 100.object_id\n",
    "\n",
    "foo = 100\n",
    "bar = 100\n",
    "\n",
    "puts foo.object_id == bar.object_id"
   ]
  },
  {
   "cell_type": "code",
   "execution_count": null,
   "metadata": {},
   "outputs": [],
   "source": []
  },
  {
   "cell_type": "code",
   "execution_count": null,
   "metadata": {},
   "outputs": [],
   "source": []
  },
  {
   "cell_type": "code",
   "execution_count": 87,
   "metadata": {},
   "outputs": [
    {
     "name": "stdout",
     "output_type": "stream",
     "text": [
      "false\n"
     ]
    }
   ],
   "source": [
    "puts 'hello'.object_id == 'hello'.object_id"
   ]
  },
  {
   "cell_type": "markdown",
   "metadata": {},
   "source": [
    "### `reflection`"
   ]
  },
  {
   "cell_type": "code",
   "execution_count": 71,
   "metadata": {},
   "outputs": [
    {
     "data": {
      "text/plain": [
       ":foo"
      ]
     },
     "execution_count": 71,
     "metadata": {},
     "output_type": "execute_result"
    }
   ],
   "source": [
    "ticket = Object.new\n",
    "def ticket.foo\n",
    "  puts \"foo\"\n",
    "end"
   ]
  },
  {
   "cell_type": "code",
   "execution_count": 76,
   "metadata": {},
   "outputs": [
    {
     "name": "stdout",
     "output_type": "stream",
     "text": [
      "true\n",
      "true\n"
     ]
    }
   ],
   "source": [
    "puts ticket.respond_to? :foo\n",
    "puts ticket.respond_to? \"foo\""
   ]
  },
  {
   "cell_type": "code",
   "execution_count": 74,
   "metadata": {},
   "outputs": [
    {
     "name": "stdout",
     "output_type": "stream",
     "text": [
      "foo\n",
      "foo\n"
     ]
    }
   ],
   "source": [
    "ticket.send(\"foo\")\n",
    "ticket.send(:foo)"
   ]
  },
  {
   "cell_type": "markdown",
   "metadata": {},
   "source": [
    "### `reopening classes`"
   ]
  },
  {
   "cell_type": "code",
   "execution_count": 60,
   "metadata": {},
   "outputs": [
    {
     "name": "stdout",
     "output_type": "stream",
     "text": [
      "meow\n"
     ]
    }
   ],
   "source": [
    "class Yogi\n",
    "  def bark\n",
    "    puts \"woof\"\n",
    "  end\n",
    "end\n",
    "\n",
    "class Yogi\n",
    "  def bark\n",
    "    puts \"meow\"\n",
    "  end\n",
    "end\n",
    "\n",
    "Yogi.new.bark"
   ]
  },
  {
   "cell_type": "code",
   "execution_count": null,
   "metadata": {},
   "outputs": [],
   "source": []
  },
  {
   "cell_type": "code",
   "execution_count": null,
   "metadata": {},
   "outputs": [],
   "source": []
  },
  {
   "cell_type": "markdown",
   "metadata": {},
   "source": [
    "# more on self later"
   ]
  },
  {
   "cell_type": "markdown",
   "metadata": {},
   "source": [
    "### `inheritance`"
   ]
  },
  {
   "cell_type": "code",
   "execution_count": null,
   "metadata": {},
   "outputs": [],
   "source": [
    "class Animal\n",
    "end\n",
    "\n",
    "class Dog < Animal\n",
    "end"
   ]
  },
  {
   "cell_type": "markdown",
   "metadata": {},
   "source": [
    "### `module`\n",
    "\n",
    "modules can either be included or extended w/ `include` or `extend`.\n",
    "\n",
    "To include a module means to treat the methods that are included as instance methods.\n",
    "\n",
    "To extend a module means to treat the extended methods as class methods."
   ]
  },
  {
   "cell_type": "code",
   "execution_count": 5,
   "metadata": {},
   "outputs": [
    {
     "data": {
      "text/plain": [
       "#<Class:0x00007ff780126680>::Bar"
      ]
     },
     "execution_count": 5,
     "metadata": {},
     "output_type": "execute_result"
    }
   ],
   "source": [
    "module Foo\n",
    "  def foo\n",
    "    puts \"foo\"\n",
    "  end\n",
    "end\n",
    "\n",
    "class Baz\n",
    "  include Foo\n",
    "end\n",
    "\n",
    "class Bar\n",
    "  extend Foo\n",
    "end"
   ]
  },
  {
   "cell_type": "code",
   "execution_count": 7,
   "metadata": {},
   "outputs": [
    {
     "name": "stdout",
     "output_type": "stream",
     "text": [
      "foo\n",
      "foo\n"
     ]
    }
   ],
   "source": [
    "Baz.new.foo\n",
    "Bar.foo"
   ]
  },
  {
   "cell_type": "markdown",
   "metadata": {},
   "source": [
    "### `modules are are adjectives`"
   ]
  },
  {
   "cell_type": "code",
   "execution_count": 19,
   "metadata": {},
   "outputs": [
    {
     "data": {
      "text/plain": [
       "#<Class:0x00007fb9861f0f80>::Car"
      ]
     },
     "execution_count": 19,
     "metadata": {},
     "output_type": "execute_result"
    }
   ],
   "source": [
    "module Driveable # modules are also called mixins\n",
    "end\n",
    "\n",
    "module Stoppable\n",
    "end\n",
    "\n",
    "class Car # now a driveable car\n",
    "  include Driveable\n",
    "  include Stoppable\n",
    "end"
   ]
  },
  {
   "cell_type": "code",
   "execution_count": 25,
   "metadata": {},
   "outputs": [
    {
     "name": "stdout",
     "output_type": "stream",
     "text": [
      "true\n",
      "true\n",
      "true\n",
      "true\n"
     ]
    }
   ],
   "source": [
    "car = Car.new\n",
    "\n",
    "puts car.is_a? Driveable\n",
    "puts car.is_a? Stoppable\n",
    "puts car.is_a? Car\n",
    "puts car.is_a? Object"
   ]
  },
  {
   "cell_type": "markdown",
   "metadata": {},
   "source": [
    "### `modules`\n",
    "\n",
    "Unlike interfaces can contain state. Like abstract classes, can contains state.\n",
    "\n",
    "Well they don't exactly contain state and neither do regular classes. Classes/modules contain instance methods - not state. State belongs to the object and get created when an instance method that sets state (setter) is run on the object.\n",
    "\n",
    "Methods from a module that refer to an instance variable get mixed into class as instance methods. It's only when those instance methods are called on an objet that the instance variables are created - on that object. The instance variables don't belong to the module at all; they belong to the instances of the classes that mix the module."
   ]
  },
  {
   "cell_type": "code",
   "execution_count": 1,
   "metadata": {},
   "outputs": [
    {
     "data": {
      "text/plain": [
       ":add_comment"
      ]
     },
     "execution_count": 1,
     "metadata": {},
     "output_type": "execute_result"
    }
   ],
   "source": [
    "module AcceptsComments\n",
    "  def comments\n",
    "    @comments ||= []\n",
    "  end\n",
    "  \n",
    "  def add_comment(comment)\n",
    "    comments.push(comment)\n",
    "  end\n",
    "end"
   ]
  },
  {
   "cell_type": "code",
   "execution_count": 2,
   "metadata": {},
   "outputs": [
    {
     "data": {
      "text/plain": [
       "#<Class:0x00007fef52935c58>::Video"
      ]
     },
     "execution_count": 2,
     "metadata": {},
     "output_type": "execute_result"
    }
   ],
   "source": [
    "class Video\n",
    "  include AcceptsComments\n",
    "end"
   ]
  },
  {
   "cell_type": "code",
   "execution_count": 6,
   "metadata": {},
   "outputs": [
    {
     "data": {
      "text/plain": [
       "[\"Yo\", \"what\"]"
      ]
     },
     "execution_count": 6,
     "metadata": {},
     "output_type": "execute_result"
    }
   ],
   "source": [
    "v = Video.new\n",
    "v.add_comment(\"Yo\")\n",
    "v.add_comment(\"what\")\n",
    "v.comments"
   ]
  },
  {
   "cell_type": "markdown",
   "metadata": {},
   "source": [
    "### `modules should not have an initialize method`\n",
    "\n",
    "Initialize method from the concrete class will override the initialize method from the mixin.\n",
    "    \n",
    "When you mix a module into the class, Ruby will look for methods (both mixins and superclass) by using the ancestors class method. It will return an array with all of the class' mixins and superclasses in the order they will be searched."
   ]
  },
  {
   "cell_type": "code",
   "execution_count": 7,
   "metadata": {},
   "outputs": [
    {
     "data": {
      "text/plain": [
       ":foo"
      ]
     },
     "execution_count": 7,
     "metadata": {},
     "output_type": "execute_result"
    }
   ],
   "source": [
    "class MySuperClass\n",
    "  def foo\n",
    "  end\n",
    "end\n",
    "\n",
    "module MyModule\n",
    "  def foo\n",
    "  end\n",
    "end\n",
    "\n",
    "class MyClass < MySuperClass\n",
    "  include MyModule\n",
    "  def foo \n",
    "  end\n",
    "end"
   ]
  },
  {
   "cell_type": "code",
   "execution_count": 9,
   "metadata": {},
   "outputs": [
    {
     "name": "stdout",
     "output_type": "stream",
     "text": [
      "[#<Class:0x00007fef52935c58>::MyClass, #<Class:0x00007fef52935c58>::MyModule, #<Class:0x00007fef52935c58>::MySuperClass, Object, PP::ObjectMixin, JSON::Ext::Generator::GeneratorMethods::Object, Kernel, BasicObject]\n"
     ]
    },
    {
     "data": {
      "text/plain": [
       "[#<Class:0x00007fef52935c58>::MyClass, #<Class:0x00007fef52935c58>::MyModule, #<Class:0x00007fef52935c58>::MySuperClass, Object, PP::ObjectMixin, JSON::Ext::Generator::GeneratorMethods::Object, Kernel, BasicObject]"
      ]
     },
     "execution_count": 9,
     "metadata": {},
     "output_type": "execute_result"
    }
   ],
   "source": [
    "p MyClass.ancestors"
   ]
  },
  {
   "cell_type": "code",
   "execution_count": 11,
   "metadata": {},
   "outputs": [
    {
     "data": {
      "text/plain": [
       ":foo"
      ]
     },
     "execution_count": 11,
     "metadata": {},
     "output_type": "execute_result"
    }
   ],
   "source": [
    "class MySuperClass\n",
    "  def foo\n",
    "    puts \"MySuperClass\"    \n",
    "  end\n",
    "end\n",
    "\n",
    "module MyModule\n",
    "  def foo\n",
    "    puts \"MyModule\"\n",
    "  end\n",
    "end\n",
    "\n",
    "class MyClass < MySuperClass\n",
    "  include MyModule\n",
    "  def foo\n",
    "    super\n",
    "    puts \"MyClass\"    \n",
    "  end\n",
    "end"
   ]
  },
  {
   "cell_type": "code",
   "execution_count": 12,
   "metadata": {},
   "outputs": [
    {
     "name": "stdout",
     "output_type": "stream",
     "text": [
      "MyModule\n",
      "MyClass\n"
     ]
    }
   ],
   "source": [
    "MyClass.new.foo"
   ]
  },
  {
   "cell_type": "markdown",
   "metadata": {},
   "source": [
    "### `&& or ||`"
   ]
  },
  {
   "cell_type": "code",
   "execution_count": 20,
   "metadata": {},
   "outputs": [
    {
     "data": {
      "text/plain": [
       "true"
      ]
     },
     "execution_count": 20,
     "metadata": {},
     "output_type": "execute_result"
    }
   ],
   "source": [
    "1 && true"
   ]
  },
  {
   "cell_type": "code",
   "execution_count": 15,
   "metadata": {},
   "outputs": [
    {
     "data": {
      "text/plain": [
       "false"
      ]
     },
     "execution_count": 15,
     "metadata": {},
     "output_type": "execute_result"
    }
   ],
   "source": [
    "true && false"
   ]
  },
  {
   "cell_type": "code",
   "execution_count": 17,
   "metadata": {},
   "outputs": [
    {
     "data": {
      "text/plain": [
       "false"
      ]
     },
     "execution_count": 17,
     "metadata": {},
     "output_type": "execute_result"
    }
   ],
   "source": [
    "nil || false"
   ]
  },
  {
   "cell_type": "code",
   "execution_count": 18,
   "metadata": {},
   "outputs": [
    {
     "data": {
      "text/plain": [
       "true"
      ]
     },
     "execution_count": 18,
     "metadata": {},
     "output_type": "execute_result"
    }
   ],
   "source": [
    "nil || true"
   ]
  },
  {
   "cell_type": "code",
   "execution_count": 38,
   "metadata": {},
   "outputs": [
    {
     "data": {
      "text/plain": [
       "#<Object:0x00007fef52935e10 @prompt={:PROMPT_I=>\"3.0.0 :%03n > \", :PROMPT_S=>\"3.0.0 :%03n%l> \", :PROMPT_C=>\"3.0.0 :%03n > \", :PROMPT_N=>\"3.0.0 :%03n?> \", :RETURN=>\" => %s \\n\", :AUTO_INDENT=>true}>"
      ]
     },
     "execution_count": 38,
     "metadata": {},
     "output_type": "execute_result"
    }
   ],
   "source": [
    "self"
   ]
  },
  {
   "cell_type": "code",
   "execution_count": null,
   "metadata": {},
   "outputs": [],
   "source": []
  },
  {
   "cell_type": "code",
   "execution_count": null,
   "metadata": {},
   "outputs": [],
   "source": []
  },
  {
   "cell_type": "code",
   "execution_count": null,
   "metadata": {},
   "outputs": [],
   "source": []
  },
  {
   "cell_type": "markdown",
   "metadata": {},
   "source": [
    "### `constants`"
   ]
  },
  {
   "cell_type": "markdown",
   "metadata": {},
   "source": [
    "A constant is a type of variable which always starts with a capital letter. They can only be defined outside of methods, unless you use metaprogramming.\n",
    "\n",
    "Constants are used for values that aren’t supposed to change, but Ruby doesn’t prevent you from changing them."
   ]
  },
  {
   "cell_type": "code",
   "execution_count": 35,
   "metadata": {},
   "outputs": [
    {
     "ename": "SyntaxError",
     "evalue": "(irb):1: dynamic constant assignment\n  ABC = 1\n  ^~~\n",
     "output_type": "error",
     "traceback": [
      "\u001b[31mSyntaxError\u001b[0m: (irb):1: dynamic constant assignment\n  ABC = 1\n  ^~~\n"
     ]
    }
   ],
   "source": []
  },
  {
   "cell_type": "code",
   "execution_count": 36,
   "metadata": {},
   "outputs": [
    {
     "ename": "NameError",
     "evalue": "uninitialized constant Bar",
     "output_type": "error",
     "traceback": [
      "\u001b[31mNameError\u001b[0m: uninitialized constant Bar",
      "(irb):in `<main>'"
     ]
    }
   ],
   "source": [
    "# \n",
    "Bar.new"
   ]
  },
  {
   "cell_type": "code",
   "execution_count": null,
   "metadata": {},
   "outputs": [],
   "source": []
  },
  {
   "cell_type": "code",
   "execution_count": null,
   "metadata": {},
   "outputs": [],
   "source": []
  },
  {
   "cell_type": "code",
   "execution_count": null,
   "metadata": {},
   "outputs": [],
   "source": []
  },
  {
   "cell_type": "code",
   "execution_count": 32,
   "metadata": {},
   "outputs": [
    {
     "data": {
      "text/plain": [
       ":bar"
      ]
     },
     "execution_count": 32,
     "metadata": {},
     "output_type": "execute_result"
    }
   ],
   "source": [
    "class Foo\n",
    "  X = 1\n",
    "  def bar\n",
    "    puts X\n",
    "  end\n",
    "end"
   ]
  },
  {
   "cell_type": "code",
   "execution_count": 33,
   "metadata": {},
   "outputs": [
    {
     "name": "stdout",
     "output_type": "stream",
     "text": [
      "1\n"
     ]
    }
   ],
   "source": [
    "Foo.new.bar"
   ]
  },
  {
   "cell_type": "code",
   "execution_count": 34,
   "metadata": {},
   "outputs": [
    {
     "data": {
      "text/plain": [
       "1"
      ]
     },
     "execution_count": 34,
     "metadata": {},
     "output_type": "execute_result"
    }
   ],
   "source": [
    "Foo::X"
   ]
  },
  {
   "cell_type": "markdown",
   "metadata": {},
   "source": [
    "### `object.instance_of? Class`\n",
    "\n",
    "Direct instance of?"
   ]
  },
  {
   "cell_type": "code",
   "execution_count": 30,
   "metadata": {},
   "outputs": [
    {
     "name": "stdout",
     "output_type": "stream",
     "text": [
      "true\n",
      "false\n"
     ]
    }
   ],
   "source": [
    "class Foo\n",
    "end\n",
    "\n",
    "class Bar < Foo\n",
    "end\n",
    "\n",
    "bar = Bar.new\n",
    "\n",
    "puts bar.instance_of? Bar\n",
    "puts bar.instance_of? Foo"
   ]
  },
  {
   "cell_type": "markdown",
   "metadata": {},
   "source": [
    "### `object.is_a? Class`\n",
    "\n",
    "Respects polymorphism: inheritance or module."
   ]
  },
  {
   "cell_type": "code",
   "execution_count": 31,
   "metadata": {},
   "outputs": [
    {
     "name": "stdout",
     "output_type": "stream",
     "text": [
      "true\n",
      "true\n",
      "true\n"
     ]
    }
   ],
   "source": [
    "module Mixin\n",
    "end\n",
    "\n",
    "class Foo\n",
    "  include Mixin\n",
    "end\n",
    "\n",
    "class Bar < Foo\n",
    "end\n",
    "\n",
    "puts Bar.new.is_a? Bar\n",
    "puts Bar.new.is_a? Mixin\n",
    "puts Bar.new.is_a? Foo"
   ]
  },
  {
   "cell_type": "markdown",
   "metadata": {},
   "source": [
    "### `everything is an object`\n",
    "\n",
    "In Ruby, everything is an object, including literal primitives."
   ]
  },
  {
   "cell_type": "code",
   "execution_count": 15,
   "metadata": {},
   "outputs": [
    {
     "data": {
      "text/plain": [
       "24"
      ]
     },
     "execution_count": 15,
     "metadata": {},
     "output_type": "execute_result"
    }
   ],
   "source": [
    "-24.abs"
   ]
  },
  {
   "cell_type": "markdown",
   "metadata": {},
   "source": [
    "### `object.class`\n",
    "\n",
    "Get the class of an object."
   ]
  },
  {
   "cell_type": "code",
   "execution_count": 3,
   "metadata": {},
   "outputs": [
    {
     "data": {
      "text/plain": [
       "Integer"
      ]
     },
     "execution_count": 3,
     "metadata": {},
     "output_type": "execute_result"
    }
   ],
   "source": [
    "24.class"
   ]
  },
  {
   "cell_type": "markdown",
   "metadata": {},
   "source": [
    "### `class methods`"
   ]
  },
  {
   "cell_type": "code",
   "execution_count": 29,
   "metadata": {},
   "outputs": [
    {
     "data": {
      "text/plain": [
       ":add"
      ]
     },
     "execution_count": 29,
     "metadata": {},
     "output_type": "execute_result"
    }
   ],
   "source": [
    "class Calculator\n",
    "  def Calculator.pi \n",
    "    return Math::PI\n",
    "  end\n",
    "  \n",
    "  # self resolves to be the same name of the class\n",
    "  def self.add(x, y)\n",
    "    return x + y\n",
    "  end\n",
    "  \n",
    "end"
   ]
  },
  {
   "cell_type": "code",
   "execution_count": 32,
   "metadata": {},
   "outputs": [
    {
     "data": {
      "text/plain": [
       "3"
      ]
     },
     "execution_count": 32,
     "metadata": {},
     "output_type": "execute_result"
    }
   ],
   "source": [
    "Calculator.add(1, 2)"
   ]
  },
  {
   "cell_type": "markdown",
   "metadata": {},
   "source": [
    "### `difference between class instance variables and class variables`\n",
    "\n",
    "\n",
    "#### uninitialized values\n",
    "\n",
    "\n",
    "- Class variables are not instance variables. Class variables do not have a default value. If they are not assigned, referencing them will cause an error.\n",
    "\n",
    "\n",
    "- Class instance variables are instance variables. They have a nil default value.\n",
    "\n",
    "#### availability to instance methods\n",
    "\n",
    "\n",
    "- Class variables are available to both instance methods and class methods.\n",
    "\n",
    "\n",
    "- Class instance variables are available only to class methods and not to instance methods.\n",
    "\n",
    "\n",
    "#### Inheritability\n",
    "\n",
    "\n",
    "- Class variables are available to subclasses.\n",
    "\n",
    "\n",
    "- Class instance variables are lost in the inheritance chain."
   ]
  },
  {
   "cell_type": "code",
   "execution_count": 1,
   "metadata": {},
   "outputs": [
    {
     "name": "stdout",
     "output_type": "stream",
     "text": [
      "nil\n"
     ]
    }
   ],
   "source": [
    "x = 3 if false\n",
    "p nil"
   ]
  },
  {
   "cell_type": "code",
   "execution_count": 4,
   "metadata": {},
   "outputs": [
    {
     "data": {
      "text/plain": [
       ":access"
      ]
     },
     "execution_count": 4,
     "metadata": {},
     "output_type": "execute_result"
    }
   ],
   "source": [
    "class Foo\n",
    "  @one = \"1\" # class instance variable\n",
    "  @@two = \"2\"# class variable\n",
    "end\n",
    "\n",
    "class Bar < Foo\n",
    "end"
   ]
  },
  {
   "cell_type": "markdown",
   "metadata": {},
   "source": [
    "### `functions vs methods`\n",
    "\n",
    "In Ruby, methods and functions are exactly the same thing. In many programming languages (including Python, PHP, Java, C#) functions are called uh... functions, but those functions in classes are called methods. But in Ruby, all functions are called methods.\n",
    "\n",
    "Methods that are defined outside of any class are included in the top-level execution environment. Basically, you can call them without using the dot operator to specify a receiver."
   ]
  },
  {
   "cell_type": "code",
   "execution_count": 6,
   "metadata": {},
   "outputs": [
    {
     "data": {
      "text/plain": [
       ":greet"
      ]
     },
     "execution_count": 6,
     "metadata": {},
     "output_type": "execute_result"
    }
   ],
   "source": [
    "# this is a method\n",
    "def greet\n",
    "  puts \"...\"\n",
    "end\n",
    "\n",
    "class Animal\n",
    "  # and so is this\n",
    "  def greet\n",
    "    puts \"...\"\n",
    "  end\n",
    "end"
   ]
  },
  {
   "cell_type": "markdown",
   "metadata": {},
   "source": [
    "### `method names`\n",
    "\n",
    "It's legal for a method name to end in a question mark or exclamation point. These endings have no special meaning to Ruby. Here is the convention however:\n",
    "\n",
    "- Methods that return a boolean are given names that end in `?` \n",
    "\n",
    "\n",
    "- Methods that have potentially surprising side effects (mutations) are given names that end in `!`.\n",
    "\n",
    "\n",
    "- Lastly, it's legal for a method name to end in an equals sign `=`. Methods ending in this character are used as attribute writers. Ruby does treat this ending specially, so don't use it for a regular method."
   ]
  },
  {
   "cell_type": "code",
   "execution_count": 10,
   "metadata": {},
   "outputs": [
    {
     "data": {
      "text/plain": [
       "true"
      ]
     },
     "execution_count": 10,
     "metadata": {},
     "output_type": "execute_result"
    }
   ],
   "source": [
    "# ?\n",
    "24.even?"
   ]
  },
  {
   "cell_type": "code",
   "execution_count": 25,
   "metadata": {},
   "outputs": [
    {
     "data": {
      "text/plain": [
       "\"CHARLES\""
      ]
     },
     "execution_count": 25,
     "metadata": {},
     "output_type": "execute_result"
    }
   ],
   "source": [
    "# !\n",
    "name = \"Charles\"\n",
    "name.upcase!\n",
    "name"
   ]
  },
  {
   "cell_type": "code",
   "execution_count": 7,
   "metadata": {},
   "outputs": [
    {
     "name": "stdout",
     "output_type": "stream",
     "text": [
      "Charles\n",
      "Keith\n"
     ]
    }
   ],
   "source": [
    "# =\n",
    "class Foo\n",
    "  \n",
    "  def name\n",
    "    return @name\n",
    "  end\n",
    "  \n",
    "  def name=(name)\n",
    "    @name = name\n",
    "  end\n",
    "  \n",
    "end\n",
    "\n",
    "f = Foo.new\n",
    "\n",
    "f.name=(\"Charles\")\n",
    "puts f.name\n",
    "\n",
    "f.name = \"Keith\"\n",
    "puts f.name"
   ]
  },
  {
   "cell_type": "code",
   "execution_count": null,
   "metadata": {},
   "outputs": [],
   "source": []
  },
  {
   "cell_type": "code",
   "execution_count": null,
   "metadata": {},
   "outputs": [],
   "source": []
  },
  {
   "cell_type": "markdown",
   "metadata": {},
   "source": [
    "### `iterating`"
   ]
  },
  {
   "cell_type": "code",
   "execution_count": 27,
   "metadata": {},
   "outputs": [
    {
     "name": "stdout",
     "output_type": "stream",
     "text": [
      "1\n",
      "2\n",
      "3\n"
     ]
    },
    {
     "data": {
      "text/plain": [
       "[1, 2, 3]"
      ]
     },
     "execution_count": 27,
     "metadata": {},
     "output_type": "execute_result"
    }
   ],
   "source": [
    "arr = [1,2,3]\n",
    "\n",
    "for n in arr\n",
    "  puts n\n",
    "end"
   ]
  },
  {
   "cell_type": "code",
   "execution_count": 28,
   "metadata": {},
   "outputs": [
    {
     "name": "stdout",
     "output_type": "stream",
     "text": [
      "1\n",
      "2\n",
      "3\n"
     ]
    },
    {
     "data": {
      "text/plain": [
       "[1, 2, 3]"
      ]
     },
     "execution_count": 28,
     "metadata": {},
     "output_type": "execute_result"
    }
   ],
   "source": [
    "arr.each do |n|\n",
    "  puts n\n",
    "end"
   ]
  },
  {
   "cell_type": "code",
   "execution_count": null,
   "metadata": {},
   "outputs": [],
   "source": []
  },
  {
   "cell_type": "code",
   "execution_count": null,
   "metadata": {},
   "outputs": [],
   "source": []
  },
  {
   "cell_type": "markdown",
   "metadata": {},
   "source": [
    "### `comparable`\n",
    "\n",
    "The crux of a module is that it can manage its own state but principally that it can also depend on the subclasses that may include it.\n",
    "\n",
    "For example a module may call a method in the subclass without ever defining the method itself. This is a departure from languages like Java."
   ]
  },
  {
   "cell_type": "code",
   "execution_count": 2,
   "metadata": {},
   "outputs": [
    {
     "name": "stdout",
     "output_type": "stream",
     "text": [
      "Skirt\n"
     ]
    }
   ],
   "source": [
    "module Foo\n",
    "  def add\n",
    "    try # can reference methods in the subclass (this is due to the dynamic nature of Ruby, unheard of in Java)\n",
    "  end\n",
    "end\n",
    "\n",
    "class Bar\n",
    "  include Foo\n",
    "  def try\n",
    "    puts \"Skirt\"\n",
    "  end\n",
    "end\n",
    "\n",
    "Bar.new.add"
   ]
  },
  {
   "cell_type": "code",
   "execution_count": 16,
   "metadata": {},
   "outputs": [
    {
     "data": {
      "text/plain": [
       ":between?"
      ]
     },
     "execution_count": 16,
     "metadata": {},
     "output_type": "execute_result"
    }
   ],
   "source": [
    "module MyComparable\n",
    "  # I know subclasses of MyComparable w/ define a <=> operator\n",
    "  def >(other)\n",
    "    p \"call >\"\n",
    "    (self <=> other) == 1\n",
    "  end\n",
    "  \n",
    "  def <(other)\n",
    "    p \"call <\"\n",
    "    (self <=> other) == -1\n",
    "  end\n",
    "  \n",
    "  def ==(other)\n",
    "    p \"call ==\"\n",
    "    (self <=> other) == 0\n",
    "  end\n",
    "  \n",
    "  def >=(other)\n",
    "    p \"call >=\"\n",
    "    (self > other) || (self == other)\n",
    "  end\n",
    "  \n",
    "  def <=(other)\n",
    "    p \"call <=\"\n",
    "    (self < other) || (self == other)\n",
    "  end\n",
    "  \n",
    "  def between?(low, high)\n",
    "    p \"between?\"\n",
    "    (self > low) and (self < high)\n",
    "  end\n",
    "  \n",
    "end"
   ]
  },
  {
   "cell_type": "code",
   "execution_count": 17,
   "metadata": {},
   "outputs": [
    {
     "data": {
      "text/plain": [
       ":<=>"
      ]
     },
     "execution_count": 17,
     "metadata": {},
     "output_type": "execute_result"
    }
   ],
   "source": [
    "class Student\n",
    "  attr_accessor :grade\n",
    "  include MyComparable\n",
    "  \n",
    "  def initialize(grade)\n",
    "    self.grade = grade\n",
    "  end\n",
    "  \n",
    "  def <=>(other)\n",
    "    if grade == other.grade\n",
    "      return 0\n",
    "    elsif grade > other.grade\n",
    "      return 1\n",
    "    elsif grade < other.grade\n",
    "      return -1\n",
    "    end\n",
    "  end\n",
    "end"
   ]
  },
  {
   "cell_type": "code",
   "execution_count": 18,
   "metadata": {},
   "outputs": [
    {
     "name": "stdout",
     "output_type": "stream",
     "text": [
      "\"call >\"\n"
     ]
    },
    {
     "data": {
      "text/plain": [
       "true"
      ]
     },
     "execution_count": 18,
     "metadata": {},
     "output_type": "execute_result"
    }
   ],
   "source": [
    "Student.new(97) > Student.new(95)"
   ]
  },
  {
   "cell_type": "code",
   "execution_count": 19,
   "metadata": {},
   "outputs": [
    {
     "name": "stdout",
     "output_type": "stream",
     "text": [
      "\"call ==\"\n"
     ]
    },
    {
     "data": {
      "text/plain": [
       "false"
      ]
     },
     "execution_count": 19,
     "metadata": {},
     "output_type": "execute_result"
    }
   ],
   "source": [
    "Student.new(97) == Student.new(95)"
   ]
  },
  {
   "cell_type": "code",
   "execution_count": 20,
   "metadata": {},
   "outputs": [
    {
     "name": "stdout",
     "output_type": "stream",
     "text": [
      "\"between?\"\n",
      "\"call >\"\n",
      "\"call <\"\n"
     ]
    },
    {
     "data": {
      "text/plain": [
       "true"
      ]
     },
     "execution_count": 20,
     "metadata": {},
     "output_type": "execute_result"
    }
   ],
   "source": [
    "Student.new(95).between?( Student.new(90), Student.new(100) )"
   ]
  },
  {
   "cell_type": "markdown",
   "metadata": {},
   "source": [
    "### `enumerable module`\n",
    "\n",
    "Enumerable meaning you can call the each method on it and it will do something..."
   ]
  },
  {
   "cell_type": "code",
   "execution_count": 203,
   "metadata": {},
   "outputs": [
    {
     "data": {
      "text/plain": [
       ":take"
      ]
     },
     "execution_count": 203,
     "metadata": {},
     "output_type": "execute_result"
    }
   ],
   "source": [
    "module MyEnumerable\n",
    "  \n",
    "  def map(&block)\n",
    "    res = []\n",
    "    self.each do |el|\n",
    "      res.push(block.call(el))\n",
    "    end\n",
    "    res\n",
    "  end\n",
    "  \n",
    "  def find_all(&block)\n",
    "    res = []\n",
    "    self.each do |el|\n",
    "      if block.call(el)\n",
    "        res.push(el)\n",
    "      end\n",
    "    end\n",
    "    res\n",
    "  end\n",
    "  \n",
    "  def reject(&block)\n",
    "    res = []\n",
    "    self.each do |el|\n",
    "      if not block.call(el)\n",
    "        res.push(el)\n",
    "      end\n",
    "    end\n",
    "    res\n",
    "  end\n",
    "  \n",
    "  def puts_self\n",
    "    p self\n",
    "  end\n",
    "  \n",
    "  def take(n)\n",
    "    p 1\n",
    "    p self.each\n",
    "    p 2    \n",
    "  end\n",
    "  \n",
    "end"
   ]
  },
  {
   "cell_type": "markdown",
   "metadata": {},
   "source": [
    "### `blocks take advantage of closures`"
   ]
  },
  {
   "cell_type": "code",
   "execution_count": 6,
   "metadata": {},
   "outputs": [
    {
     "name": "stdout",
     "output_type": "stream",
     "text": [
      "6\n"
     ]
    },
    {
     "data": {
      "text/plain": [
       "6"
      ]
     },
     "execution_count": 6,
     "metadata": {},
     "output_type": "execute_result"
    }
   ],
   "source": [
    "arr = [1,2,3]\n",
    "\n",
    "sum = 0\n",
    "arr.each do |x|\n",
    "  sum += x\n",
    "end\n",
    "\n",
    "p sum"
   ]
  },
  {
   "cell_type": "markdown",
   "metadata": {},
   "source": [
    "### `each`"
   ]
  },
  {
   "cell_type": "code",
   "execution_count": 2,
   "metadata": {},
   "outputs": [
    {
     "data": {
      "text/plain": [
       ":each"
      ]
     },
     "execution_count": 2,
     "metadata": {},
     "output_type": "execute_result"
    }
   ],
   "source": [
    "class Foo < Array\n",
    "  def each(&block)\n",
    "    idx = 0\n",
    "    while idx < self.length\n",
    "      block.call(self[idx])\n",
    "      idx += 1\n",
    "    end\n",
    "  end\n",
    "end"
   ]
  },
  {
   "cell_type": "code",
   "execution_count": 4,
   "metadata": {},
   "outputs": [
    {
     "name": "stdout",
     "output_type": "stream",
     "text": [
      "0\n",
      "1\n",
      "2\n"
     ]
    }
   ],
   "source": [
    "foo = Foo.new(3) { |i| i }\n",
    "\n",
    "foo.each do |x|\n",
    "  p x\n",
    "end"
   ]
  },
  {
   "cell_type": "markdown",
   "metadata": {},
   "source": [
    "### `map`"
   ]
  },
  {
   "cell_type": "code",
   "execution_count": 5,
   "metadata": {},
   "outputs": [
    {
     "data": {
      "text/plain": [
       ":map"
      ]
     },
     "execution_count": 5,
     "metadata": {},
     "output_type": "execute_result"
    }
   ],
   "source": [
    "class Foo < Array\n",
    "  def map(&func)\n",
    "    res = []\n",
    "    for el in self # uses each under the hood\n",
    "      res.push(func.call(el))\n",
    "    end\n",
    "    res\n",
    "  end\n",
    "end"
   ]
  },
  {
   "cell_type": "code",
   "execution_count": 6,
   "metadata": {},
   "outputs": [
    {
     "data": {
      "text/plain": [
       "[0, 1, 4, 9]"
      ]
     },
     "execution_count": 6,
     "metadata": {},
     "output_type": "execute_result"
    }
   ],
   "source": [
    "foo = Foo.new(4) { |i| i }\n",
    "\n",
    "foo.map do |x|\n",
    "  x ** 2\n",
    "end"
   ]
  },
  {
   "cell_type": "markdown",
   "metadata": {},
   "source": [
    "### `reduce w/ block`"
   ]
  },
  {
   "cell_type": "code",
   "execution_count": 7,
   "metadata": {},
   "outputs": [
    {
     "data": {
      "text/plain": [
       ":reduce"
      ]
     },
     "execution_count": 7,
     "metadata": {},
     "output_type": "execute_result"
    }
   ],
   "source": [
    "class Foo < Array\n",
    "  def reduce(init, &block)\n",
    "    acc = init\n",
    "    for el in self\n",
    "      acc = block.call(acc, el)\n",
    "    end\n",
    "    acc\n",
    "  end\n",
    "end"
   ]
  },
  {
   "cell_type": "code",
   "execution_count": 8,
   "metadata": {},
   "outputs": [
    {
     "name": "stdout",
     "output_type": "stream",
     "text": [
      "[0, 1, 2, 3]\n"
     ]
    },
    {
     "data": {
      "text/plain": [
       "16"
      ]
     },
     "execution_count": 8,
     "metadata": {},
     "output_type": "execute_result"
    }
   ],
   "source": [
    "foo = Foo.new(4) { |i| i }\n",
    "p foo\n",
    "\n",
    "foo.reduce(10) do |acc, n|\n",
    "  acc + n\n",
    "end"
   ]
  },
  {
   "cell_type": "code",
   "execution_count": 8,
   "metadata": {},
   "outputs": [
    {
     "data": {
      "text/plain": [
       "6"
      ]
     },
     "execution_count": 8,
     "metadata": {},
     "output_type": "execute_result"
    }
   ],
   "source": [
    "# native implementation...\n",
    "[1, 2, 3].reduce(0) { |acc, n| acc + n } # => 6"
   ]
  },
  {
   "cell_type": "markdown",
   "metadata": {},
   "source": [
    "### `reject`"
   ]
  },
  {
   "cell_type": "code",
   "execution_count": 1,
   "metadata": {},
   "outputs": [
    {
     "data": {
      "text/plain": [
       ":reject"
      ]
     },
     "execution_count": 1,
     "metadata": {},
     "output_type": "execute_result"
    }
   ],
   "source": [
    "class Foo < Array\n",
    "  def reject(&block)\n",
    "    res = []\n",
    "    for el in self\n",
    "      if not block.call(el)\n",
    "        res.push(el)\n",
    "      end\n",
    "    end\n",
    "    res\n",
    "  end\n",
    "end"
   ]
  },
  {
   "cell_type": "code",
   "execution_count": 9,
   "metadata": {},
   "outputs": [
    {
     "data": {
      "text/plain": [
       "[1]"
      ]
     },
     "execution_count": 9,
     "metadata": {},
     "output_type": "execute_result"
    }
   ],
   "source": [
    "foo = Foo.new(3) { |i| i }\n",
    "foo.reject do |x|\n",
    "  x.even?\n",
    "end"
   ]
  },
  {
   "cell_type": "markdown",
   "metadata": {},
   "source": [
    "### `find_all works w/ blocks`"
   ]
  },
  {
   "cell_type": "code",
   "execution_count": 10,
   "metadata": {},
   "outputs": [
    {
     "data": {
      "text/plain": [
       ":find_all"
      ]
     },
     "execution_count": 10,
     "metadata": {},
     "output_type": "execute_result"
    }
   ],
   "source": [
    "class Foo < Array\n",
    "  def find_all(&block)\n",
    "    res = []\n",
    "    for el in self\n",
    "      if block.call(el)\n",
    "        res.push(el)\n",
    "      end\n",
    "    end\n",
    "    res\n",
    "  end\n",
    "end"
   ]
  },
  {
   "cell_type": "code",
   "execution_count": 11,
   "metadata": {},
   "outputs": [
    {
     "data": {
      "text/plain": [
       "[0, 2]"
      ]
     },
     "execution_count": 11,
     "metadata": {},
     "output_type": "execute_result"
    }
   ],
   "source": [
    "foo = Foo.new(3) { |i| i }\n",
    "\n",
    "foo.find_all do |x|\n",
    "  x.even?\n",
    "end"
   ]
  },
  {
   "cell_type": "markdown",
   "metadata": {},
   "source": [
    "### `block_given?`"
   ]
  },
  {
   "cell_type": "code",
   "execution_count": 170,
   "metadata": {},
   "outputs": [
    {
     "data": {
      "text/plain": [
       ":try"
      ]
     },
     "execution_count": 170,
     "metadata": {},
     "output_type": "execute_result"
    }
   ],
   "source": [
    "def try(&block)\n",
    "  if block_given?\n",
    "    puts \"block was given\"\n",
    "  else\n",
    "    puts \"no block was given\"\n",
    "  end\n",
    "end"
   ]
  },
  {
   "cell_type": "code",
   "execution_count": 172,
   "metadata": {},
   "outputs": [
    {
     "name": "stdout",
     "output_type": "stream",
     "text": [
      "block was given\n",
      "no block was given\n"
     ]
    }
   ],
   "source": [
    "try { puts \"Hello\" }\n",
    "try"
   ]
  },
  {
   "cell_type": "markdown",
   "metadata": {},
   "source": [
    "### `difference between Enumerator and Enumerable`\n",
    "\n",
    "First off, one is a class and the other is a module.\n",
    "\n",
    "- `Enumerator` is a class. `Enumerable` is a module."
   ]
  },
  {
   "cell_type": "code",
   "execution_count": 50,
   "metadata": {},
   "outputs": [
    {
     "data": {
      "text/plain": [
       "[JSON::Ext::Generator::GeneratorMethods::Hash, Enumerable, PP::ObjectMixin, JSON::Ext::Generator::GeneratorMethods::Object, Kernel]"
      ]
     },
     "execution_count": 50,
     "metadata": {},
     "output_type": "execute_result"
    }
   ],
   "source": [
    "Hash.included_modules"
   ]
  },
  {
   "cell_type": "code",
   "execution_count": 23,
   "metadata": {},
   "outputs": [
    {
     "data": {
      "text/plain": [
       "Class"
      ]
     },
     "execution_count": 23,
     "metadata": {},
     "output_type": "execute_result"
    }
   ],
   "source": [
    "Enumerator.class"
   ]
  },
  {
   "cell_type": "code",
   "execution_count": 24,
   "metadata": {},
   "outputs": [
    {
     "data": {
      "text/plain": [
       "Module"
      ]
     },
     "execution_count": 24,
     "metadata": {},
     "output_type": "execute_result"
    }
   ],
   "source": [
    "Enumerable.class"
   ]
  },
  {
   "cell_type": "markdown",
   "metadata": {},
   "source": [
    "Second off,an `Enumerator` is what gets returned when an `each` method is called upon an `Enumerable`.\n",
    "\n",
    "Take some time to ponder over this ^."
   ]
  },
  {
   "cell_type": "code",
   "execution_count": 38,
   "metadata": {},
   "outputs": [
    {
     "data": {
      "text/plain": [
       "true"
      ]
     },
     "execution_count": 38,
     "metadata": {},
     "output_type": "execute_result"
    }
   ],
   "source": [
    "([].is_a? Enumerable) && ([].each.is_a? Enumerator)"
   ]
  },
  {
   "cell_type": "code",
   "execution_count": 39,
   "metadata": {},
   "outputs": [
    {
     "data": {
      "text/plain": [
       "true"
      ]
     },
     "execution_count": 39,
     "metadata": {},
     "output_type": "execute_result"
    }
   ],
   "source": [
    "({}.is_a? Enumerable) && ({}.each.is_a? Enumerator)"
   ]
  },
  {
   "cell_type": "code",
   "execution_count": null,
   "metadata": {},
   "outputs": [],
   "source": []
  },
  {
   "cell_type": "code",
   "execution_count": null,
   "metadata": {},
   "outputs": [],
   "source": []
  },
  {
   "cell_type": "code",
   "execution_count": null,
   "metadata": {},
   "outputs": [],
   "source": []
  },
  {
   "cell_type": "markdown",
   "metadata": {},
   "source": [
    "### `#to_enum`\n",
    "\n",
    "Calling to_enum returns an object that is both an `Enumerator` and an `Enumerable` object and will have access to all of their methods."
   ]
  },
  {
   "cell_type": "code",
   "execution_count": 289,
   "metadata": {},
   "outputs": [
    {
     "data": {
      "text/plain": [
       "#<Enumerator: #<Object:0x00007faef9907ce8 @prompt={:PROMPT_I=>\"3.0.0 :%03n > \", :PROMPT_S=>\"3.0.0 :%03n%l> \", :PROMPT_C=>\"3.0.0 :%03n > \", :PROMPT_N=>\"3.0.0 :%03n?> \", :RETURN=>\" => %s \\n\", :AUTO_INDENT=>true}>:foo>"
      ]
     },
     "execution_count": 289,
     "metadata": {},
     "output_type": "execute_result"
    }
   ],
   "source": [
    "def foo\n",
    "  yield \"charmander\"\n",
    "  yield \"squirtle\"\n",
    "  yield \"the other green pokemon\"\n",
    "end\n",
    "\n",
    "enum = to_enum(:foo)"
   ]
  },
  {
   "cell_type": "code",
   "execution_count": 290,
   "metadata": {},
   "outputs": [
    {
     "data": {
      "text/plain": [
       "\"charmander\""
      ]
     },
     "execution_count": 290,
     "metadata": {},
     "output_type": "execute_result"
    }
   ],
   "source": [
    "enum.next"
   ]
  },
  {
   "cell_type": "code",
   "execution_count": 291,
   "metadata": {},
   "outputs": [
    {
     "data": {
      "text/plain": [
       "\"squirtle\""
      ]
     },
     "execution_count": 291,
     "metadata": {},
     "output_type": "execute_result"
    }
   ],
   "source": [
    "enum.next"
   ]
  },
  {
   "cell_type": "code",
   "execution_count": 292,
   "metadata": {},
   "outputs": [
    {
     "data": {
      "text/plain": [
       "\"the other green pokemon\""
      ]
     },
     "execution_count": 292,
     "metadata": {},
     "output_type": "execute_result"
    }
   ],
   "source": [
    "enum.next"
   ]
  },
  {
   "cell_type": "code",
   "execution_count": 293,
   "metadata": {},
   "outputs": [
    {
     "ename": "StopIteration",
     "evalue": "iteration reached an end",
     "output_type": "error",
     "traceback": [
      "\u001b[31mStopIteration\u001b[0m: iteration reached an end",
      "(irb):in `next'",
      "(irb):in `<top (required)>'"
     ]
    }
   ],
   "source": [
    "enum.next"
   ]
  },
  {
   "cell_type": "code",
   "execution_count": null,
   "metadata": {},
   "outputs": [],
   "source": []
  },
  {
   "cell_type": "code",
   "execution_count": null,
   "metadata": {},
   "outputs": [],
   "source": []
  },
  {
   "cell_type": "code",
   "execution_count": 280,
   "metadata": {},
   "outputs": [
    {
     "data": {
      "text/plain": [
       ":each"
      ]
     },
     "execution_count": 280,
     "metadata": {},
     "output_type": "execute_result"
    }
   ],
   "source": [
    "class Foo\n",
    "  def each\n",
    "    p \"begin\"\n",
    "    yield \"charmander\"\n",
    "    yield \"squirtle\"\n",
    "    yield \"the other green pokemon\"\n",
    "    p \"end\"\n",
    "  end\n",
    "end"
   ]
  },
  {
   "cell_type": "code",
   "execution_count": 281,
   "metadata": {},
   "outputs": [
    {
     "name": "stdout",
     "output_type": "stream",
     "text": [
      "\"begin\"\n",
      "\"charmander\"\n",
      "\"squirtle\"\n",
      "\"the other green pokemon\"\n",
      "\"end\"\n"
     ]
    },
    {
     "data": {
      "text/plain": [
       "\"end\""
      ]
     },
     "execution_count": 281,
     "metadata": {},
     "output_type": "execute_result"
    }
   ],
   "source": [
    "foo = Foo.new\n",
    "\n",
    "foo.each do |x|\n",
    "  p x\n",
    "end"
   ]
  },
  {
   "cell_type": "markdown",
   "metadata": {},
   "source": [
    "<hr />"
   ]
  },
  {
   "cell_type": "code",
   "execution_count": 287,
   "metadata": {},
   "outputs": [
    {
     "data": {
      "text/plain": [
       "#<Enumerator: #<#<Class:0x00007faef9907c20>::Foo:0x00007faef91575c0>:each>"
      ]
     },
     "execution_count": 287,
     "metadata": {},
     "output_type": "execute_result"
    }
   ],
   "source": [
    "foo = Foo.new.to_enum # turn into an Enumerator and an Enumerable"
   ]
  },
  {
   "cell_type": "code",
   "execution_count": 283,
   "metadata": {},
   "outputs": [
    {
     "name": "stdout",
     "output_type": "stream",
     "text": [
      "\"begin\"\n",
      "\"charmander\"\n",
      "\"squirtle\"\n",
      "\"the other green pokemon\"\n"
     ]
    },
    {
     "data": {
      "text/plain": [
       "\"the other green pokemon\""
      ]
     },
     "execution_count": 283,
     "metadata": {},
     "output_type": "execute_result"
    }
   ],
   "source": [
    "p foo.next\n",
    "p foo.next\n",
    "p foo.next"
   ]
  },
  {
   "cell_type": "code",
   "execution_count": 288,
   "metadata": {},
   "outputs": [
    {
     "name": "stdout",
     "output_type": "stream",
     "text": [
      "\"begin\"\n",
      "\"end\"\n"
     ]
    },
    {
     "data": {
      "text/plain": [
       "[\"charmander\", \"squirtle\", \"the other green pokemon\"]"
      ]
     },
     "execution_count": 288,
     "metadata": {},
     "output_type": "execute_result"
    }
   ],
   "source": [
    "foo.take(4) # will call my each method"
   ]
  },
  {
   "cell_type": "code",
   "execution_count": 279,
   "metadata": {},
   "outputs": [
    {
     "data": {
      "text/plain": [
       "[\"Charmander\", \"Squirtle\", \"The other green pokemon\"]"
      ]
     },
     "execution_count": 279,
     "metadata": {},
     "output_type": "execute_result"
    }
   ],
   "source": [
    "foo.map { |d| d.capitalize } # will call my each method"
   ]
  },
  {
   "cell_type": "code",
   "execution_count": null,
   "metadata": {},
   "outputs": [],
   "source": []
  },
  {
   "cell_type": "code",
   "execution_count": null,
   "metadata": {},
   "outputs": [],
   "source": [
    "Thing.include Enumerable\n",
    "b = Thing.new.lazy"
   ]
  },
  {
   "cell_type": "code",
   "execution_count": null,
   "metadata": {},
   "outputs": [],
   "source": []
  },
  {
   "cell_type": "code",
   "execution_count": null,
   "metadata": {},
   "outputs": [],
   "source": []
  },
  {
   "cell_type": "code",
   "execution_count": null,
   "metadata": {},
   "outputs": [],
   "source": []
  },
  {
   "cell_type": "code",
   "execution_count": null,
   "metadata": {},
   "outputs": [],
   "source": []
  },
  {
   "cell_type": "code",
   "execution_count": null,
   "metadata": {},
   "outputs": [],
   "source": []
  },
  {
   "cell_type": "markdown",
   "metadata": {},
   "source": [
    "### `Enumerator`\n",
    "\n",
    "Instances of `Enumerator` describe how to iterate over an object. It does so manually by calling the `next` method."
   ]
  },
  {
   "cell_type": "code",
   "execution_count": 60,
   "metadata": {},
   "outputs": [
    {
     "data": {
      "text/plain": [
       "#<Enumerator: [1, 2]:each>"
      ]
     },
     "execution_count": 60,
     "metadata": {},
     "output_type": "execute_result"
    }
   ],
   "source": [
    "enumerator = [1,2].each"
   ]
  },
  {
   "cell_type": "code",
   "execution_count": 61,
   "metadata": {},
   "outputs": [
    {
     "data": {
      "text/plain": [
       "1"
      ]
     },
     "execution_count": 61,
     "metadata": {},
     "output_type": "execute_result"
    }
   ],
   "source": [
    "enumerator.next"
   ]
  },
  {
   "cell_type": "code",
   "execution_count": 62,
   "metadata": {},
   "outputs": [
    {
     "data": {
      "text/plain": [
       "2"
      ]
     },
     "execution_count": 62,
     "metadata": {},
     "output_type": "execute_result"
    }
   ],
   "source": [
    "enumerator.next"
   ]
  },
  {
   "cell_type": "code",
   "execution_count": 63,
   "metadata": {},
   "outputs": [
    {
     "ename": "StopIteration",
     "evalue": "iteration reached an end",
     "output_type": "error",
     "traceback": [
      "\u001b[31mStopIteration\u001b[0m: iteration reached an end",
      "(irb):in `next'",
      "(irb):in `<top (required)>'"
     ]
    }
   ],
   "source": [
    "# an error is raised...\n",
    "enumerator.next"
   ]
  },
  {
   "cell_type": "markdown",
   "metadata": {},
   "source": [
    "In fact, you can do this for many (but not all) of an `Enumerable's` methods that expect a block."
   ]
  },
  {
   "cell_type": "code",
   "execution_count": 72,
   "metadata": {},
   "outputs": [
    {
     "data": {
      "text/plain": [
       "true"
      ]
     },
     "execution_count": 72,
     "metadata": {},
     "output_type": "execute_result"
    }
   ],
   "source": [
    "([1,2].map.is_a? Enumerator) && ([1,2].collect.is_a? Enumerator)"
   ]
  },
  {
   "cell_type": "markdown",
   "metadata": {},
   "source": [
    "Okay, big deal. What does this get us?\n",
    "\n",
    "> Instances of Enumerator are Enumerable. In other words, an Enumerator is Enumerable."
   ]
  },
  {
   "cell_type": "code",
   "execution_count": 78,
   "metadata": {},
   "outputs": [
    {
     "data": {
      "text/plain": [
       "[Enumerator, Enumerable, Object, PP::ObjectMixin, JSON::Ext::Generator::GeneratorMethods::Object, Kernel, BasicObject]"
      ]
     },
     "execution_count": 78,
     "metadata": {},
     "output_type": "execute_result"
    }
   ],
   "source": [
    "Enumerator.ancestors"
   ]
  },
  {
   "cell_type": "code",
   "execution_count": 85,
   "metadata": {},
   "outputs": [
    {
     "data": {
      "text/plain": [
       "#<Enumerator: [1, 2]:each>"
      ]
     },
     "execution_count": 85,
     "metadata": {},
     "output_type": "execute_result"
    }
   ],
   "source": [
    "[1,2].each"
   ]
  },
  {
   "cell_type": "code",
   "execution_count": 84,
   "metadata": {},
   "outputs": [
    {
     "data": {
      "text/plain": [
       "true"
      ]
     },
     "execution_count": 84,
     "metadata": {},
     "output_type": "execute_result"
    }
   ],
   "source": [
    "[1,2].each.is_a? Enumerable"
   ]
  },
  {
   "cell_type": "code",
   "execution_count": 87,
   "metadata": {},
   "outputs": [
    {
     "data": {
      "text/plain": [
       "#<Enumerator: [1, 2]:each>"
      ]
     },
     "execution_count": 87,
     "metadata": {},
     "output_type": "execute_result"
    }
   ],
   "source": [
    "# so technically we can keep doing this\n",
    "[1,2].each.each.each"
   ]
  },
  {
   "cell_type": "markdown",
   "metadata": {},
   "source": [
    "A good way to describe Enumerator objects is that they contain the information about how to iterate through a collection. For example, a #cycle Enumerator knows how to iterate through a collection one or more times, while a #reverse_each Enumerator knows how to iterate through a collection backwards.\n",
    "\n",
    "There are 3 ways to create your own `Enumerator`. Note `Kernel` is a class at the very top of the object hierarchy. Therefore, you can pretty much call this method from any object.\n",
    "\n",
    "\n",
    "- `Kernel#to_enum`\n",
    "\n",
    "\n",
    "- `Kernel#enum_for`\n",
    "\n",
    "\n",
    "- `Enumerator.new`"
   ]
  },
  {
   "cell_type": "code",
   "execution_count": 90,
   "metadata": {},
   "outputs": [
    {
     "data": {
      "text/plain": [
       "[Kernel]"
      ]
     },
     "execution_count": 90,
     "metadata": {},
     "output_type": "execute_result"
    }
   ],
   "source": [
    "arr = [1,2,3]\n",
    "enumerator = arr.to_enum(:each)"
   ]
  },
  {
   "cell_type": "code",
   "execution_count": null,
   "metadata": {},
   "outputs": [],
   "source": []
  },
  {
   "cell_type": "code",
   "execution_count": null,
   "metadata": {},
   "outputs": [],
   "source": []
  },
  {
   "cell_type": "code",
   "execution_count": 223,
   "metadata": {},
   "outputs": [
    {
     "data": {
      "text/plain": [
       ":fetch_next_item"
      ]
     },
     "execution_count": 223,
     "metadata": {},
     "output_type": "execute_result"
    }
   ],
   "source": [
    "class MyCollection\n",
    "  \n",
    "  include Enumerable\n",
    "\n",
    "  def each\n",
    "    idx = 0\n",
    "    return enum_for(:each) unless block_given?\n",
    "    \n",
    "    p \"HI\"\n",
    "    \n",
    "    while idx < 4\n",
    "      yield idx\n",
    "      idx += 1\n",
    "    end\n",
    "\n",
    "    # the following depends on your use case\n",
    "#     while (item = fetch_next_item)\n",
    "#       yield item\n",
    "#     end\n",
    "  end\n",
    "\n",
    "  private\n",
    "\n",
    "  def fetch_next_item\n",
    "    # ...\n",
    "  end\n",
    "  \n",
    "end"
   ]
  },
  {
   "cell_type": "code",
   "execution_count": 229,
   "metadata": {},
   "outputs": [
    {
     "name": "stdout",
     "output_type": "stream",
     "text": [
      "97\n",
      "98\n",
      "114\n",
      "97\n"
     ]
    },
    {
     "data": {
      "text/plain": [
       "\"abra\""
      ]
     },
     "execution_count": 229,
     "metadata": {},
     "output_type": "execute_result"
    }
   ],
   "source": [
    "\"abra\".each_byte { |d| p d}"
   ]
  },
  {
   "cell_type": "code",
   "execution_count": null,
   "metadata": {},
   "outputs": [],
   "source": []
  },
  {
   "cell_type": "code",
   "execution_count": null,
   "metadata": {},
   "outputs": [],
   "source": []
  },
  {
   "cell_type": "code",
   "execution_count": 228,
   "metadata": {},
   "outputs": [
    {
     "data": {
      "text/plain": [
       "#<Enumerator: #<#<Class:0x00007faef9907c20>::MyCollection:0x00007faef610bc40>:collect>"
      ]
     },
     "execution_count": 228,
     "metadata": {},
     "output_type": "execute_result"
    }
   ],
   "source": [
    "MyCollection.new.collect"
   ]
  },
  {
   "cell_type": "code",
   "execution_count": 224,
   "metadata": {},
   "outputs": [
    {
     "name": "stdout",
     "output_type": "stream",
     "text": [
      "\"HI\"\n",
      "0\n",
      "1\n",
      "2\n",
      "3\n"
     ]
    }
   ],
   "source": [
    "MyCollection.new.each { |item| p item }"
   ]
  },
  {
   "cell_type": "code",
   "execution_count": 222,
   "metadata": {},
   "outputs": [
    {
     "data": {
      "text/plain": [
       "[0, 1, 2]"
      ]
     },
     "execution_count": 222,
     "metadata": {},
     "output_type": "execute_result"
    }
   ],
   "source": [
    "MyCollection.new.take(3)"
   ]
  },
  {
   "cell_type": "code",
   "execution_count": null,
   "metadata": {},
   "outputs": [],
   "source": []
  },
  {
   "cell_type": "code",
   "execution_count": null,
   "metadata": {},
   "outputs": [],
   "source": []
  },
  {
   "cell_type": "code",
   "execution_count": null,
   "metadata": {},
   "outputs": [],
   "source": []
  },
  {
   "cell_type": "code",
   "execution_count": 106,
   "metadata": {},
   "outputs": [
    {
     "data": {
      "text/plain": [
       "#<Enumerator: #<Enumerator::Generator:0x00007faef618b5a8>:each>"
      ]
     },
     "execution_count": 106,
     "metadata": {},
     "output_type": "execute_result"
    }
   ],
   "source": [
    "fib = Enumerator.new do |y|\n",
    "  counter = 0\n",
    "  loop do\n",
    "    # y.class.is_a? Enumerator::Yielder\n",
    "    # y << counter\n",
    "    y.yield counter\n",
    "    counter += 1\n",
    "  end\n",
    "end"
   ]
  },
  {
   "cell_type": "code",
   "execution_count": 107,
   "metadata": {},
   "outputs": [
    {
     "data": {
      "text/plain": [
       "0"
      ]
     },
     "execution_count": 107,
     "metadata": {},
     "output_type": "execute_result"
    }
   ],
   "source": [
    "fib.next"
   ]
  },
  {
   "cell_type": "code",
   "execution_count": 108,
   "metadata": {},
   "outputs": [
    {
     "data": {
      "text/plain": [
       "1"
      ]
     },
     "execution_count": 108,
     "metadata": {},
     "output_type": "execute_result"
    }
   ],
   "source": [
    "fib.next"
   ]
  },
  {
   "cell_type": "code",
   "execution_count": 109,
   "metadata": {},
   "outputs": [
    {
     "data": {
      "text/plain": [
       "2"
      ]
     },
     "execution_count": 109,
     "metadata": {},
     "output_type": "execute_result"
    }
   ],
   "source": [
    "fib.next\n",
    "# can go on and on"
   ]
  },
  {
   "cell_type": "code",
   "execution_count": 110,
   "metadata": {},
   "outputs": [
    {
     "data": {
      "text/plain": [
       "[0, 1, 2, 3, 4, 5, 6, 7, 8, 9]"
      ]
     },
     "execution_count": 110,
     "metadata": {},
     "output_type": "execute_result"
    }
   ],
   "source": [
    "fib.take(10)"
   ]
  },
  {
   "cell_type": "code",
   "execution_count": null,
   "metadata": {},
   "outputs": [],
   "source": []
  },
  {
   "cell_type": "code",
   "execution_count": 117,
   "metadata": {},
   "outputs": [
    {
     "data": {
      "text/plain": [
       "#<Enumerator: [3, 2, 1]:cycle>"
      ]
     },
     "execution_count": 117,
     "metadata": {},
     "output_type": "execute_result"
    }
   ],
   "source": []
  },
  {
   "cell_type": "code",
   "execution_count": null,
   "metadata": {},
   "outputs": [],
   "source": []
  },
  {
   "cell_type": "code",
   "execution_count": 111,
   "metadata": {},
   "outputs": [
    {
     "data": {
      "text/plain": [
       "#<Enumerator: #<Enumerator::Generator:0x00007faefc0b8b20>:each>"
      ]
     },
     "execution_count": 111,
     "metadata": {},
     "output_type": "execute_result"
    }
   ],
   "source": [
    "polish_postal_codes = Enumerator.new do |y|\n",
    "  100_000.times do |number|\n",
    "    code    = sprintf(\"%05d\", number)\n",
    "    code[1] = code[1] + \"-\"\n",
    "    y.yield(code)\n",
    "  end\n",
    "end"
   ]
  },
  {
   "cell_type": "code",
   "execution_count": 113,
   "metadata": {},
   "outputs": [],
   "source": [
    "polish_postal_codes.size"
   ]
  },
  {
   "cell_type": "code",
   "execution_count": null,
   "metadata": {},
   "outputs": [],
   "source": []
  },
  {
   "cell_type": "code",
   "execution_count": null,
   "metadata": {},
   "outputs": [],
   "source": [
    "Chaining: that’s what you can do with Enumerator. "
   ]
  },
  {
   "cell_type": "code",
   "execution_count": 52,
   "metadata": {},
   "outputs": [
    {
     "data": {
      "text/plain": [
       ":each"
      ]
     },
     "execution_count": 52,
     "metadata": {},
     "output_type": "execute_result"
    }
   ],
   "source": [
    "class Colors\n",
    "  include Enumerable\n",
    "\n",
    "  def each\n",
    "    yield 1\n",
    "    yield 2\n",
    "    yield 3\n",
    "  end\n",
    "end"
   ]
  },
  {
   "cell_type": "code",
   "execution_count": 54,
   "metadata": {},
   "outputs": [
    {
     "ename": "LocalJumpError",
     "evalue": "no block given (yield)",
     "output_type": "error",
     "traceback": [
      "\u001b[31mLocalJumpError\u001b[0m: no block given (yield)",
      "(irb):4:in `each'",
      "(irb):in `<top (required)>'"
     ]
    }
   ],
   "source": [
    "Colors.new.each.class"
   ]
  },
  {
   "cell_type": "code",
   "execution_count": null,
   "metadata": {},
   "outputs": [],
   "source": []
  },
  {
   "cell_type": "code",
   "execution_count": null,
   "metadata": {},
   "outputs": [],
   "source": []
  },
  {
   "cell_type": "code",
   "execution_count": null,
   "metadata": {},
   "outputs": [],
   "source": []
  },
  {
   "cell_type": "code",
   "execution_count": null,
   "metadata": {},
   "outputs": [],
   "source": []
  },
  {
   "cell_type": "code",
   "execution_count": null,
   "metadata": {},
   "outputs": [],
   "source": []
  },
  {
   "cell_type": "code",
   "execution_count": null,
   "metadata": {},
   "outputs": [],
   "source": []
  },
  {
   "cell_type": "code",
   "execution_count": null,
   "metadata": {},
   "outputs": [],
   "source": []
  },
  {
   "cell_type": "code",
   "execution_count": null,
   "metadata": {},
   "outputs": [],
   "source": []
  },
  {
   "cell_type": "code",
   "execution_count": null,
   "metadata": {},
   "outputs": [],
   "source": []
  },
  {
   "cell_type": "markdown",
   "metadata": {},
   "source": [
    "In order for a class to use `Enumerable`, it must define an `#each` method.\n",
    "\n",
    "http://ruby.bastardsbook.com/chapters/enumerables/"
   ]
  },
  {
   "cell_type": "code",
   "execution_count": null,
   "metadata": {},
   "outputs": [],
   "source": []
  },
  {
   "cell_type": "code",
   "execution_count": null,
   "metadata": {},
   "outputs": [],
   "source": []
  },
  {
   "cell_type": "code",
   "execution_count": null,
   "metadata": {},
   "outputs": [],
   "source": []
  },
  {
   "cell_type": "markdown",
   "metadata": {},
   "source": [
    "### `lazy enumeration`"
   ]
  },
  {
   "cell_type": "code",
   "execution_count": 12,
   "metadata": {},
   "outputs": [
    {
     "data": {
      "text/plain": [
       "[:slice_after, :slice_when, :enum_for, :chunk_while, :uniq, :force, :with_index, :lazy, :eager, :grep, :grep_v, :find_all, :select, :filter, :filter_map, :reject, :collect, :map, :flat_map, :collect_concat, :zip, :take, :take_while, :drop, :drop_while, :to_enum, :chunk, :slice_before, :with_object, :next, :next_values, :peek_values, :peek, :feed, :+, :inspect, :rewind, :each_with_index, :each_with_object, :size, :each, :sum, :chain, :to_set, :to_h, :include?, :max, :min, :find, :to_a, :entries, :sort, :sort_by, :count, :detect, :find_index, :inject, :reduce, :partition, :group_by, :tally, :first, :all?, :any?, :one?, :none?, :minmax, :min_by, :max_by, :minmax_by, :member?, :reverse_each, :each_entry, :each_slice, :each_cons, :cycle, :pretty_print_inspect, :pretty_print_instance_variables, :pretty_print, :pretty_print_cycle, :to_json, :taint, :tainted?, :untaint, :untrust, :untrusted?, :trust, :methods, :singleton_methods, :protected_methods, :private_methods, :public_methods, :instance_variables, :instance_variable_get, :instance_variable_set, :instance_variable_defined?, :remove_instance_variable, :instance_of?, :kind_of?, :is_a?, :method, :public_method, :public_send, :singleton_method, :define_singleton_method, :extend, :clone, :<=>, :===, :=~, :!~, :nil?, :eql?, :respond_to?, :freeze, :object_id, :send, :to_s, :pretty_inspect, :display, :frozen?, :class, :then, :tap, :yield_self, :hash, :singleton_class, :dup, :itself, :!, :==, :!=, :equal?, :instance_eval, :instance_exec, :__id__, :__send__]"
      ]
     },
     "execution_count": 12,
     "metadata": {},
     "output_type": "execute_result"
    }
   ],
   "source": [
    "iterator = [1,2,3].lazy.map { |x| x ** 2 }\n",
    "\n",
    "iterator.methods"
   ]
  },
  {
   "cell_type": "code",
   "execution_count": 13,
   "metadata": {},
   "outputs": [
    {
     "name": "stdout",
     "output_type": "stream",
     "text": [
      "1\n",
      "4\n",
      "9\n"
     ]
    }
   ],
   "source": [
    "iterator.each do |x|\n",
    "  p x\n",
    "end"
   ]
  },
  {
   "cell_type": "code",
   "execution_count": 9,
   "metadata": {},
   "outputs": [
    {
     "data": {
      "text/plain": [
       "[1, 4, 9, 16, 25, 36, 49, 64, 81, 100]"
      ]
     },
     "execution_count": 9,
     "metadata": {},
     "output_type": "execute_result"
    }
   ],
   "source": [
    "1.upto(Float::INFINITY).lazy.map { |x| x * x }.take(10).to_a"
   ]
  },
  {
   "cell_type": "code",
   "execution_count": null,
   "metadata": {},
   "outputs": [],
   "source": []
  },
  {
   "cell_type": "code",
   "execution_count": null,
   "metadata": {},
   "outputs": [],
   "source": []
  },
  {
   "cell_type": "code",
   "execution_count": null,
   "metadata": {},
   "outputs": [],
   "source": []
  },
  {
   "cell_type": "markdown",
   "metadata": {},
   "source": [
    "# Loops"
   ]
  },
  {
   "cell_type": "code",
   "execution_count": 15,
   "metadata": {},
   "outputs": [
    {
     "name": "stdout",
     "output_type": "stream",
     "text": [
      "1\n"
     ]
    }
   ],
   "source": [
    "i = 0\n",
    "loop do\n",
    "  i = i + 1\n",
    "  puts i\n",
    "  break         # this will cause execution to exit the loop\n",
    "end"
   ]
  },
  {
   "cell_type": "markdown",
   "metadata": {},
   "source": [
    "### `break`"
   ]
  },
  {
   "cell_type": "code",
   "execution_count": 9,
   "metadata": {},
   "outputs": [
    {
     "name": "stdout",
     "output_type": "stream",
     "text": [
      "1\n",
      "2\n"
     ]
    }
   ],
   "source": [
    "arr = [1,2,3]\n",
    "\n",
    "for el in arr\n",
    "  if el == 3\n",
    "    break\n",
    "  end\n",
    "  puts el\n",
    "end"
   ]
  },
  {
   "cell_type": "markdown",
   "metadata": {},
   "source": [
    "### `continue`"
   ]
  },
  {
   "cell_type": "code",
   "execution_count": 14,
   "metadata": {},
   "outputs": [
    {
     "name": "stdout",
     "output_type": "stream",
     "text": [
      "1\n",
      "3\n"
     ]
    },
    {
     "data": {
      "text/plain": [
       "[1, 2, 3]"
      ]
     },
     "execution_count": 14,
     "metadata": {},
     "output_type": "execute_result"
    }
   ],
   "source": [
    "for el in arr\n",
    "  if el.even?\n",
    "    next\n",
    "  end\n",
    "  p el\n",
    "end"
   ]
  },
  {
   "cell_type": "code",
   "execution_count": null,
   "metadata": {},
   "outputs": [],
   "source": []
  },
  {
   "cell_type": "code",
   "execution_count": 38,
   "metadata": {},
   "outputs": [
    {
     "data": {
      "text/plain": [
       "#<Enumerator: #<Enumerator::Generator:0x00007f7922a946b8>:each>"
      ]
     },
     "execution_count": 38,
     "metadata": {},
     "output_type": "execute_result"
    }
   ],
   "source": [
    "e = Enumerator.new do |yielder|\n",
    "  [1,2,3].each do |val|\n",
    "    yielder << val # some kind of freezing operation...\n",
    "  end\n",
    "end"
   ]
  },
  {
   "cell_type": "code",
   "execution_count": 39,
   "metadata": {},
   "outputs": [
    {
     "data": {
      "text/plain": [
       "1"
      ]
     },
     "execution_count": 39,
     "metadata": {},
     "output_type": "execute_result"
    }
   ],
   "source": [
    "e.next"
   ]
  },
  {
   "cell_type": "code",
   "execution_count": 32,
   "metadata": {},
   "outputs": [
    {
     "data": {
      "text/plain": [
       "#<Fiber:0x00007f79220e01a8 (irb):0 (created)>"
      ]
     },
     "execution_count": 32,
     "metadata": {},
     "output_type": "execute_result"
    }
   ],
   "source": [
    "f = Fiber.new do\n",
    "  x = 0\n",
    "  loop do\n",
    "    puts \"x\"\n",
    "    Fiber.yield x # executes when f.resume is called...\n",
    "    puts \"y\"\n",
    "    x += 1\n",
    "  end\n",
    "end"
   ]
  },
  {
   "cell_type": "code",
   "execution_count": 33,
   "metadata": {},
   "outputs": [
    {
     "name": "stdout",
     "output_type": "stream",
     "text": [
      "x\n",
      "0\n"
     ]
    },
    {
     "data": {
      "text/plain": [
       "0"
      ]
     },
     "execution_count": 33,
     "metadata": {},
     "output_type": "execute_result"
    }
   ],
   "source": [
    "p f.resume"
   ]
  },
  {
   "cell_type": "code",
   "execution_count": 34,
   "metadata": {},
   "outputs": [
    {
     "name": "stdout",
     "output_type": "stream",
     "text": [
      "y\n",
      "x\n",
      "1\n"
     ]
    },
    {
     "data": {
      "text/plain": [
       "1"
      ]
     },
     "execution_count": 34,
     "metadata": {},
     "output_type": "execute_result"
    }
   ],
   "source": [
    "p f.resume"
   ]
  },
  {
   "cell_type": "code",
   "execution_count": null,
   "metadata": {},
   "outputs": [],
   "source": []
  },
  {
   "cell_type": "code",
   "execution_count": null,
   "metadata": {},
   "outputs": [],
   "source": []
  },
  {
   "cell_type": "code",
   "execution_count": 23,
   "metadata": {},
   "outputs": [
    {
     "data": {
      "text/plain": [
       ":initialize"
      ]
     },
     "execution_count": 23,
     "metadata": {},
     "output_type": "execute_result"
    }
   ],
   "source": [
    "I want to know how Fiber.yield behaves when inside block that is provided to Fiber.new vs any other place in program ie)How it produces \"root fiber error\" elsewhere in program?\n",
    "\n",
    "Ah, that is actually quite simple. All you need to do is modify a piece of global state when executing resume. For example, push the current fiber onto a global stack or something like that. Here's a fake Fiber class that exhibits the same behaviour."
   ]
  },
  {
   "cell_type": "code",
   "execution_count": null,
   "metadata": {},
   "outputs": [],
   "source": [
    "f = Foo.new do\n",
    "end"
   ]
  },
  {
   "cell_type": "code",
   "execution_count": null,
   "metadata": {},
   "outputs": [],
   "source": []
  },
  {
   "cell_type": "code",
   "execution_count": null,
   "metadata": {},
   "outputs": [],
   "source": []
  },
  {
   "cell_type": "code",
   "execution_count": null,
   "metadata": {},
   "outputs": [],
   "source": []
  },
  {
   "cell_type": "code",
   "execution_count": null,
   "metadata": {},
   "outputs": [],
   "source": []
  },
  {
   "cell_type": "markdown",
   "metadata": {},
   "source": [
    "### `parentheses or not`\n",
    "\n",
    "Rubyists are adamant that parentheses not be used if a method takes no arguments. When there are arguments, include parentheses."
   ]
  },
  {
   "cell_type": "markdown",
   "metadata": {},
   "source": [
    "### `implicit return values`\n",
    "\n",
    "You don't actually need the return keyword. The value of the last expression evaluated within a method becomes that method's return value. Rubyists generally prefer implicit return values over explicit return values."
   ]
  },
  {
   "cell_type": "code",
   "execution_count": 27,
   "metadata": {},
   "outputs": [
    {
     "data": {
      "text/plain": [
       "3.14"
      ]
     },
     "execution_count": 27,
     "metadata": {},
     "output_type": "execute_result"
    }
   ],
   "source": [
    "def pi\n",
    "  3.14\n",
    "end\n",
    "\n",
    "pi"
   ]
  },
  {
   "cell_type": "markdown",
   "metadata": {},
   "source": [
    "### `string interpolation`\n",
    "\n",
    "You're not limited to using variables within the `#{...}` marker. You can use any Ruby expression including a method call."
   ]
  },
  {
   "cell_type": "code",
   "execution_count": 16,
   "metadata": {},
   "outputs": [
    {
     "name": "stdout",
     "output_type": "stream",
     "text": [
      "27\n"
     ]
    }
   ],
   "source": [
    "my_age = 27\n",
    "puts \"#{my_age}\""
   ]
  },
  {
   "cell_type": "code",
   "execution_count": 17,
   "metadata": {},
   "outputs": [
    {
     "name": "stdout",
     "output_type": "stream",
     "text": [
      "DH\n"
     ]
    }
   ],
   "source": [
    "def get_name\n",
    "  return \"DH\"\n",
    "end\n",
    "\n",
    "puts \"#{get_name}\""
   ]
  },
  {
   "cell_type": "markdown",
   "metadata": {},
   "source": [
    "### `to_s`\n",
    "\n",
    "Almost all Ruby objects have a `to_s` method you can call to convert the object into a string (think `__repr__` or `__str__` method in Python)."
   ]
  },
  {
   "cell_type": "code",
   "execution_count": 28,
   "metadata": {},
   "outputs": [
    {
     "data": {
      "text/plain": [
       "\"24\""
      ]
     },
     "execution_count": 28,
     "metadata": {},
     "output_type": "execute_result"
    }
   ],
   "source": [
    "24.to_s"
   ]
  },
  {
   "cell_type": "markdown",
   "metadata": {},
   "source": [
    " Instead of calling `to_s`, we could save ourselves the effort of explicitly converting a number to a string by using string interpolation."
   ]
  },
  {
   "cell_type": "code",
   "execution_count": 32,
   "metadata": {},
   "outputs": [
    {
     "data": {
      "text/plain": [
       "\"24\""
      ]
     },
     "execution_count": 32,
     "metadata": {},
     "output_type": "execute_result"
    }
   ],
   "source": [
    "\"#{24}\""
   ]
  },
  {
   "cell_type": "markdown",
   "metadata": {},
   "source": [
    "### `to_i`\n",
    "\n",
    "Strings have a `to_i` method to convert a string into an int."
   ]
  },
  {
   "cell_type": "code",
   "execution_count": 28,
   "metadata": {},
   "outputs": [
    {
     "data": {
      "text/plain": [
       "2"
      ]
     },
     "execution_count": 28,
     "metadata": {},
     "output_type": "execute_result"
    }
   ],
   "source": [
    "\"2\".to_i"
   ]
  },
  {
   "cell_type": "markdown",
   "metadata": {},
   "source": [
    "### `inspect`\n",
    "\n",
    "The inspect method is available on any Ruby object. It convers the object to a string representation that's suitable for debugging.\n",
    "\n",
    "Ruby offers the `p` method as a shortcut. It works just like `puts`, except that it calls `inspect` on each argument before printing it."
   ]
  },
  {
   "cell_type": "code",
   "execution_count": 35,
   "metadata": {},
   "outputs": [
    {
     "name": "stdout",
     "output_type": "stream",
     "text": [
      "#<#<Class:0x00007fb2360a0998>::Foo:0x00007fb231a27840>\n"
     ]
    },
    {
     "data": {
      "text/plain": [
       "#<#<Class:0x00007fb2360a0998>::Foo:0x00007fb231a27840>"
      ]
     },
     "execution_count": 35,
     "metadata": {},
     "output_type": "execute_result"
    }
   ],
   "source": [
    "Foo.new.inspect\n",
    "\n",
    "p Foo.new"
   ]
  },
  {
   "cell_type": "markdown",
   "metadata": {},
   "source": [
    "### `truthy vs falsy`\n",
    "\n",
    "In Ruby only `false` and `nil` are falsey. Everything else is truthy."
   ]
  },
  {
   "cell_type": "markdown",
   "metadata": {},
   "source": [
    "### `not / !`\n",
    "\n",
    "The boolean negation operator `( ! )` lets you take a true value and make it false. This is equivalent to the more readable keyword `not`, which does the same thing.\n",
    "\n",
    "Both `not` and `!` can take any primitive and convert it to a boolean before the negation operation."
   ]
  },
  {
   "cell_type": "code",
   "execution_count": 44,
   "metadata": {},
   "outputs": [
    {
     "data": {
      "text/plain": [
       "[true, true]"
      ]
     },
     "execution_count": 44,
     "metadata": {},
     "output_type": "execute_result"
    }
   ],
   "source": [
    "[(not nil), (! false)]"
   ]
  },
  {
   "cell_type": "markdown",
   "metadata": {},
   "source": [
    "### `boolean`\n",
    "\n",
    "There is no such thing as a boolean class. Only TrueClass and FalseClass. Which is why having Sorbet's T::Boolean is helpful."
   ]
  },
  {
   "cell_type": "code",
   "execution_count": null,
   "metadata": {},
   "outputs": [],
   "source": []
  },
  {
   "cell_type": "markdown",
   "metadata": {},
   "source": [
    "### `unless`\n",
    "\n",
    "The opposite of `if` is `unless`. Use unless if it makes your code more readable. If you need an else clause, use if instead of unless."
   ]
  },
  {
   "cell_type": "code",
   "execution_count": 45,
   "metadata": {},
   "outputs": [
    {
     "name": "stdout",
     "output_type": "stream",
     "text": [
      "Go to the park\n",
      "Go to the park\n",
      "Go to the park\n"
     ]
    }
   ],
   "source": [
    "it_is_going_to_rain = false\n",
    "\n",
    "unless (it_is_going_to_rain)\n",
    "  puts \"Go to the park\"\n",
    "end\n",
    "\n",
    "if !(it_is_going_to_rain)\n",
    "  puts \"Go to the park\"\n",
    "end\n",
    "\n",
    "if not(it_is_going_to_rain)\n",
    "  puts \"Go to the park\"\n",
    "end"
   ]
  },
  {
   "cell_type": "markdown",
   "metadata": {},
   "source": [
    "### `while/until`\n",
    "\n",
    "Just as unless is the counterpart to if, Ruby offers an until loop as a counterpart to while. An until loop repeats while the condition is true (that is, it loops while it's false)."
   ]
  },
  {
   "cell_type": "code",
   "execution_count": 49,
   "metadata": {},
   "outputs": [
    {
     "name": "stdout",
     "output_type": "stream",
     "text": [
      "0\n",
      "1\n",
      "2\n"
     ]
    }
   ],
   "source": [
    "x = 0\n",
    "while x < 3\n",
    "  puts x\n",
    "  x += 1\n",
    "end"
   ]
  },
  {
   "cell_type": "code",
   "execution_count": 50,
   "metadata": {},
   "outputs": [
    {
     "name": "stdout",
     "output_type": "stream",
     "text": [
      "0\n",
      "1\n",
      "2\n"
     ]
    }
   ],
   "source": [
    "x = 0\n",
    "until x >= 3\n",
    "  puts x\n",
    "  x += 1\n",
    "end"
   ]
  },
  {
   "cell_type": "markdown",
   "metadata": {},
   "source": [
    "Classes are important in Ruby. But in this respect Ruby differs from other OOP languages. The real action is with the individual objects. Every object has the potential to learn behaviors (methods) that its class didn't teach it the class concept fits on top of the object concept, not the other way around. In fact a class is itself an object."
   ]
  },
  {
   "cell_type": "markdown",
   "metadata": {},
   "source": [
    "### Singleton methods"
   ]
  },
  {
   "cell_type": "code",
   "execution_count": 1,
   "metadata": {},
   "outputs": [
    {
     "data": {
      "text/plain": [
       ":do_something"
      ]
     },
     "execution_count": 1,
     "metadata": {},
     "output_type": "execute_result"
    }
   ],
   "source": [
    "yogi = Object.new\n",
    "\n",
    "def yogi.do_something\n",
    "  puts \"Hello\"\n",
    "end"
   ]
  },
  {
   "cell_type": "code",
   "execution_count": null,
   "metadata": {},
   "outputs": [],
   "source": []
  },
  {
   "cell_type": "code",
   "execution_count": null,
   "metadata": {},
   "outputs": [],
   "source": []
  },
  {
   "cell_type": "markdown",
   "metadata": {},
   "source": [
    "### `private methods`"
   ]
  },
  {
   "cell_type": "code",
   "execution_count": 48,
   "metadata": {},
   "outputs": [
    {
     "name": "stdout",
     "output_type": "stream",
     "text": [
      "Hello\n"
     ]
    }
   ],
   "source": [
    "class Person\n",
    "\n",
    "  def whisper_louder\n",
    "    whisper\n",
    "  end \n",
    "# private methods are for internal usage within the defining class\n",
    "  private \n",
    "  def whisper\n",
    "    puts \"Hello\" \n",
    "  end \n",
    "end\n",
    "\n",
    "a_hater = Person.new\n",
    "a_hater.whisper_louder # \"His name's not really 'Tj'.\""
   ]
  },
  {
   "cell_type": "code",
   "execution_count": null,
   "metadata": {},
   "outputs": [],
   "source": []
  },
  {
   "cell_type": "code",
   "execution_count": null,
   "metadata": {},
   "outputs": [],
   "source": []
  },
  {
   "cell_type": "code",
   "execution_count": null,
   "metadata": {},
   "outputs": [],
   "source": [
    " We can use the extend statement to pull in the methods defined in a module as class methods in a class."
   ]
  },
  {
   "cell_type": "code",
   "execution_count": null,
   "metadata": {},
   "outputs": [],
   "source": []
  },
  {
   "cell_type": "code",
   "execution_count": null,
   "metadata": {},
   "outputs": [],
   "source": []
  },
  {
   "cell_type": "markdown",
   "metadata": {},
   "source": [
    "### Hash"
   ]
  },
  {
   "cell_type": "code",
   "execution_count": null,
   "metadata": {},
   "outputs": [],
   "source": [
    "# the default data structure..."
   ]
  },
  {
   "cell_type": "code",
   "execution_count": 50,
   "metadata": {},
   "outputs": [
    {
     "name": "stdout",
     "output_type": "stream",
     "text": [
      "nil\n"
     ]
    }
   ],
   "source": [
    "profile = { name: \"DH\", age: 24 }\n",
    "\n",
    "p profile[:sex] # default value for non-present keys is nil"
   ]
  },
  {
   "cell_type": "code",
   "execution_count": 28,
   "metadata": {},
   "outputs": [
    {
     "data": {
      "text/plain": [
       "{\"Abra\"=>1}"
      ]
     },
     "execution_count": 28,
     "metadata": {},
     "output_type": "execute_result"
    }
   ],
   "source": [
    "# to change the behavior\n",
    "\n",
    "votes = Hash.new(0) # default value of all keys is 0\n",
    "\n",
    "# votes[\"Abra\"] += 1\n",
    "votes[\"Abra\"] = votes[\"Abra\"] + 1 # votes[\"Abra\"] on the right side resolves to 0, l-value vs r-value \n",
    "votes"
   ]
  },
  {
   "cell_type": "markdown",
   "metadata": {},
   "source": [
    "### `interesting stuff you can do...`"
   ]
  },
  {
   "cell_type": "code",
   "execution_count": 30,
   "metadata": {},
   "outputs": [
    {
     "data": {
      "text/plain": [
       "{}"
      ]
     },
     "execution_count": 30,
     "metadata": {},
     "output_type": "execute_result"
    }
   ],
   "source": [
    "yogi = Hash.new do |hash, key|\n",
    "  # triggered when key does not exist...\n",
    "  hash[key] = \"bera\"\n",
    "  hash\n",
    "end"
   ]
  },
  {
   "cell_type": "code",
   "execution_count": 31,
   "metadata": {},
   "outputs": [
    {
     "data": {
      "text/plain": [
       "{\"yogi\"=>\"bera\"}"
      ]
     },
     "execution_count": 31,
     "metadata": {},
     "output_type": "execute_result"
    }
   ],
   "source": [
    "yogi[\"yogi\"]\n",
    "yogi"
   ]
  },
  {
   "cell_type": "code",
   "execution_count": 32,
   "metadata": {},
   "outputs": [
    {
     "data": {
      "text/plain": [
       "{\"yogi\"=>\"bera\", \"bera\"=>\"yogi\"}"
      ]
     },
     "execution_count": 32,
     "metadata": {},
     "output_type": "execute_result"
    }
   ],
   "source": [
    "yogi[\"bera\"] = \"yogi\"\n",
    "yogi"
   ]
  },
  {
   "cell_type": "markdown",
   "metadata": {},
   "source": [
    "### `more interesting case`"
   ]
  },
  {
   "cell_type": "code",
   "execution_count": 37,
   "metadata": {},
   "outputs": [
    {
     "data": {
      "text/plain": [
       "{\"yogi\"=>#<#<Class:0x00007ff55c226308>::Foo:0x00007ff55dae9a70 @prop=3>}"
      ]
     },
     "execution_count": 37,
     "metadata": {},
     "output_type": "execute_result"
    }
   ],
   "source": [
    "class Foo\n",
    "  attr_accessor :prop\n",
    "end\n",
    "\n",
    "obj = Hash.new do |hash, key|\n",
    "  f = Foo.new\n",
    "  hash[key] = f\n",
    "  f\n",
    "end\n",
    "\n",
    "obj[\"yogi\"].prop = 3\n",
    "obj\n",
    "\n",
    "# { \"yogi\": Foo(prop:3)}"
   ]
  },
  {
   "cell_type": "code",
   "execution_count": 38,
   "metadata": {},
   "outputs": [
    {
     "data": {
      "text/plain": [
       "{\"abra\"=>[1]}"
      ]
     },
     "execution_count": 38,
     "metadata": {},
     "output_type": "execute_result"
    }
   ],
   "source": [
    "obj = Hash.new do |hash, key|\n",
    "  arr = []\n",
    "  hash[key] = arr\n",
    "  arr\n",
    "end\n",
    "\n",
    "# { \"abra\": [] }\n",
    "obj[\"abra\"].push(1)\n",
    "obj"
   ]
  },
  {
   "cell_type": "markdown",
   "metadata": {},
   "source": [
    "### Array"
   ]
  },
  {
   "cell_type": "code",
   "execution_count": 16,
   "metadata": {},
   "outputs": [
    {
     "name": "stdout",
     "output_type": "stream",
     "text": [
      "1\n",
      "1\n",
      "1\n"
     ]
    }
   ],
   "source": [
    "arr = [1]\n",
    "\n",
    "for el in arr\n",
    "  p el\n",
    "end\n",
    "\n",
    "arr.each do |el|\n",
    "  p el\n",
    "end\n",
    "\n",
    "idx = 0\n",
    "while idx < arr.length\n",
    "  p arr[idx]\n",
    "  idx += 1\n",
    "end"
   ]
  },
  {
   "cell_type": "markdown",
   "metadata": {},
   "source": [
    "### Struct"
   ]
  },
  {
   "cell_type": "code",
   "execution_count": 197,
   "metadata": {},
   "outputs": [
    {
     "name": "stderr",
     "output_type": "stream",
     "text": [
      "(irb): warning: already initialized constant Object::Person\n"
     ]
    },
    {
     "data": {
      "text/plain": [
       "#<Class:0x00007ff2eb8ea2e8>::Person"
      ]
     },
     "execution_count": 197,
     "metadata": {},
     "output_type": "execute_result"
    }
   ],
   "source": [
    "Person = Struct.new(:name, :age) do\n",
    "  def present\n",
    "    \"My name is #{name} and I am #{age} years old\"\n",
    "  end\n",
    "end"
   ]
  },
  {
   "cell_type": "code",
   "execution_count": 202,
   "metadata": {},
   "outputs": [
    {
     "data": {
      "text/plain": [
       "\"My name is Charles and I am 24 years old\""
      ]
     },
     "execution_count": 202,
     "metadata": {},
     "output_type": "execute_result"
    }
   ],
   "source": [
    "person = Person.new(\"Charles\", 24)\n",
    "\n",
    "person.present"
   ]
  },
  {
   "cell_type": "code",
   "execution_count": 203,
   "metadata": {},
   "outputs": [
    {
     "data": {
      "text/plain": [
       "\"My name is Keith and I am 24 years old\""
      ]
     },
     "execution_count": 203,
     "metadata": {},
     "output_type": "execute_result"
    }
   ],
   "source": [
    "# getters and setters are already defined for you\n",
    "\n",
    "person.name = \"Keith\"\n",
    "\n",
    "person.present"
   ]
  }
 ],
 "metadata": {
  "kernelspec": {
   "display_name": "Ruby 3.0.0",
   "language": "ruby",
   "name": "ruby"
  },
  "language_info": {
   "file_extension": ".rb",
   "mimetype": "application/x-ruby",
   "name": "ruby",
   "version": "3.0.0"
  }
 },
 "nbformat": 4,
 "nbformat_minor": 4
}
